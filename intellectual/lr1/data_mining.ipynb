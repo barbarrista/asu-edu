{
  "nbformat": 4,
  "nbformat_minor": 0,
  "metadata": {
    "colab": {
      "provenance": [],
      "include_colab_link": true
    },
    "kernelspec": {
      "name": "python3",
      "display_name": "Python 3"
    },
    "language_info": {
      "name": "python"
    }
  },
  "cells": [
    {
      "cell_type": "markdown",
      "metadata": {
        "id": "view-in-github",
        "colab_type": "text"
      },
      "source": [
        "<a href=\"https://colab.research.google.com/github/barbarrista/asu-edu/blob/main/intellectual/lr1/data_mining.ipynb\" target=\"_parent\"><img src=\"https://colab.research.google.com/assets/colab-badge.svg\" alt=\"Open In Colab\"/></a>"
      ]
    },
    {
      "cell_type": "markdown",
      "metadata": {
        "id": "3vMPrme4XHcw"
      },
      "source": [
        "# Лабораторная работа №1 по интеллектуальному анализу данных\n",
        "В этой лабораторной работе мы сосредоточимся на использовании библиотек научных вычислений для эффективной обработки, преобразования и управления данными. Кроме того, мы предоставим передовые практики и представим инструменты визуализации для эффективного проведения анализа и визуализации больших данных."
      ]
    },
    {
      "cell_type": "markdown",
      "metadata": {
        "id": "9F65WwvUXHc2"
      },
      "source": [
        "---"
      ]
    },
    {
      "cell_type": "markdown",
      "metadata": {
        "id": "Rrsj1Ys-XHc5"
      },
      "source": [
        "## Введение\n",
        "В этом блокноте мы изучим текстовый, документный набор данных с использованием инструментов научных вычислений, таких как **Pandas** и **Numpy**. Кроме того, будут изучены и подробно объяснены несколько фундаментальных концепций интеллектуального анализа данных, начиная от вычисления мер расстояния и заканчивая вычислением векторов частотности терминов. Где это необходимо, будут предоставлены примеры кода, визуализации и демонстрации. Кроме того, после специальных тем приводятся дополнительные упражнения. Эти упражнения направлены на проверку знаний студентов и стимулируют их к изучению техник, выходящих за рамки, рассмотренных в блокноте."
      ]
    },
    {
      "cell_type": "markdown",
      "metadata": {
        "id": "8qleDFswXHc5"
      },
      "source": [
        "---"
      ]
    },
    {
      "cell_type": "markdown",
      "metadata": {
        "id": "GaMj_V1gXHc_"
      },
      "source": [
        "---"
      ]
    },
    {
      "cell_type": "markdown",
      "metadata": {
        "id": "q424QzTEXHc_"
      },
      "source": [
        "## 1. Данные\n",
        "В этом блокноте мы изучим популярный набор данных 20 новостных групп, первоначально предоставленный [здесь](http://qwone.com/~jason/20Newsgroups/). Набор данных называется \"Twenty Newsgroups\", что означает, что во всем наборе данных доступно 20 категорий новостных статей. Краткое описание набора данных, предоставленное авторами, приведено ниже:\n",
        "\n",
        "- *Набор данных 20 Newsgroups - это коллекция из примерно 20 000 документов новостных групп, разделенных (почти) равномерно по 20 различным новостным группам. Насколько нам известно, он был первоначально собран Кеном Лангом, вероятно, для его статьи «Newsweeder: Learning to filter netnews», хотя он явно не упоминает эту коллекцию. Коллекция 20 новостных групп стала популярным набором данных для экспериментов в текстовых приложениях методов машинного обучения, таких как классификация текста и кластеризация текста.*\n",
        "\n",
        "Если вам нужна дополнительная информация о наборе данных, обратитесь к ссылке, указанной выше. Ниже приведен снимок набора данных, уже преобразованного в таблицу. Имейте в виду, что исходный набор данных не имеет такого красивого формата. Эта работа остается за нами. Это одна из задач, которая будет рассмотрена в этом блокноте: как преобразовать необработанные данные в удобные табличные форматы с помощью Pandas.\n",
        "\n",
        "![atl txt](https://docs.google.com/drawings/d/e/2PACX-1vRd845nNXa1x1Enw6IoEbg-05lB19xG3mfO2BjnpZrloT0pSnY89stBV1gS9Iu6cgRCTq3E5giIT5ZI/pub?w=835&h=550)"
      ]
    },
    {
      "cell_type": "markdown",
      "metadata": {
        "id": "9Q2TU_13XHdA"
      },
      "source": [
        "---"
      ]
    },
    {
      "cell_type": "markdown",
      "metadata": {
        "id": "DkjFhc05XHdA"
      },
      "source": [
        "## 2. Подготовка данных\n",
        "Теперь давайте начнем изучать данные. Исходный набор данных можно найти по ссылке, указанной выше, или вы можете использовать версию, предоставленную [scikit learn](https://scikit-learn.org/stable/). Здесь мы будем использовать версию scikit learn.\n",
        "\n",
        "В этой демонстрации мы рассмотрим только 4 категории. Это означает, что мы не будем использовать полный набор данных, а только его подмножество, которое включает 4 категории, определенные ниже:"
      ]
    },
    {
      "cell_type": "code",
      "execution_count": null,
      "metadata": {
        "id": "71ANq_LyXHdB"
      },
      "outputs": [],
      "source": [
        "# категории\n",
        "categories = ['alt.atheism', 'soc.religion.christian', 'comp.graphics', 'sci.med']"
      ]
    },
    {
      "cell_type": "code",
      "execution_count": null,
      "metadata": {
        "id": "dmBQufHfXHdB"
      },
      "outputs": [],
      "source": [
        "# получить документы, содержащие указанные категории\n",
        "from sklearn.datasets import fetch_20newsgroups\n",
        "\n",
        "twenty_train = fetch_20newsgroups(subset='train', categories=categories, \\\n",
        "                                  shuffle=True, random_state=42)"
      ]
    },
    {
      "cell_type": "markdown",
      "metadata": {
        "id": "kS8b3QTWXHdB"
      },
      "source": [
        "Давайте посмотрим на некоторые записи, содержащиеся в нашем подмножестве данных"
      ]
    },
    {
      "cell_type": "code",
      "execution_count": null,
      "metadata": {
        "id": "Rvp-HGaDXHdC"
      },
      "outputs": [],
      "source": [
        "twenty_train.data[0:2]"
      ]
    },
    {
      "cell_type": "markdown",
      "metadata": {
        "id": "C1QbhB0WXHdD"
      },
      "source": [
        "**Примечание.** `twenty_train` - это просто набор объектов, к которым можно получить доступ как к словарям python; таким образом, вы можете выполнять следующие операции с `twenty_train`:"
      ]
    },
    {
      "cell_type": "code",
      "execution_count": null,
      "metadata": {
        "id": "sCiBBGzqXHdD"
      },
      "outputs": [],
      "source": [
        "twenty_train.target_names"
      ]
    },
    {
      "cell_type": "code",
      "execution_count": null,
      "metadata": {
        "id": "v1scNDUlXHdD"
      },
      "outputs": [],
      "source": [
        "len(twenty_train.data)"
      ]
    },
    {
      "cell_type": "code",
      "execution_count": null,
      "metadata": {
        "id": "0K_B_J46XHdE"
      },
      "outputs": [],
      "source": [
        "len(twenty_train.filenames)"
      ]
    },
    {
      "cell_type": "markdown",
      "metadata": {
        "id": "qOz4DjuvXHdE"
      },
      "source": [
        "#### Мы также можем распечатать пример из подмножества"
      ]
    },
    {
      "cell_type": "code",
      "execution_count": null,
      "metadata": {
        "id": "BFx7QHZPXHdF"
      },
      "outputs": [],
      "source": [
        "# Пример того, что содержит подмножество\n",
        "print(\"\\n\".join(twenty_train.data[0].split(\"\\n\")))"
      ]
    },
    {
      "cell_type": "markdown",
      "metadata": {
        "id": "m7-RDaq-XHdF"
      },
      "source": [
        "... и определить метку примера с помощью значения ключа `target_names`"
      ]
    },
    {
      "cell_type": "code",
      "execution_count": null,
      "metadata": {
        "id": "gahLfOjAXHdF"
      },
      "outputs": [],
      "source": [
        "print(twenty_train.target_names[twenty_train.target[0]])"
      ]
    },
    {
      "cell_type": "code",
      "execution_count": null,
      "metadata": {
        "id": "Oe3GA1thXHdG"
      },
      "outputs": [],
      "source": [
        "twenty_train.target[0]"
      ]
    },
    {
      "cell_type": "markdown",
      "metadata": {
        "id": "2gA5lFZHXHdG"
      },
      "source": [
        "... мы также можем получить категорию 10 документов с помощью значения ключа `target`"
      ]
    },
    {
      "cell_type": "code",
      "execution_count": null,
      "metadata": {
        "id": "wpLBVEA6XHdG"
      },
      "outputs": [],
      "source": [
        "# категории первых 10 документов.\n",
        "twenty_train.target[:10]"
      ]
    },
    {
      "cell_type": "markdown",
      "metadata": {
        "id": "55SBoojHXHdH"
      },
      "source": [
        "**Примечание:** Как вы можете наблюдать, оба подхода выше предоставляют два разных способа получения значения `category` для набора данных. В идеале, мы хотим иметь доступ к обоим типам - числовому и номинальному - в случае, если какая-то конкретная библиотека отдает предпочтение определенному типу.\n",
        "\n",
        "Как вы, возможно, уже заметили, для текущей версии данных также нет **табличного формата**. Как специалисты по интеллектуальному анализу данных, мы заинтересованы в том, чтобы наш набор данных был в максимально удобном формате; что-то, чем мы можем легко манипулировать и что совместимо с нашими алгоритмами и т. д."
      ]
    },
    {
      "cell_type": "markdown",
      "metadata": {
        "id": "Of1DeEsbXHdH"
      },
      "source": [
        "Вот один из способов получить доступ к *текстовой* версии метки подмножества наших обучающих данных:"
      ]
    },
    {
      "cell_type": "code",
      "execution_count": null,
      "metadata": {
        "id": "avk0kk-xXHdH"
      },
      "outputs": [],
      "source": [
        "for t in twenty_train.target[:10]:\n",
        "    print(twenty_train.target_names[t])"
      ]
    },
    {
      "cell_type": "markdown",
      "metadata": {
        "id": "t5ogTyc9XHdI"
      },
      "source": [
        "---"
      ]
    },
    {
      "cell_type": "markdown",
      "metadata": {
        "id": "j05PalHpXHdI"
      },
      "source": [
        "###**>>> Задание 1:**\n",
        "В этом упражнении, пожалуйста, распечатайте *текстовые* данные для первых трех образцов в наборе данных. (См. код выше для справки)"
      ]
    },
    {
      "cell_type": "code",
      "execution_count": null,
      "metadata": {
        "id": "sfi_Q0A_XHdI"
      },
      "outputs": [],
      "source": [
        "# Ответ здесь\n"
      ]
    },
    {
      "cell_type": "markdown",
      "metadata": {
        "id": "-DZOZm7FXHdJ"
      },
      "source": [
        "---"
      ]
    },
    {
      "cell_type": "markdown",
      "metadata": {
        "id": "g079viE0XHdJ"
      },
      "source": [
        "## 3. Преобразование данных\n",
        "Поэтому мы хотим изучить и понять наши данные немного лучше. Прежде чем мы это сделаем, нам определенно нужно применить некоторые преобразования, чтобы наш набор данных был в удобном формате, чтобы мы могли свободно и более эффективно его изучать. К счастью для нас, существуют мощные научные инструменты для преобразования наших данных в этот табличный формат, с которым мы так знакомы. Итак, это то, что мы сделаем в следующем разделе - преобразуем наши данные в хороший табличный формат."
      ]
    },
    {
      "cell_type": "markdown",
      "metadata": {
        "id": "jBX79nwmXHdJ"
      },
      "source": [
        "---"
      ]
    },
    {
      "cell_type": "markdown",
      "metadata": {
        "id": "tl0ZbiTyXHdJ"
      },
      "source": [
        "### 3.1 Преобразование словаря в фрейм данных Pandas\n",
        "Здесь мы покажем вам, как преобразовать объекты словаря в фрейм данных pandas. И, кстати, фрейм данных pandas - это не что иное, как электронная таблица, магически приспособленная для эффективного поиска информации."
      ]
    },
    {
      "cell_type": "code",
      "execution_count": null,
      "metadata": {
        "id": "W8bUWGZxXHdJ"
      },
      "outputs": [],
      "source": [
        "twenty_train.data[0:2]"
      ]
    },
    {
      "cell_type": "code",
      "execution_count": null,
      "metadata": {
        "id": "UA94Tw8XXHdQ"
      },
      "outputs": [],
      "source": [
        "twenty_train.target"
      ]
    },
    {
      "cell_type": "code",
      "source": [
        "import nltk\n",
        "\n",
        "\n",
        "\n",
        "def format_rows(docs):\n",
        "    \"\"\" format the text field and strip special characters \"\"\"\n",
        "    D = []\n",
        "    for d in docs.data:\n",
        "        temp_d = \" \".join(d.split(\"\\n\")).strip('\\n\\t')\n",
        "        D.append([temp_d])\n",
        "    return D\n",
        "\n",
        "def format_labels(target, docs):\n",
        "    \"\"\" format the labels \"\"\"\n",
        "    return docs.target_names[target]\n",
        "\n",
        "def check_missing_values(row):\n",
        "    \"\"\" functions that check and verifies if there are missing values in dataframe \"\"\"\n",
        "    counter = 0\n",
        "    for element in row:\n",
        "        if element == True:\n",
        "            counter+=1\n",
        "    return (\"The amoung of missing records is: \", counter)\n",
        "\n",
        "def tokenize_text(text, remove_stopwords=False):\n",
        "    \"\"\"\n",
        "    Tokenize text using the nltk library\n",
        "    \"\"\"\n",
        "    tokens = []\n",
        "    for d in nltk.sent_tokenize(text, language='english'):\n",
        "        for word in nltk.word_tokenize(d, language='english'):\n",
        "            # filters here\n",
        "            tokens.append(word)\n",
        "    return tokens"
      ],
      "metadata": {
        "id": "8PI3ziAeYSRr"
      },
      "execution_count": null,
      "outputs": []
    },
    {
      "cell_type": "code",
      "execution_count": null,
      "metadata": {
        "id": "JQerciKeXHdQ"
      },
      "outputs": [],
      "source": [
        "import pandas as pd\n",
        "\n",
        "# создать фрейм данных из списка\n",
        "X = pd.DataFrame.from_records(format_rows(twenty_train), columns= ['text'])"
      ]
    },
    {
      "cell_type": "code",
      "execution_count": null,
      "metadata": {
        "id": "zfSuFp1YXHdR"
      },
      "outputs": [],
      "source": [
        "len(X)"
      ]
    },
    {
      "cell_type": "code",
      "execution_count": null,
      "metadata": {
        "id": "had9sBcQXHdR"
      },
      "outputs": [],
      "source": [
        "X[0:2]"
      ]
    },
    {
      "cell_type": "code",
      "execution_count": null,
      "metadata": {
        "id": "_QxbSF_pXHdS"
      },
      "outputs": [],
      "source": [
        "for t in X[\"text\"][:3]:\n",
        "    print(t)"
      ]
    },
    {
      "cell_type": "markdown",
      "metadata": {
        "id": "bIBNot84XHdS"
      },
      "source": [
        "### Добавление столбцов"
      ]
    },
    {
      "cell_type": "markdown",
      "metadata": {
        "id": "cE4m6fq6XHdS"
      },
      "source": [
        "Одним из больших преимуществ фрейма данных pandas является его гибкость. Мы можем добавлять столбцы в текущий набор данных программно с очень небольшим усилием."
      ]
    },
    {
      "cell_type": "code",
      "execution_count": null,
      "metadata": {
        "id": "5ZK2IHMFXHdS"
      },
      "outputs": [],
      "source": [
        "# добавить категорию во фрейм данных\n",
        "X['category'] = twenty_train.target"
      ]
    },
    {
      "cell_type": "code",
      "execution_count": null,
      "metadata": {
        "id": "r01tocgAXHdT"
      },
      "outputs": [],
      "source": [
        "# также добавить метку категории\n",
        "X['category_name'] = X.category.apply(lambda t: format_labels(t, twenty_train))"
      ]
    },
    {
      "cell_type": "markdown",
      "metadata": {
        "id": "UvtTHC3eXHdT"
      },
      "source": [
        "Теперь мы можем распечатать и посмотреть, как выглядит наша таблица."
      ]
    },
    {
      "cell_type": "code",
      "execution_count": null,
      "metadata": {
        "id": "bAlDVWuhXHdT"
      },
      "outputs": [],
      "source": [
        "X[0:10]"
      ]
    },
    {
      "cell_type": "markdown",
      "metadata": {
        "id": "OTlxkw0EXHdT"
      },
      "source": [
        "Отлично! Не правда ли? С этим форматом мы можем легко и эффективно выполнять многие операции, поскольку фреймы данных Pandas предоставляют нам широкий спектр встроенных функций/возможностей. Эти функции - операции, которые можно напрямую и быстро применять к набору данных. Эти операции могут включать стандартные операции, такие как **удаление записей с отсутствующими значениями** и **агрегирование новых полей** в текущую таблицу (далее именуемую фреймом данных), что желательно практически в каждом проекте интеллектуального анализа данных. Вперед, Pandas!"
      ]
    },
    {
      "cell_type": "markdown",
      "metadata": {
        "id": "kPP9k9irXHdU"
      },
      "source": [
        "---"
      ]
    },
    {
      "cell_type": "markdown",
      "metadata": {
        "id": "OtTkN68eXHdU"
      },
      "source": [
        "### 3.2 Знакомство с данными"
      ]
    },
    {
      "cell_type": "markdown",
      "metadata": {
        "id": "e9hsHHIiXHdV"
      },
      "source": [
        "Чтобы начать показывать вам великолепие фреймов данных Pandas, давайте посмотрим, как выполнить простой запрос к нашему набору данных. Мы хотим запросить первые 10 строк (документов), и мы хотим сохранить только атрибуты или поля `text` и `category_name`."
      ]
    },
    {
      "cell_type": "code",
      "execution_count": null,
      "metadata": {
        "id": "94REzxO6XHdV"
      },
      "outputs": [],
      "source": [
        "# простой запрос\n",
        "X[0:10][[\"text\", \"category_name\"]]"
      ]
    },
    {
      "cell_type": "markdown",
      "metadata": {
        "id": "aONKjgCBXHdV"
      },
      "source": [
        "Давайте рассмотрим еще несколько интересных запросов, чтобы ознакомиться с эффективностью и удобством фреймов данных Pandas."
      ]
    },
    {
      "cell_type": "markdown",
      "metadata": {
        "id": "q9upYmd9XHdW"
      },
      "source": [
        "#### Давайте запросим последние 10 записей"
      ]
    },
    {
      "cell_type": "code",
      "execution_count": null,
      "metadata": {
        "id": "QpjI-CGxXHdW"
      },
      "outputs": [],
      "source": [
        "X[-10:]"
      ]
    },
    {
      "cell_type": "markdown",
      "metadata": {
        "id": "eI_b4GP9XHdX"
      },
      "source": [
        "Готовы к некоторым волшебным трюкам? Приготовьтесь! Давайте посмотрим, сможем ли мы запросить каждую 10-ю запись в нашем фрейме данных. Кроме того, наш запрос должен содержать только первые 10 записей. Для этого мы будем использовать встроенную функцию под названием `iloc`. Это позволяет нам запрашивать выборку из нашего набора данных по позиции."
      ]
    },
    {
      "cell_type": "code",
      "execution_count": null,
      "metadata": {
        "id": "YMX2glzrXHdX"
      },
      "outputs": [],
      "source": [
        "# использование loc (по позиции)\n",
        "X.iloc[::10, 0:2][0:10]"
      ]
    },
    {
      "cell_type": "markdown",
      "metadata": {
        "id": "pPmFp8oSXHdX"
      },
      "source": [
        "Вы также можете использовать функцию `loc`, чтобы явно определить столбцы, которые вы хотите запросить. Посмотрите эту [отличную дискуссию](https://stackoverflow.com/questions/28757389/pandas-loc-vs-iloc-vs-ix-vs-at-vs-iat/43968774) о различиях между функциями `iloc` и `loc`."
      ]
    },
    {
      "cell_type": "code",
      "execution_count": null,
      "metadata": {
        "id": "4luJBZVdXHdY"
      },
      "outputs": [],
      "source": [
        "# использование loc (по метке)\n",
        "X.loc[::10, 'text'][0:10]"
      ]
    },
    {
      "cell_type": "code",
      "execution_count": null,
      "metadata": {
        "id": "KYYglmjQXHdY"
      },
      "outputs": [],
      "source": [
        "# стандартный запрос (можно одновременно выбирать строки и столбцы)\n",
        "X[::10][0:10]"
      ]
    },
    {
      "cell_type": "markdown",
      "metadata": {
        "id": "j47F20rTXHdY"
      },
      "source": [
        "###**>>> Задание 2:**\n",
        "Поэкспериментируйте с другими методами запросов, используя фреймы данных pandas. Обратитесь к  [документации](http://pandas.geekwriter.ru/getting_started/index.html) для получения дополнительной информации."
      ]
    },
    {
      "cell_type": "code",
      "execution_count": null,
      "metadata": {
        "id": "xVZWphfcXHdZ"
      },
      "outputs": [],
      "source": [
        "# Ответ здесь\n"
      ]
    },
    {
      "cell_type": "markdown",
      "metadata": {
        "id": "2YFlWl0HXHdZ"
      },
      "source": [
        "---"
      ]
    },
    {
      "cell_type": "markdown",
      "metadata": {
        "id": "jOChhK8yXHdZ"
      },
      "source": [
        "### **>>> Задание 3:**\n",
        "Попробуйте получить записи, принадлежащие категории ```sci.med```, и запросить каждую 10-ю запись. Покажите только первые 5 записей."
      ]
    },
    {
      "cell_type": "code",
      "execution_count": null,
      "metadata": {
        "id": "3css_QR6XHdZ"
      },
      "outputs": [],
      "source": [
        "# Ответ здесь\n"
      ]
    },
    {
      "cell_type": "markdown",
      "metadata": {
        "id": "i8WFf3HGXHda"
      },
      "source": [
        "---"
      ]
    }
  ]
}