{
  "nbformat": 4,
  "nbformat_minor": 0,
  "metadata": {
    "colab": {
      "provenance": [],
      "include_colab_link": true
    },
    "kernelspec": {
      "name": "python3",
      "display_name": "Python 3"
    },
    "language_info": {
      "name": "python"
    }
  },
  "cells": [
    {
      "cell_type": "markdown",
      "metadata": {
        "id": "view-in-github",
        "colab_type": "text"
      },
      "source": [
        "<a href=\"https://colab.research.google.com/github/barbarrista/asu-edu/blob/main/intellectual/lr1/data_mining.ipynb\" target=\"_parent\"><img src=\"https://colab.research.google.com/assets/colab-badge.svg\" alt=\"Open In Colab\"/></a>"
      ]
    },
    {
      "cell_type": "markdown",
      "metadata": {
        "id": "3vMPrme4XHcw"
      },
      "source": [
        "# Лабораторная работа №1 по интеллектуальному анализу данных\n",
        "В этой лабораторной работе мы сосредоточимся на использовании библиотек научных вычислений для эффективной обработки, преобразования и управления данными. Кроме того, мы предоставим передовые практики и представим инструменты визуализации для эффективного проведения анализа и визуализации больших данных."
      ]
    },
    {
      "cell_type": "markdown",
      "metadata": {
        "id": "9F65WwvUXHc2"
      },
      "source": [
        "---"
      ]
    },
    {
      "cell_type": "markdown",
      "metadata": {
        "id": "Rrsj1Ys-XHc5"
      },
      "source": [
        "## Введение\n",
        "В этом блокноте мы изучим текстовый, документный набор данных с использованием инструментов научных вычислений, таких как **Pandas** и **Numpy**. Кроме того, будут изучены и подробно объяснены несколько фундаментальных концепций интеллектуального анализа данных, начиная от вычисления мер расстояния и заканчивая вычислением векторов частотности терминов. Где это необходимо, будут предоставлены примеры кода, визуализации и демонстрации. Кроме того, после специальных тем приводятся дополнительные упражнения. Эти упражнения направлены на проверку знаний студентов и стимулируют их к изучению техник, выходящих за рамки, рассмотренных в блокноте."
      ]
    },
    {
      "cell_type": "markdown",
      "metadata": {
        "id": "8qleDFswXHc5"
      },
      "source": [
        "---"
      ]
    },
    {
      "cell_type": "markdown",
      "metadata": {
        "id": "GaMj_V1gXHc_"
      },
      "source": [
        "---"
      ]
    },
    {
      "cell_type": "markdown",
      "metadata": {
        "id": "q424QzTEXHc_"
      },
      "source": [
        "## 1. Данные\n",
        "В этом блокноте мы изучим популярный набор данных 20 новостных групп, первоначально предоставленный [здесь](http://qwone.com/~jason/20Newsgroups/). Набор данных называется \"Twenty Newsgroups\", что означает, что во всем наборе данных доступно 20 категорий новостных статей. Краткое описание набора данных, предоставленное авторами, приведено ниже:\n",
        "\n",
        "- *Набор данных 20 Newsgroups - это коллекция из примерно 20 000 документов новостных групп, разделенных (почти) равномерно по 20 различным новостным группам. Насколько нам известно, он был первоначально собран Кеном Лангом, вероятно, для его статьи «Newsweeder: Learning to filter netnews», хотя он явно не упоминает эту коллекцию. Коллекция 20 новостных групп стала популярным набором данных для экспериментов в текстовых приложениях методов машинного обучения, таких как классификация текста и кластеризация текста.*\n",
        "\n",
        "Если вам нужна дополнительная информация о наборе данных, обратитесь к ссылке, указанной выше. Ниже приведен снимок набора данных, уже преобразованного в таблицу. Имейте в виду, что исходный набор данных не имеет такого красивого формата. Эта работа остается за нами. Это одна из задач, которая будет рассмотрена в этом блокноте: как преобразовать необработанные данные в удобные табличные форматы с помощью Pandas.\n",
        "\n",
        "![atl txt](https://docs.google.com/drawings/d/e/2PACX-1vRd845nNXa1x1Enw6IoEbg-05lB19xG3mfO2BjnpZrloT0pSnY89stBV1gS9Iu6cgRCTq3E5giIT5ZI/pub?w=835&h=550)"
      ]
    },
    {
      "cell_type": "markdown",
      "metadata": {
        "id": "9Q2TU_13XHdA"
      },
      "source": [
        "---"
      ]
    },
    {
      "cell_type": "markdown",
      "metadata": {
        "id": "DkjFhc05XHdA"
      },
      "source": [
        "## 2. Подготовка данных\n",
        "Теперь давайте начнем изучать данные. Исходный набор данных можно найти по ссылке, указанной выше, или вы можете использовать версию, предоставленную [scikit learn](https://scikit-learn.org/stable/). Здесь мы будем использовать версию scikit learn.\n",
        "\n",
        "В этой демонстрации мы рассмотрим только 4 категории. Это означает, что мы не будем использовать полный набор данных, а только его подмножество, которое включает 4 категории, определенные ниже:"
      ]
    },
    {
      "cell_type": "code",
      "execution_count": 1,
      "metadata": {
        "id": "71ANq_LyXHdB"
      },
      "outputs": [],
      "source": [
        "# категории\n",
        "categories = ['alt.atheism', 'soc.religion.christian', 'comp.graphics', 'sci.med']"
      ]
    },
    {
      "cell_type": "code",
      "execution_count": 12,
      "metadata": {
        "id": "dmBQufHfXHdB"
      },
      "outputs": [],
      "source": [
        "# получить документы, содержащие указанные категории\n",
        "from sklearn.datasets import fetch_20newsgroups\n",
        "\n",
        "twenty_train = fetch_20newsgroups(subset='train', categories=categories, \\\n",
        "                                  shuffle=True, random_state=42)"
      ]
    },
    {
      "cell_type": "markdown",
      "metadata": {
        "id": "kS8b3QTWXHdB"
      },
      "source": [
        "Давайте посмотрим на некоторые записи, содержащиеся в нашем подмножестве данных"
      ]
    },
    {
      "cell_type": "code",
      "execution_count": 3,
      "metadata": {
        "id": "Rvp-HGaDXHdC",
        "colab": {
          "base_uri": "https://localhost:8080/"
        },
        "outputId": "6042e216-8f76-44fe-b370-6e779dfe7a09"
      },
      "outputs": [
        {
          "output_type": "execute_result",
          "data": {
            "text/plain": [
              "['From: sd345@city.ac.uk (Michael Collier)\\nSubject: Converting images to HP LaserJet III?\\nNntp-Posting-Host: hampton\\nOrganization: The City University\\nLines: 14\\n\\nDoes anyone know of a good way (standard PC application/PD utility) to\\nconvert tif/img/tga files into LaserJet III format.  We would also like to\\ndo the same, converting to HPGL (HP plotter) files.\\n\\nPlease email any response.\\n\\nIs this the correct group?\\n\\nThanks in advance.  Michael.\\n-- \\nMichael Collier (Programmer)                 The Computer Unit,\\nEmail: M.P.Collier@uk.ac.city                The City University,\\nTel: 071 477-8000 x3769                      London,\\nFax: 071 477-8565                            EC1V 0HB.\\n',\n",
              " \"From: ani@ms.uky.edu (Aniruddha B. Deglurkar)\\nSubject: help: Splitting a trimming region along a mesh \\nOrganization: University Of Kentucky, Dept. of Math Sciences\\nLines: 28\\n\\n\\n\\n\\tHi,\\n\\n\\tI have a problem, I hope some of the 'gurus' can help me solve.\\n\\n\\tBackground of the problem:\\n\\tI have a rectangular mesh in the uv domain, i.e  the mesh is a \\n\\tmapping of a 3d Bezier patch into 2d. The area in this domain\\n\\twhich is inside a trimming loop had to be rendered. The trimming\\n\\tloop is a set of 2d Bezier curve segments.\\n\\tFor the sake of notation: the mesh is made up of cells.\\n\\n\\tMy problem is this :\\n\\tThe trimming area has to be split up into individual smaller\\n\\tcells bounded by the trimming curve segments. If a cell\\n\\tis wholly inside the area...then it is output as a whole ,\\n\\telse it is trivially rejected. \\n\\n\\tDoes any body know how thiss can be done, or is there any algo. \\n\\tsomewhere for doing this.\\n\\n\\tAny help would be appreciated.\\n\\n\\tThanks, \\n\\tAni.\\n-- \\nTo get irritated is human, to stay cool, divine.\\n\"]"
            ]
          },
          "metadata": {},
          "execution_count": 3
        }
      ],
      "source": [
        "twenty_train.data[0:2]"
      ]
    },
    {
      "cell_type": "markdown",
      "metadata": {
        "id": "C1QbhB0WXHdD"
      },
      "source": [
        "**Примечание.** `twenty_train` - это просто набор объектов, к которым можно получить доступ как к словарям python; таким образом, вы можете выполнять следующие операции с `twenty_train`:"
      ]
    },
    {
      "cell_type": "code",
      "execution_count": 4,
      "metadata": {
        "id": "sCiBBGzqXHdD",
        "colab": {
          "base_uri": "https://localhost:8080/"
        },
        "outputId": "5642a93f-0e77-4e0a-db1b-751200026770"
      },
      "outputs": [
        {
          "output_type": "execute_result",
          "data": {
            "text/plain": [
              "['alt.atheism', 'comp.graphics', 'sci.med', 'soc.religion.christian']"
            ]
          },
          "metadata": {},
          "execution_count": 4
        }
      ],
      "source": [
        "twenty_train.target_names"
      ]
    },
    {
      "cell_type": "code",
      "execution_count": 5,
      "metadata": {
        "id": "v1scNDUlXHdD",
        "colab": {
          "base_uri": "https://localhost:8080/"
        },
        "outputId": "2aa04c07-3d83-41e3-ff71-cb72f6c148f4"
      },
      "outputs": [
        {
          "output_type": "execute_result",
          "data": {
            "text/plain": [
              "2257"
            ]
          },
          "metadata": {},
          "execution_count": 5
        }
      ],
      "source": [
        "len(twenty_train.data)"
      ]
    },
    {
      "cell_type": "code",
      "execution_count": 6,
      "metadata": {
        "id": "0K_B_J46XHdE",
        "colab": {
          "base_uri": "https://localhost:8080/"
        },
        "outputId": "7cc32d35-7626-4e66-ab79-56916758be80"
      },
      "outputs": [
        {
          "output_type": "execute_result",
          "data": {
            "text/plain": [
              "2257"
            ]
          },
          "metadata": {},
          "execution_count": 6
        }
      ],
      "source": [
        "len(twenty_train.filenames)"
      ]
    },
    {
      "cell_type": "markdown",
      "metadata": {
        "id": "qOz4DjuvXHdE"
      },
      "source": [
        "#### Мы также можем распечатать пример из подмножества"
      ]
    },
    {
      "cell_type": "code",
      "execution_count": 7,
      "metadata": {
        "id": "BFx7QHZPXHdF",
        "colab": {
          "base_uri": "https://localhost:8080/"
        },
        "outputId": "3483cbc2-5457-4312-a4df-d60205974d02"
      },
      "outputs": [
        {
          "output_type": "stream",
          "name": "stdout",
          "text": [
            "From: sd345@city.ac.uk (Michael Collier)\n",
            "Subject: Converting images to HP LaserJet III?\n",
            "Nntp-Posting-Host: hampton\n",
            "Organization: The City University\n",
            "Lines: 14\n",
            "\n",
            "Does anyone know of a good way (standard PC application/PD utility) to\n",
            "convert tif/img/tga files into LaserJet III format.  We would also like to\n",
            "do the same, converting to HPGL (HP plotter) files.\n",
            "\n",
            "Please email any response.\n",
            "\n",
            "Is this the correct group?\n",
            "\n",
            "Thanks in advance.  Michael.\n",
            "-- \n",
            "Michael Collier (Programmer)                 The Computer Unit,\n",
            "Email: M.P.Collier@uk.ac.city                The City University,\n",
            "Tel: 071 477-8000 x3769                      London,\n",
            "Fax: 071 477-8565                            EC1V 0HB.\n",
            "\n"
          ]
        }
      ],
      "source": [
        "# Пример того, что содержит подмножество\n",
        "print(\"\\n\".join(twenty_train.data[0].split(\"\\n\")))"
      ]
    },
    {
      "cell_type": "markdown",
      "metadata": {
        "id": "m7-RDaq-XHdF"
      },
      "source": [
        "... и определить метку примера с помощью значения ключа `target_names`"
      ]
    },
    {
      "cell_type": "code",
      "execution_count": 8,
      "metadata": {
        "id": "gahLfOjAXHdF",
        "colab": {
          "base_uri": "https://localhost:8080/"
        },
        "outputId": "28e1309f-ccac-443c-f89c-cb3c8eb29f65"
      },
      "outputs": [
        {
          "output_type": "stream",
          "name": "stdout",
          "text": [
            "comp.graphics\n"
          ]
        }
      ],
      "source": [
        "print(twenty_train.target_names[twenty_train.target[0]])"
      ]
    },
    {
      "cell_type": "code",
      "execution_count": 9,
      "metadata": {
        "id": "Oe3GA1thXHdG",
        "colab": {
          "base_uri": "https://localhost:8080/"
        },
        "outputId": "d574f8ac-8396-4b47-f5b7-6f99083763fc"
      },
      "outputs": [
        {
          "output_type": "execute_result",
          "data": {
            "text/plain": [
              "1"
            ]
          },
          "metadata": {},
          "execution_count": 9
        }
      ],
      "source": [
        "twenty_train.target[0]"
      ]
    },
    {
      "cell_type": "markdown",
      "metadata": {
        "id": "2gA5lFZHXHdG"
      },
      "source": [
        "... мы также можем получить категорию 10 документов с помощью значения ключа `target`"
      ]
    },
    {
      "cell_type": "code",
      "execution_count": 10,
      "metadata": {
        "id": "wpLBVEA6XHdG",
        "colab": {
          "base_uri": "https://localhost:8080/"
        },
        "outputId": "2d49adfe-446a-46b8-dedb-e9327cc08d87"
      },
      "outputs": [
        {
          "output_type": "execute_result",
          "data": {
            "text/plain": [
              "array([1, 1, 3, 3, 3, 3, 3, 2, 2, 2])"
            ]
          },
          "metadata": {},
          "execution_count": 10
        }
      ],
      "source": [
        "# категории первых 10 документов.\n",
        "twenty_train.target[:10]"
      ]
    },
    {
      "cell_type": "markdown",
      "metadata": {
        "id": "55SBoojHXHdH"
      },
      "source": [
        "**Примечание:** Как вы можете наблюдать, оба подхода выше предоставляют два разных способа получения значения `category` для набора данных. В идеале, мы хотим иметь доступ к обоим типам - числовому и номинальному - в случае, если какая-то конкретная библиотека отдает предпочтение определенному типу.\n",
        "\n",
        "Как вы, возможно, уже заметили, для текущей версии данных также нет **табличного формата**. Как специалисты по интеллектуальному анализу данных, мы заинтересованы в том, чтобы наш набор данных был в максимально удобном формате; что-то, чем мы можем легко манипулировать и что совместимо с нашими алгоритмами и т. д."
      ]
    },
    {
      "cell_type": "markdown",
      "metadata": {
        "id": "Of1DeEsbXHdH"
      },
      "source": [
        "Вот один из способов получить доступ к *текстовой* версии метки подмножества наших обучающих данных:"
      ]
    },
    {
      "cell_type": "code",
      "execution_count": 13,
      "metadata": {
        "id": "avk0kk-xXHdH",
        "colab": {
          "base_uri": "https://localhost:8080/"
        },
        "outputId": "44a5c196-897f-4c4c-9485-6707a893b2ae"
      },
      "outputs": [
        {
          "output_type": "stream",
          "name": "stdout",
          "text": [
            "comp.graphics\n",
            "comp.graphics\n",
            "soc.religion.christian\n",
            "soc.religion.christian\n",
            "soc.religion.christian\n",
            "soc.religion.christian\n",
            "soc.religion.christian\n",
            "sci.med\n",
            "sci.med\n",
            "sci.med\n"
          ]
        }
      ],
      "source": [
        "for t in twenty_train.target[:10]:\n",
        "    print(twenty_train.target_names[t])"
      ]
    },
    {
      "cell_type": "markdown",
      "metadata": {
        "id": "t5ogTyc9XHdI"
      },
      "source": [
        "---"
      ]
    },
    {
      "cell_type": "markdown",
      "metadata": {
        "id": "j05PalHpXHdI"
      },
      "source": [
        "###**>>> Задание 1:**\n",
        "В этом упражнении, пожалуйста, распечатайте *текстовые* данные для первых трех образцов в наборе данных. (См. код выше для справки)"
      ]
    },
    {
      "cell_type": "code",
      "execution_count": 16,
      "metadata": {
        "id": "sfi_Q0A_XHdI",
        "colab": {
          "base_uri": "https://localhost:8080/"
        },
        "outputId": "771fe3fe-c3ad-42e2-fc81-440dd2c66bf8"
      },
      "outputs": [
        {
          "output_type": "stream",
          "name": "stdout",
          "text": [
            "Документ №1:\n",
            "From: sd345@city.ac.uk (Michael Collier)\n",
            "Subject: Converting images to HP LaserJet III?\n",
            "Nntp-Posting-Host: hampton\n",
            "Organization: The City University\n",
            "Lines: 14\n",
            "\n",
            "Does anyone know of a good way (standard PC application/PD utility) to\n",
            "convert tif/img/tga files into LaserJet III format.  We would also like to\n",
            "do the same, converting to HPGL (HP plotter) files.\n",
            "\n",
            "Please email any response.\n",
            "\n",
            "Is this the correct group?\n",
            "\n",
            "Thanks in advance.  Michael.\n",
            "-- \n",
            "Michael Collier (Programmer)                 The Computer Unit,\n",
            "Email: M.P.Collier@uk.ac.city                The City University,\n",
            "Tel: 071 477-8000 x3769                      London,\n",
            "Fax: 071 477-8565                            EC1V 0HB.\n",
            "\n",
            "************************************************************************************************************************\n",
            "Документ №2:\n",
            "From: ani@ms.uky.edu (Aniruddha B. Deglurkar)\n",
            "Subject: help: Splitting a trimming region along a mesh \n",
            "Organization: University Of Kentucky, Dept. of Math Sciences\n",
            "Lines: 28\n",
            "\n",
            "\n",
            "\n",
            "\tHi,\n",
            "\n",
            "\tI have a problem, I hope some of the 'gurus' can help me solve.\n",
            "\n",
            "\tBackground of the problem:\n",
            "\tI have a rectangular mesh in the uv domain, i.e  the mesh is a \n",
            "\tmapping of a 3d Bezier patch into 2d. The area in this domain\n",
            "\twhich is inside a trimming loop had to be rendered. The trimming\n",
            "\tloop is a set of 2d Bezier curve segments.\n",
            "\tFor the sake of notation: the mesh is made up of cells.\n",
            "\n",
            "\tMy problem is this :\n",
            "\tThe trimming area has to be split up into individual smaller\n",
            "\tcells bounded by the trimming curve segments. If a cell\n",
            "\tis wholly inside the area...then it is output as a whole ,\n",
            "\telse it is trivially rejected. \n",
            "\n",
            "\tDoes any body know how thiss can be done, or is there any algo. \n",
            "\tsomewhere for doing this.\n",
            "\n",
            "\tAny help would be appreciated.\n",
            "\n",
            "\tThanks, \n",
            "\tAni.\n",
            "-- \n",
            "To get irritated is human, to stay cool, divine.\n",
            "\n",
            "************************************************************************************************************************\n",
            "Документ №3:\n",
            "From: djohnson@cs.ucsd.edu (Darin Johnson)\n",
            "Subject: Re: harrassed at work, could use some prayers\n",
            "Organization: =CSE Dept., U.C. San Diego\n",
            "Lines: 63\n",
            "\n",
            "(Well, I'll email also, but this may apply to other people, so\n",
            "I'll post also.)\n",
            "\n",
            ">I've been working at this company for eight years in various\n",
            ">engineering jobs.  I'm female.  Yesterday I counted and realized that\n",
            ">on seven different occasions I've been sexually harrassed at this\n",
            ">company.\n",
            "\n",
            ">I dreaded coming back to work today.  What if my boss comes in to ask\n",
            ">me some kind of question...\n",
            "\n",
            "Your boss should be the person bring these problems to.  If he/she\n",
            "does not seem to take any action, keep going up higher and higher.\n",
            "Sexual harrassment does not need to be tolerated, and it can be an\n",
            "enormous emotional support to discuss this with someone and know that\n",
            "they are trying to do something about it.  If you feel you can not\n",
            "discuss this with your boss, perhaps your company has a personnel\n",
            "department that can work for you while preserving your privacy.  Most\n",
            "companies will want to deal with this problem because constant anxiety\n",
            "does seriously affect how effectively employees do their jobs.\n",
            "\n",
            "It is unclear from your letter if you have done this or not.  It is\n",
            "not inconceivable that management remains ignorant of employee\n",
            "problems/strife even after eight years (it's a miracle if they do\n",
            "notice).  Perhaps your manager did not bring to the attention of\n",
            "higher ups?  If the company indeed does seem to want to ignore the\n",
            "entire problem, there may be a state agency willing to fight with\n",
            "you.  (check with a lawyer, a women's resource center, etc to find out)\n",
            "\n",
            "You may also want to discuss this with your paster, priest, husband,\n",
            "etc.  That is, someone you know will not be judgemental and that is\n",
            "supportive, comforting, etc.  This will bring a lot of healing.\n",
            "\n",
            ">So I returned at 11:25, only to find that ever single\n",
            ">person had already left for lunch.  They left at 11:15 or so.  No one\n",
            ">could be bothered to call me at the other building, even though my\n",
            ">number was posted.\n",
            "\n",
            "This happens to a lot of people.  Honest.  I believe it may seem\n",
            "to be due to gross insensitivity because of the feelings you are\n",
            "going through.  People in offices tend to be more insensitive while\n",
            "working than they normally are (maybe it's the hustle or stress or...)\n",
            "I've had this happen to me a lot, often because they didn't realize\n",
            "my car was broken, etc.  Then they will come back and wonder why I\n",
            "didn't want to go (this would tend to make me stop being angry at\n",
            "being ignored and make me laugh).  Once, we went off without our\n",
            "boss, who was paying for the lunch :-)\n",
            "\n",
            ">For this\n",
            ">reason I hope good Mr. Moderator allows me this latest indulgence.\n",
            "\n",
            "Well, if you can't turn to the computer for support, what would\n",
            "we do?  (signs of the computer age :-)\n",
            "\n",
            "In closing, please don't let the hateful actions of a single person\n",
            "harm you.  They are doing it because they are still the playground\n",
            "bully and enjoy seeing the hurt they cause.  And you should not\n",
            "accept the opinions of an imbecile that you are worthless - much\n",
            "wiser people hold you in great esteem.\n",
            "-- \n",
            "Darin Johnson\n",
            "djohnson@ucsd.edu\n",
            "  - Luxury!  In MY day, we had to make do with 5 bytes of swap...\n",
            "\n",
            "************************************************************************************************************************\n"
          ]
        }
      ],
      "source": [
        "# Ответ здесь\n",
        "for i in range(3):\n",
        "    print(f\"Документ №{i + 1}:\")\n",
        "    print(twenty_train.data[i])\n",
        "    print(\"*\" * 120)"
      ]
    },
    {
      "cell_type": "markdown",
      "metadata": {
        "id": "-DZOZm7FXHdJ"
      },
      "source": [
        "---"
      ]
    },
    {
      "cell_type": "markdown",
      "metadata": {
        "id": "g079viE0XHdJ"
      },
      "source": [
        "## 3. Преобразование данных\n",
        "Поэтому мы хотим изучить и понять наши данные немного лучше. Прежде чем мы это сделаем, нам определенно нужно применить некоторые преобразования, чтобы наш набор данных был в удобном формате, чтобы мы могли свободно и более эффективно его изучать. К счастью для нас, существуют мощные научные инструменты для преобразования наших данных в этот табличный формат, с которым мы так знакомы. Итак, это то, что мы сделаем в следующем разделе - преобразуем наши данные в хороший табличный формат."
      ]
    },
    {
      "cell_type": "markdown",
      "metadata": {
        "id": "jBX79nwmXHdJ"
      },
      "source": [
        "---"
      ]
    },
    {
      "cell_type": "markdown",
      "metadata": {
        "id": "tl0ZbiTyXHdJ"
      },
      "source": [
        "### 3.1 Преобразование словаря в фрейм данных Pandas\n",
        "Здесь мы покажем вам, как преобразовать объекты словаря в фрейм данных pandas. И, кстати, фрейм данных pandas - это не что иное, как электронная таблица, магически приспособленная для эффективного поиска информации."
      ]
    },
    {
      "cell_type": "code",
      "execution_count": 17,
      "metadata": {
        "id": "W8bUWGZxXHdJ",
        "colab": {
          "base_uri": "https://localhost:8080/"
        },
        "outputId": "04ae99d0-f74c-4ad7-84ef-b25986eb987d"
      },
      "outputs": [
        {
          "output_type": "execute_result",
          "data": {
            "text/plain": [
              "['From: sd345@city.ac.uk (Michael Collier)\\nSubject: Converting images to HP LaserJet III?\\nNntp-Posting-Host: hampton\\nOrganization: The City University\\nLines: 14\\n\\nDoes anyone know of a good way (standard PC application/PD utility) to\\nconvert tif/img/tga files into LaserJet III format.  We would also like to\\ndo the same, converting to HPGL (HP plotter) files.\\n\\nPlease email any response.\\n\\nIs this the correct group?\\n\\nThanks in advance.  Michael.\\n-- \\nMichael Collier (Programmer)                 The Computer Unit,\\nEmail: M.P.Collier@uk.ac.city                The City University,\\nTel: 071 477-8000 x3769                      London,\\nFax: 071 477-8565                            EC1V 0HB.\\n',\n",
              " \"From: ani@ms.uky.edu (Aniruddha B. Deglurkar)\\nSubject: help: Splitting a trimming region along a mesh \\nOrganization: University Of Kentucky, Dept. of Math Sciences\\nLines: 28\\n\\n\\n\\n\\tHi,\\n\\n\\tI have a problem, I hope some of the 'gurus' can help me solve.\\n\\n\\tBackground of the problem:\\n\\tI have a rectangular mesh in the uv domain, i.e  the mesh is a \\n\\tmapping of a 3d Bezier patch into 2d. The area in this domain\\n\\twhich is inside a trimming loop had to be rendered. The trimming\\n\\tloop is a set of 2d Bezier curve segments.\\n\\tFor the sake of notation: the mesh is made up of cells.\\n\\n\\tMy problem is this :\\n\\tThe trimming area has to be split up into individual smaller\\n\\tcells bounded by the trimming curve segments. If a cell\\n\\tis wholly inside the area...then it is output as a whole ,\\n\\telse it is trivially rejected. \\n\\n\\tDoes any body know how thiss can be done, or is there any algo. \\n\\tsomewhere for doing this.\\n\\n\\tAny help would be appreciated.\\n\\n\\tThanks, \\n\\tAni.\\n-- \\nTo get irritated is human, to stay cool, divine.\\n\"]"
            ]
          },
          "metadata": {},
          "execution_count": 17
        }
      ],
      "source": [
        "twenty_train.data[0:2]"
      ]
    },
    {
      "cell_type": "code",
      "execution_count": 18,
      "metadata": {
        "id": "UA94Tw8XXHdQ",
        "colab": {
          "base_uri": "https://localhost:8080/"
        },
        "outputId": "314bc904-39b6-4f09-dbf2-d03b13f1b6c7"
      },
      "outputs": [
        {
          "output_type": "execute_result",
          "data": {
            "text/plain": [
              "array([1, 1, 3, ..., 2, 2, 2])"
            ]
          },
          "metadata": {},
          "execution_count": 18
        }
      ],
      "source": [
        "twenty_train.target"
      ]
    },
    {
      "cell_type": "code",
      "source": [
        "import nltk\n",
        "\n",
        "\n",
        "\n",
        "def format_rows(docs):\n",
        "    \"\"\" format the text field and strip special characters \"\"\"\n",
        "    D = []\n",
        "    for d in docs.data:\n",
        "        temp_d = \" \".join(d.split(\"\\n\")).strip('\\n\\t')\n",
        "        D.append([temp_d])\n",
        "    return D\n",
        "\n",
        "def format_labels(target, docs):\n",
        "    \"\"\" format the labels \"\"\"\n",
        "    return docs.target_names[target]\n",
        "\n",
        "def check_missing_values(row):\n",
        "    \"\"\" functions that check and verifies if there are missing values in dataframe \"\"\"\n",
        "    counter = 0\n",
        "    for element in row:\n",
        "        if element == True:\n",
        "            counter+=1\n",
        "    return (\"The amoung of missing records is: \", counter)\n",
        "\n",
        "def tokenize_text(text, remove_stopwords=False):\n",
        "    \"\"\"\n",
        "    Tokenize text using the nltk library\n",
        "    \"\"\"\n",
        "    tokens = []\n",
        "    for d in nltk.sent_tokenize(text, language='english'):\n",
        "        for word in nltk.word_tokenize(d, language='english'):\n",
        "            # filters here\n",
        "            tokens.append(word)\n",
        "    return tokens"
      ],
      "metadata": {
        "id": "8PI3ziAeYSRr"
      },
      "execution_count": 19,
      "outputs": []
    },
    {
      "cell_type": "code",
      "execution_count": 32,
      "metadata": {
        "id": "JQerciKeXHdQ"
      },
      "outputs": [],
      "source": [
        "import pandas as pd\n",
        "\n",
        "# создать фрейм данных из списка\n",
        "X = pd.DataFrame.from_records(format_rows(twenty_train), columns= ['text'])"
      ]
    },
    {
      "cell_type": "code",
      "execution_count": 21,
      "metadata": {
        "id": "zfSuFp1YXHdR",
        "colab": {
          "base_uri": "https://localhost:8080/"
        },
        "outputId": "ed47996a-1498-4c4f-874f-abb4cce63385"
      },
      "outputs": [
        {
          "output_type": "execute_result",
          "data": {
            "text/plain": [
              "2257"
            ]
          },
          "metadata": {},
          "execution_count": 21
        }
      ],
      "source": [
        "len(X)"
      ]
    },
    {
      "cell_type": "code",
      "execution_count": 22,
      "metadata": {
        "id": "had9sBcQXHdR",
        "colab": {
          "base_uri": "https://localhost:8080/",
          "height": 112
        },
        "outputId": "b62255f1-5bf1-425f-e298-2c8df9e9b87d"
      },
      "outputs": [
        {
          "output_type": "execute_result",
          "data": {
            "text/plain": [
              "                                                text\n",
              "0  From: sd345@city.ac.uk (Michael Collier) Subje...\n",
              "1  From: ani@ms.uky.edu (Aniruddha B. Deglurkar) ..."
            ],
            "text/html": [
              "\n",
              "  <div id=\"df-5ef2cdb4-6fb9-425c-8ad9-fb31a70da66f\" class=\"colab-df-container\">\n",
              "    <div>\n",
              "<style scoped>\n",
              "    .dataframe tbody tr th:only-of-type {\n",
              "        vertical-align: middle;\n",
              "    }\n",
              "\n",
              "    .dataframe tbody tr th {\n",
              "        vertical-align: top;\n",
              "    }\n",
              "\n",
              "    .dataframe thead th {\n",
              "        text-align: right;\n",
              "    }\n",
              "</style>\n",
              "<table border=\"1\" class=\"dataframe\">\n",
              "  <thead>\n",
              "    <tr style=\"text-align: right;\">\n",
              "      <th></th>\n",
              "      <th>text</th>\n",
              "    </tr>\n",
              "  </thead>\n",
              "  <tbody>\n",
              "    <tr>\n",
              "      <th>0</th>\n",
              "      <td>From: sd345@city.ac.uk (Michael Collier) Subje...</td>\n",
              "    </tr>\n",
              "    <tr>\n",
              "      <th>1</th>\n",
              "      <td>From: ani@ms.uky.edu (Aniruddha B. Deglurkar) ...</td>\n",
              "    </tr>\n",
              "  </tbody>\n",
              "</table>\n",
              "</div>\n",
              "    <div class=\"colab-df-buttons\">\n",
              "\n",
              "  <div class=\"colab-df-container\">\n",
              "    <button class=\"colab-df-convert\" onclick=\"convertToInteractive('df-5ef2cdb4-6fb9-425c-8ad9-fb31a70da66f')\"\n",
              "            title=\"Convert this dataframe to an interactive table.\"\n",
              "            style=\"display:none;\">\n",
              "\n",
              "  <svg xmlns=\"http://www.w3.org/2000/svg\" height=\"24px\" viewBox=\"0 -960 960 960\">\n",
              "    <path d=\"M120-120v-720h720v720H120Zm60-500h600v-160H180v160Zm220 220h160v-160H400v160Zm0 220h160v-160H400v160ZM180-400h160v-160H180v160Zm440 0h160v-160H620v160ZM180-180h160v-160H180v160Zm440 0h160v-160H620v160Z\"/>\n",
              "  </svg>\n",
              "    </button>\n",
              "\n",
              "  <style>\n",
              "    .colab-df-container {\n",
              "      display:flex;\n",
              "      gap: 12px;\n",
              "    }\n",
              "\n",
              "    .colab-df-convert {\n",
              "      background-color: #E8F0FE;\n",
              "      border: none;\n",
              "      border-radius: 50%;\n",
              "      cursor: pointer;\n",
              "      display: none;\n",
              "      fill: #1967D2;\n",
              "      height: 32px;\n",
              "      padding: 0 0 0 0;\n",
              "      width: 32px;\n",
              "    }\n",
              "\n",
              "    .colab-df-convert:hover {\n",
              "      background-color: #E2EBFA;\n",
              "      box-shadow: 0px 1px 2px rgba(60, 64, 67, 0.3), 0px 1px 3px 1px rgba(60, 64, 67, 0.15);\n",
              "      fill: #174EA6;\n",
              "    }\n",
              "\n",
              "    .colab-df-buttons div {\n",
              "      margin-bottom: 4px;\n",
              "    }\n",
              "\n",
              "    [theme=dark] .colab-df-convert {\n",
              "      background-color: #3B4455;\n",
              "      fill: #D2E3FC;\n",
              "    }\n",
              "\n",
              "    [theme=dark] .colab-df-convert:hover {\n",
              "      background-color: #434B5C;\n",
              "      box-shadow: 0px 1px 3px 1px rgba(0, 0, 0, 0.15);\n",
              "      filter: drop-shadow(0px 1px 2px rgba(0, 0, 0, 0.3));\n",
              "      fill: #FFFFFF;\n",
              "    }\n",
              "  </style>\n",
              "\n",
              "    <script>\n",
              "      const buttonEl =\n",
              "        document.querySelector('#df-5ef2cdb4-6fb9-425c-8ad9-fb31a70da66f button.colab-df-convert');\n",
              "      buttonEl.style.display =\n",
              "        google.colab.kernel.accessAllowed ? 'block' : 'none';\n",
              "\n",
              "      async function convertToInteractive(key) {\n",
              "        const element = document.querySelector('#df-5ef2cdb4-6fb9-425c-8ad9-fb31a70da66f');\n",
              "        const dataTable =\n",
              "          await google.colab.kernel.invokeFunction('convertToInteractive',\n",
              "                                                    [key], {});\n",
              "        if (!dataTable) return;\n",
              "\n",
              "        const docLinkHtml = 'Like what you see? Visit the ' +\n",
              "          '<a target=\"_blank\" href=https://colab.research.google.com/notebooks/data_table.ipynb>data table notebook</a>'\n",
              "          + ' to learn more about interactive tables.';\n",
              "        element.innerHTML = '';\n",
              "        dataTable['output_type'] = 'display_data';\n",
              "        await google.colab.output.renderOutput(dataTable, element);\n",
              "        const docLink = document.createElement('div');\n",
              "        docLink.innerHTML = docLinkHtml;\n",
              "        element.appendChild(docLink);\n",
              "      }\n",
              "    </script>\n",
              "  </div>\n",
              "\n",
              "\n",
              "<div id=\"df-d2556d90-685f-4a1b-9b05-890a3c634052\">\n",
              "  <button class=\"colab-df-quickchart\" onclick=\"quickchart('df-d2556d90-685f-4a1b-9b05-890a3c634052')\"\n",
              "            title=\"Suggest charts\"\n",
              "            style=\"display:none;\">\n",
              "\n",
              "<svg xmlns=\"http://www.w3.org/2000/svg\" height=\"24px\"viewBox=\"0 0 24 24\"\n",
              "     width=\"24px\">\n",
              "    <g>\n",
              "        <path d=\"M19 3H5c-1.1 0-2 .9-2 2v14c0 1.1.9 2 2 2h14c1.1 0 2-.9 2-2V5c0-1.1-.9-2-2-2zM9 17H7v-7h2v7zm4 0h-2V7h2v10zm4 0h-2v-4h2v4z\"/>\n",
              "    </g>\n",
              "</svg>\n",
              "  </button>\n",
              "\n",
              "<style>\n",
              "  .colab-df-quickchart {\n",
              "      --bg-color: #E8F0FE;\n",
              "      --fill-color: #1967D2;\n",
              "      --hover-bg-color: #E2EBFA;\n",
              "      --hover-fill-color: #174EA6;\n",
              "      --disabled-fill-color: #AAA;\n",
              "      --disabled-bg-color: #DDD;\n",
              "  }\n",
              "\n",
              "  [theme=dark] .colab-df-quickchart {\n",
              "      --bg-color: #3B4455;\n",
              "      --fill-color: #D2E3FC;\n",
              "      --hover-bg-color: #434B5C;\n",
              "      --hover-fill-color: #FFFFFF;\n",
              "      --disabled-bg-color: #3B4455;\n",
              "      --disabled-fill-color: #666;\n",
              "  }\n",
              "\n",
              "  .colab-df-quickchart {\n",
              "    background-color: var(--bg-color);\n",
              "    border: none;\n",
              "    border-radius: 50%;\n",
              "    cursor: pointer;\n",
              "    display: none;\n",
              "    fill: var(--fill-color);\n",
              "    height: 32px;\n",
              "    padding: 0;\n",
              "    width: 32px;\n",
              "  }\n",
              "\n",
              "  .colab-df-quickchart:hover {\n",
              "    background-color: var(--hover-bg-color);\n",
              "    box-shadow: 0 1px 2px rgba(60, 64, 67, 0.3), 0 1px 3px 1px rgba(60, 64, 67, 0.15);\n",
              "    fill: var(--button-hover-fill-color);\n",
              "  }\n",
              "\n",
              "  .colab-df-quickchart-complete:disabled,\n",
              "  .colab-df-quickchart-complete:disabled:hover {\n",
              "    background-color: var(--disabled-bg-color);\n",
              "    fill: var(--disabled-fill-color);\n",
              "    box-shadow: none;\n",
              "  }\n",
              "\n",
              "  .colab-df-spinner {\n",
              "    border: 2px solid var(--fill-color);\n",
              "    border-color: transparent;\n",
              "    border-bottom-color: var(--fill-color);\n",
              "    animation:\n",
              "      spin 1s steps(1) infinite;\n",
              "  }\n",
              "\n",
              "  @keyframes spin {\n",
              "    0% {\n",
              "      border-color: transparent;\n",
              "      border-bottom-color: var(--fill-color);\n",
              "      border-left-color: var(--fill-color);\n",
              "    }\n",
              "    20% {\n",
              "      border-color: transparent;\n",
              "      border-left-color: var(--fill-color);\n",
              "      border-top-color: var(--fill-color);\n",
              "    }\n",
              "    30% {\n",
              "      border-color: transparent;\n",
              "      border-left-color: var(--fill-color);\n",
              "      border-top-color: var(--fill-color);\n",
              "      border-right-color: var(--fill-color);\n",
              "    }\n",
              "    40% {\n",
              "      border-color: transparent;\n",
              "      border-right-color: var(--fill-color);\n",
              "      border-top-color: var(--fill-color);\n",
              "    }\n",
              "    60% {\n",
              "      border-color: transparent;\n",
              "      border-right-color: var(--fill-color);\n",
              "    }\n",
              "    80% {\n",
              "      border-color: transparent;\n",
              "      border-right-color: var(--fill-color);\n",
              "      border-bottom-color: var(--fill-color);\n",
              "    }\n",
              "    90% {\n",
              "      border-color: transparent;\n",
              "      border-bottom-color: var(--fill-color);\n",
              "    }\n",
              "  }\n",
              "</style>\n",
              "\n",
              "  <script>\n",
              "    async function quickchart(key) {\n",
              "      const quickchartButtonEl =\n",
              "        document.querySelector('#' + key + ' button');\n",
              "      quickchartButtonEl.disabled = true;  // To prevent multiple clicks.\n",
              "      quickchartButtonEl.classList.add('colab-df-spinner');\n",
              "      try {\n",
              "        const charts = await google.colab.kernel.invokeFunction(\n",
              "            'suggestCharts', [key], {});\n",
              "      } catch (error) {\n",
              "        console.error('Error during call to suggestCharts:', error);\n",
              "      }\n",
              "      quickchartButtonEl.classList.remove('colab-df-spinner');\n",
              "      quickchartButtonEl.classList.add('colab-df-quickchart-complete');\n",
              "    }\n",
              "    (() => {\n",
              "      let quickchartButtonEl =\n",
              "        document.querySelector('#df-d2556d90-685f-4a1b-9b05-890a3c634052 button');\n",
              "      quickchartButtonEl.style.display =\n",
              "        google.colab.kernel.accessAllowed ? 'block' : 'none';\n",
              "    })();\n",
              "  </script>\n",
              "</div>\n",
              "\n",
              "    </div>\n",
              "  </div>\n"
            ],
            "application/vnd.google.colaboratory.intrinsic+json": {
              "type": "dataframe",
              "summary": "{\n  \"name\": \"X[0:2]\",\n  \"rows\": 2,\n  \"fields\": [\n    {\n      \"column\": \"text\",\n      \"properties\": {\n        \"dtype\": \"string\",\n        \"num_unique_values\": 2,\n        \"samples\": [\n          \"From: ani@ms.uky.edu (Aniruddha B. Deglurkar) Subject: help: Splitting a trimming region along a mesh  Organization: University Of Kentucky, Dept. of Math Sciences Lines: 28    \\tHi,  \\tI have a problem, I hope some of the 'gurus' can help me solve.  \\tBackground of the problem: \\tI have a rectangular mesh in the uv domain, i.e  the mesh is a  \\tmapping of a 3d Bezier patch into 2d. The area in this domain \\twhich is inside a trimming loop had to be rendered. The trimming \\tloop is a set of 2d Bezier curve segments. \\tFor the sake of notation: the mesh is made up of cells.  \\tMy problem is this : \\tThe trimming area has to be split up into individual smaller \\tcells bounded by the trimming curve segments. If a cell \\tis wholly inside the area...then it is output as a whole , \\telse it is trivially rejected.   \\tDoes any body know how thiss can be done, or is there any algo.  \\tsomewhere for doing this.  \\tAny help would be appreciated.  \\tThanks,  \\tAni. --  To get irritated is human, to stay cool, divine. \",\n          \"From: sd345@city.ac.uk (Michael Collier) Subject: Converting images to HP LaserJet III? Nntp-Posting-Host: hampton Organization: The City University Lines: 14  Does anyone know of a good way (standard PC application/PD utility) to convert tif/img/tga files into LaserJet III format.  We would also like to do the same, converting to HPGL (HP plotter) files.  Please email any response.  Is this the correct group?  Thanks in advance.  Michael. --  Michael Collier (Programmer)                 The Computer Unit, Email: M.P.Collier@uk.ac.city                The City University, Tel: 071 477-8000 x3769                      London, Fax: 071 477-8565                            EC1V 0HB. \"\n        ],\n        \"semantic_type\": \"\",\n        \"description\": \"\"\n      }\n    }\n  ]\n}"
            }
          },
          "metadata": {},
          "execution_count": 22
        }
      ],
      "source": [
        "X[0:2]"
      ]
    },
    {
      "cell_type": "code",
      "execution_count": 23,
      "metadata": {
        "id": "_QxbSF_pXHdS",
        "colab": {
          "base_uri": "https://localhost:8080/"
        },
        "outputId": "0b8fb70d-f6d4-4eb0-8e3a-b9d9c1923f31"
      },
      "outputs": [
        {
          "output_type": "stream",
          "name": "stdout",
          "text": [
            "From: sd345@city.ac.uk (Michael Collier) Subject: Converting images to HP LaserJet III? Nntp-Posting-Host: hampton Organization: The City University Lines: 14  Does anyone know of a good way (standard PC application/PD utility) to convert tif/img/tga files into LaserJet III format.  We would also like to do the same, converting to HPGL (HP plotter) files.  Please email any response.  Is this the correct group?  Thanks in advance.  Michael. --  Michael Collier (Programmer)                 The Computer Unit, Email: M.P.Collier@uk.ac.city                The City University, Tel: 071 477-8000 x3769                      London, Fax: 071 477-8565                            EC1V 0HB. \n",
            "From: ani@ms.uky.edu (Aniruddha B. Deglurkar) Subject: help: Splitting a trimming region along a mesh  Organization: University Of Kentucky, Dept. of Math Sciences Lines: 28    \tHi,  \tI have a problem, I hope some of the 'gurus' can help me solve.  \tBackground of the problem: \tI have a rectangular mesh in the uv domain, i.e  the mesh is a  \tmapping of a 3d Bezier patch into 2d. The area in this domain \twhich is inside a trimming loop had to be rendered. The trimming \tloop is a set of 2d Bezier curve segments. \tFor the sake of notation: the mesh is made up of cells.  \tMy problem is this : \tThe trimming area has to be split up into individual smaller \tcells bounded by the trimming curve segments. If a cell \tis wholly inside the area...then it is output as a whole , \telse it is trivially rejected.   \tDoes any body know how thiss can be done, or is there any algo.  \tsomewhere for doing this.  \tAny help would be appreciated.  \tThanks,  \tAni. --  To get irritated is human, to stay cool, divine. \n",
            "From: djohnson@cs.ucsd.edu (Darin Johnson) Subject: Re: harrassed at work, could use some prayers Organization: =CSE Dept., U.C. San Diego Lines: 63  (Well, I'll email also, but this may apply to other people, so I'll post also.)  >I've been working at this company for eight years in various >engineering jobs.  I'm female.  Yesterday I counted and realized that >on seven different occasions I've been sexually harrassed at this >company.  >I dreaded coming back to work today.  What if my boss comes in to ask >me some kind of question...  Your boss should be the person bring these problems to.  If he/she does not seem to take any action, keep going up higher and higher. Sexual harrassment does not need to be tolerated, and it can be an enormous emotional support to discuss this with someone and know that they are trying to do something about it.  If you feel you can not discuss this with your boss, perhaps your company has a personnel department that can work for you while preserving your privacy.  Most companies will want to deal with this problem because constant anxiety does seriously affect how effectively employees do their jobs.  It is unclear from your letter if you have done this or not.  It is not inconceivable that management remains ignorant of employee problems/strife even after eight years (it's a miracle if they do notice).  Perhaps your manager did not bring to the attention of higher ups?  If the company indeed does seem to want to ignore the entire problem, there may be a state agency willing to fight with you.  (check with a lawyer, a women's resource center, etc to find out)  You may also want to discuss this with your paster, priest, husband, etc.  That is, someone you know will not be judgemental and that is supportive, comforting, etc.  This will bring a lot of healing.  >So I returned at 11:25, only to find that ever single >person had already left for lunch.  They left at 11:15 or so.  No one >could be bothered to call me at the other building, even though my >number was posted.  This happens to a lot of people.  Honest.  I believe it may seem to be due to gross insensitivity because of the feelings you are going through.  People in offices tend to be more insensitive while working than they normally are (maybe it's the hustle or stress or...) I've had this happen to me a lot, often because they didn't realize my car was broken, etc.  Then they will come back and wonder why I didn't want to go (this would tend to make me stop being angry at being ignored and make me laugh).  Once, we went off without our boss, who was paying for the lunch :-)  >For this >reason I hope good Mr. Moderator allows me this latest indulgence.  Well, if you can't turn to the computer for support, what would we do?  (signs of the computer age :-)  In closing, please don't let the hateful actions of a single person harm you.  They are doing it because they are still the playground bully and enjoy seeing the hurt they cause.  And you should not accept the opinions of an imbecile that you are worthless - much wiser people hold you in great esteem. --  Darin Johnson djohnson@ucsd.edu   - Luxury!  In MY day, we had to make do with 5 bytes of swap... \n"
          ]
        }
      ],
      "source": [
        "for t in X[\"text\"][:3]:\n",
        "    print(t)"
      ]
    },
    {
      "cell_type": "markdown",
      "metadata": {
        "id": "bIBNot84XHdS"
      },
      "source": [
        "### Добавление столбцов"
      ]
    },
    {
      "cell_type": "markdown",
      "metadata": {
        "id": "cE4m6fq6XHdS"
      },
      "source": [
        "Одним из больших преимуществ фрейма данных pandas является его гибкость. Мы можем добавлять столбцы в текущий набор данных программно с очень небольшим усилием."
      ]
    },
    {
      "cell_type": "code",
      "execution_count": 37,
      "metadata": {
        "id": "5ZK2IHMFXHdS"
      },
      "outputs": [],
      "source": [
        "# добавить категорию во фрейм данных\n",
        "X['category'] = twenty_train.target"
      ]
    },
    {
      "cell_type": "code",
      "execution_count": 38,
      "metadata": {
        "id": "r01tocgAXHdT"
      },
      "outputs": [],
      "source": [
        "# также добавить метку категории\n",
        "X['category_name'] = X.category.apply(lambda t: format_labels(t, twenty_train))"
      ]
    },
    {
      "cell_type": "markdown",
      "metadata": {
        "id": "UvtTHC3eXHdT"
      },
      "source": [
        "Теперь мы можем распечатать и посмотреть, как выглядит наша таблица."
      ]
    },
    {
      "cell_type": "code",
      "execution_count": 39,
      "metadata": {
        "id": "bAlDVWuhXHdT",
        "colab": {
          "base_uri": "https://localhost:8080/",
          "height": 363
        },
        "outputId": "465b82f2-1fb4-4a8b-dc8a-10f4c19be6e7"
      },
      "outputs": [
        {
          "output_type": "execute_result",
          "data": {
            "text/plain": [
              "                                                text  category  \\\n",
              "0  From: sd345@city.ac.uk (Michael Collier) Subje...         1   \n",
              "1  From: ani@ms.uky.edu (Aniruddha B. Deglurkar) ...         1   \n",
              "2  From: djohnson@cs.ucsd.edu (Darin Johnson) Sub...         3   \n",
              "3  From: s0612596@let.rug.nl (M.M. Zwart) Subject...         3   \n",
              "4  From: stanly@grok11.columbiasc.ncr.com (stanly...         3   \n",
              "5  From: vbv@lor.eeap.cwru.edu (Virgilio (Dean) B...         3   \n",
              "6  From: jodfishe@silver.ucs.indiana.edu (joseph ...         3   \n",
              "7  From: aldridge@netcom.com (Jacquelin Aldridge)...         2   \n",
              "8  From: geb@cs.pitt.edu (Gordon Banks) Subject: ...         2   \n",
              "9  From: libman@hsc.usc.edu (Marlena Libman) Subj...         2   \n",
              "\n",
              "            category_name  \n",
              "0           comp.graphics  \n",
              "1           comp.graphics  \n",
              "2  soc.religion.christian  \n",
              "3  soc.religion.christian  \n",
              "4  soc.religion.christian  \n",
              "5  soc.religion.christian  \n",
              "6  soc.religion.christian  \n",
              "7                 sci.med  \n",
              "8                 sci.med  \n",
              "9                 sci.med  "
            ],
            "text/html": [
              "\n",
              "  <div id=\"df-b47c7866-b34d-47a5-8cd7-56e6981cc7e2\" class=\"colab-df-container\">\n",
              "    <div>\n",
              "<style scoped>\n",
              "    .dataframe tbody tr th:only-of-type {\n",
              "        vertical-align: middle;\n",
              "    }\n",
              "\n",
              "    .dataframe tbody tr th {\n",
              "        vertical-align: top;\n",
              "    }\n",
              "\n",
              "    .dataframe thead th {\n",
              "        text-align: right;\n",
              "    }\n",
              "</style>\n",
              "<table border=\"1\" class=\"dataframe\">\n",
              "  <thead>\n",
              "    <tr style=\"text-align: right;\">\n",
              "      <th></th>\n",
              "      <th>text</th>\n",
              "      <th>category</th>\n",
              "      <th>category_name</th>\n",
              "    </tr>\n",
              "  </thead>\n",
              "  <tbody>\n",
              "    <tr>\n",
              "      <th>0</th>\n",
              "      <td>From: sd345@city.ac.uk (Michael Collier) Subje...</td>\n",
              "      <td>1</td>\n",
              "      <td>comp.graphics</td>\n",
              "    </tr>\n",
              "    <tr>\n",
              "      <th>1</th>\n",
              "      <td>From: ani@ms.uky.edu (Aniruddha B. Deglurkar) ...</td>\n",
              "      <td>1</td>\n",
              "      <td>comp.graphics</td>\n",
              "    </tr>\n",
              "    <tr>\n",
              "      <th>2</th>\n",
              "      <td>From: djohnson@cs.ucsd.edu (Darin Johnson) Sub...</td>\n",
              "      <td>3</td>\n",
              "      <td>soc.religion.christian</td>\n",
              "    </tr>\n",
              "    <tr>\n",
              "      <th>3</th>\n",
              "      <td>From: s0612596@let.rug.nl (M.M. Zwart) Subject...</td>\n",
              "      <td>3</td>\n",
              "      <td>soc.religion.christian</td>\n",
              "    </tr>\n",
              "    <tr>\n",
              "      <th>4</th>\n",
              "      <td>From: stanly@grok11.columbiasc.ncr.com (stanly...</td>\n",
              "      <td>3</td>\n",
              "      <td>soc.religion.christian</td>\n",
              "    </tr>\n",
              "    <tr>\n",
              "      <th>5</th>\n",
              "      <td>From: vbv@lor.eeap.cwru.edu (Virgilio (Dean) B...</td>\n",
              "      <td>3</td>\n",
              "      <td>soc.religion.christian</td>\n",
              "    </tr>\n",
              "    <tr>\n",
              "      <th>6</th>\n",
              "      <td>From: jodfishe@silver.ucs.indiana.edu (joseph ...</td>\n",
              "      <td>3</td>\n",
              "      <td>soc.religion.christian</td>\n",
              "    </tr>\n",
              "    <tr>\n",
              "      <th>7</th>\n",
              "      <td>From: aldridge@netcom.com (Jacquelin Aldridge)...</td>\n",
              "      <td>2</td>\n",
              "      <td>sci.med</td>\n",
              "    </tr>\n",
              "    <tr>\n",
              "      <th>8</th>\n",
              "      <td>From: geb@cs.pitt.edu (Gordon Banks) Subject: ...</td>\n",
              "      <td>2</td>\n",
              "      <td>sci.med</td>\n",
              "    </tr>\n",
              "    <tr>\n",
              "      <th>9</th>\n",
              "      <td>From: libman@hsc.usc.edu (Marlena Libman) Subj...</td>\n",
              "      <td>2</td>\n",
              "      <td>sci.med</td>\n",
              "    </tr>\n",
              "  </tbody>\n",
              "</table>\n",
              "</div>\n",
              "    <div class=\"colab-df-buttons\">\n",
              "\n",
              "  <div class=\"colab-df-container\">\n",
              "    <button class=\"colab-df-convert\" onclick=\"convertToInteractive('df-b47c7866-b34d-47a5-8cd7-56e6981cc7e2')\"\n",
              "            title=\"Convert this dataframe to an interactive table.\"\n",
              "            style=\"display:none;\">\n",
              "\n",
              "  <svg xmlns=\"http://www.w3.org/2000/svg\" height=\"24px\" viewBox=\"0 -960 960 960\">\n",
              "    <path d=\"M120-120v-720h720v720H120Zm60-500h600v-160H180v160Zm220 220h160v-160H400v160Zm0 220h160v-160H400v160ZM180-400h160v-160H180v160Zm440 0h160v-160H620v160ZM180-180h160v-160H180v160Zm440 0h160v-160H620v160Z\"/>\n",
              "  </svg>\n",
              "    </button>\n",
              "\n",
              "  <style>\n",
              "    .colab-df-container {\n",
              "      display:flex;\n",
              "      gap: 12px;\n",
              "    }\n",
              "\n",
              "    .colab-df-convert {\n",
              "      background-color: #E8F0FE;\n",
              "      border: none;\n",
              "      border-radius: 50%;\n",
              "      cursor: pointer;\n",
              "      display: none;\n",
              "      fill: #1967D2;\n",
              "      height: 32px;\n",
              "      padding: 0 0 0 0;\n",
              "      width: 32px;\n",
              "    }\n",
              "\n",
              "    .colab-df-convert:hover {\n",
              "      background-color: #E2EBFA;\n",
              "      box-shadow: 0px 1px 2px rgba(60, 64, 67, 0.3), 0px 1px 3px 1px rgba(60, 64, 67, 0.15);\n",
              "      fill: #174EA6;\n",
              "    }\n",
              "\n",
              "    .colab-df-buttons div {\n",
              "      margin-bottom: 4px;\n",
              "    }\n",
              "\n",
              "    [theme=dark] .colab-df-convert {\n",
              "      background-color: #3B4455;\n",
              "      fill: #D2E3FC;\n",
              "    }\n",
              "\n",
              "    [theme=dark] .colab-df-convert:hover {\n",
              "      background-color: #434B5C;\n",
              "      box-shadow: 0px 1px 3px 1px rgba(0, 0, 0, 0.15);\n",
              "      filter: drop-shadow(0px 1px 2px rgba(0, 0, 0, 0.3));\n",
              "      fill: #FFFFFF;\n",
              "    }\n",
              "  </style>\n",
              "\n",
              "    <script>\n",
              "      const buttonEl =\n",
              "        document.querySelector('#df-b47c7866-b34d-47a5-8cd7-56e6981cc7e2 button.colab-df-convert');\n",
              "      buttonEl.style.display =\n",
              "        google.colab.kernel.accessAllowed ? 'block' : 'none';\n",
              "\n",
              "      async function convertToInteractive(key) {\n",
              "        const element = document.querySelector('#df-b47c7866-b34d-47a5-8cd7-56e6981cc7e2');\n",
              "        const dataTable =\n",
              "          await google.colab.kernel.invokeFunction('convertToInteractive',\n",
              "                                                    [key], {});\n",
              "        if (!dataTable) return;\n",
              "\n",
              "        const docLinkHtml = 'Like what you see? Visit the ' +\n",
              "          '<a target=\"_blank\" href=https://colab.research.google.com/notebooks/data_table.ipynb>data table notebook</a>'\n",
              "          + ' to learn more about interactive tables.';\n",
              "        element.innerHTML = '';\n",
              "        dataTable['output_type'] = 'display_data';\n",
              "        await google.colab.output.renderOutput(dataTable, element);\n",
              "        const docLink = document.createElement('div');\n",
              "        docLink.innerHTML = docLinkHtml;\n",
              "        element.appendChild(docLink);\n",
              "      }\n",
              "    </script>\n",
              "  </div>\n",
              "\n",
              "\n",
              "<div id=\"df-de37d8ec-ad2d-438d-b652-024bbecddfd6\">\n",
              "  <button class=\"colab-df-quickchart\" onclick=\"quickchart('df-de37d8ec-ad2d-438d-b652-024bbecddfd6')\"\n",
              "            title=\"Suggest charts\"\n",
              "            style=\"display:none;\">\n",
              "\n",
              "<svg xmlns=\"http://www.w3.org/2000/svg\" height=\"24px\"viewBox=\"0 0 24 24\"\n",
              "     width=\"24px\">\n",
              "    <g>\n",
              "        <path d=\"M19 3H5c-1.1 0-2 .9-2 2v14c0 1.1.9 2 2 2h14c1.1 0 2-.9 2-2V5c0-1.1-.9-2-2-2zM9 17H7v-7h2v7zm4 0h-2V7h2v10zm4 0h-2v-4h2v4z\"/>\n",
              "    </g>\n",
              "</svg>\n",
              "  </button>\n",
              "\n",
              "<style>\n",
              "  .colab-df-quickchart {\n",
              "      --bg-color: #E8F0FE;\n",
              "      --fill-color: #1967D2;\n",
              "      --hover-bg-color: #E2EBFA;\n",
              "      --hover-fill-color: #174EA6;\n",
              "      --disabled-fill-color: #AAA;\n",
              "      --disabled-bg-color: #DDD;\n",
              "  }\n",
              "\n",
              "  [theme=dark] .colab-df-quickchart {\n",
              "      --bg-color: #3B4455;\n",
              "      --fill-color: #D2E3FC;\n",
              "      --hover-bg-color: #434B5C;\n",
              "      --hover-fill-color: #FFFFFF;\n",
              "      --disabled-bg-color: #3B4455;\n",
              "      --disabled-fill-color: #666;\n",
              "  }\n",
              "\n",
              "  .colab-df-quickchart {\n",
              "    background-color: var(--bg-color);\n",
              "    border: none;\n",
              "    border-radius: 50%;\n",
              "    cursor: pointer;\n",
              "    display: none;\n",
              "    fill: var(--fill-color);\n",
              "    height: 32px;\n",
              "    padding: 0;\n",
              "    width: 32px;\n",
              "  }\n",
              "\n",
              "  .colab-df-quickchart:hover {\n",
              "    background-color: var(--hover-bg-color);\n",
              "    box-shadow: 0 1px 2px rgba(60, 64, 67, 0.3), 0 1px 3px 1px rgba(60, 64, 67, 0.15);\n",
              "    fill: var(--button-hover-fill-color);\n",
              "  }\n",
              "\n",
              "  .colab-df-quickchart-complete:disabled,\n",
              "  .colab-df-quickchart-complete:disabled:hover {\n",
              "    background-color: var(--disabled-bg-color);\n",
              "    fill: var(--disabled-fill-color);\n",
              "    box-shadow: none;\n",
              "  }\n",
              "\n",
              "  .colab-df-spinner {\n",
              "    border: 2px solid var(--fill-color);\n",
              "    border-color: transparent;\n",
              "    border-bottom-color: var(--fill-color);\n",
              "    animation:\n",
              "      spin 1s steps(1) infinite;\n",
              "  }\n",
              "\n",
              "  @keyframes spin {\n",
              "    0% {\n",
              "      border-color: transparent;\n",
              "      border-bottom-color: var(--fill-color);\n",
              "      border-left-color: var(--fill-color);\n",
              "    }\n",
              "    20% {\n",
              "      border-color: transparent;\n",
              "      border-left-color: var(--fill-color);\n",
              "      border-top-color: var(--fill-color);\n",
              "    }\n",
              "    30% {\n",
              "      border-color: transparent;\n",
              "      border-left-color: var(--fill-color);\n",
              "      border-top-color: var(--fill-color);\n",
              "      border-right-color: var(--fill-color);\n",
              "    }\n",
              "    40% {\n",
              "      border-color: transparent;\n",
              "      border-right-color: var(--fill-color);\n",
              "      border-top-color: var(--fill-color);\n",
              "    }\n",
              "    60% {\n",
              "      border-color: transparent;\n",
              "      border-right-color: var(--fill-color);\n",
              "    }\n",
              "    80% {\n",
              "      border-color: transparent;\n",
              "      border-right-color: var(--fill-color);\n",
              "      border-bottom-color: var(--fill-color);\n",
              "    }\n",
              "    90% {\n",
              "      border-color: transparent;\n",
              "      border-bottom-color: var(--fill-color);\n",
              "    }\n",
              "  }\n",
              "</style>\n",
              "\n",
              "  <script>\n",
              "    async function quickchart(key) {\n",
              "      const quickchartButtonEl =\n",
              "        document.querySelector('#' + key + ' button');\n",
              "      quickchartButtonEl.disabled = true;  // To prevent multiple clicks.\n",
              "      quickchartButtonEl.classList.add('colab-df-spinner');\n",
              "      try {\n",
              "        const charts = await google.colab.kernel.invokeFunction(\n",
              "            'suggestCharts', [key], {});\n",
              "      } catch (error) {\n",
              "        console.error('Error during call to suggestCharts:', error);\n",
              "      }\n",
              "      quickchartButtonEl.classList.remove('colab-df-spinner');\n",
              "      quickchartButtonEl.classList.add('colab-df-quickchart-complete');\n",
              "    }\n",
              "    (() => {\n",
              "      let quickchartButtonEl =\n",
              "        document.querySelector('#df-de37d8ec-ad2d-438d-b652-024bbecddfd6 button');\n",
              "      quickchartButtonEl.style.display =\n",
              "        google.colab.kernel.accessAllowed ? 'block' : 'none';\n",
              "    })();\n",
              "  </script>\n",
              "</div>\n",
              "\n",
              "    </div>\n",
              "  </div>\n"
            ],
            "application/vnd.google.colaboratory.intrinsic+json": {
              "type": "dataframe",
              "summary": "{\n  \"name\": \"X[0:10]\",\n  \"rows\": 10,\n  \"fields\": [\n    {\n      \"column\": \"text\",\n      \"properties\": {\n        \"dtype\": \"string\",\n        \"num_unique_values\": 10,\n        \"samples\": [\n          \"From: geb@cs.pitt.edu (Gordon Banks) Subject: Re: Blindsight Reply-To: geb@cs.pitt.edu (Gordon Banks) Organization: Univ. of Pittsburgh Computer Science Lines: 18  In article <werner-240393161954@tol7mac15.soe.berkeley.edu> werner@soe.berkeley.edu (John Werner) writes: >In article <19213@pitt.UUCP>, geb@cs.pitt.edu (Gordon Banks) wrote: >>  >> Explain.  I thought there were 3 types of cones, equivalent to RGB. > >You're basically right, but I think there are just 2 types.  One is >sensitive to red and green, and the other is sensitive to blue and yellow.  >This is why the two most common kinds of color-blindness are red-green and >blue-yellow. >  Yes, I remember that now.  Well, in that case, the cones are indeed color sensitive, contrary to what the original respondent had claimed. --  ---------------------------------------------------------------------------- Gordon Banks  N3JXP      | \\\"Skepticism is the chastity of the intellect, and geb@cadre.dsl.pitt.edu   |  it is shameful to surrender it too soon.\\\"  ---------------------------------------------------------------------------- \",\n          \"From: ani@ms.uky.edu (Aniruddha B. Deglurkar) Subject: help: Splitting a trimming region along a mesh  Organization: University Of Kentucky, Dept. of Math Sciences Lines: 28    \\tHi,  \\tI have a problem, I hope some of the 'gurus' can help me solve.  \\tBackground of the problem: \\tI have a rectangular mesh in the uv domain, i.e  the mesh is a  \\tmapping of a 3d Bezier patch into 2d. The area in this domain \\twhich is inside a trimming loop had to be rendered. The trimming \\tloop is a set of 2d Bezier curve segments. \\tFor the sake of notation: the mesh is made up of cells.  \\tMy problem is this : \\tThe trimming area has to be split up into individual smaller \\tcells bounded by the trimming curve segments. If a cell \\tis wholly inside the area...then it is output as a whole , \\telse it is trivially rejected.   \\tDoes any body know how thiss can be done, or is there any algo.  \\tsomewhere for doing this.  \\tAny help would be appreciated.  \\tThanks,  \\tAni. --  To get irritated is human, to stay cool, divine. \",\n          \"From: vbv@lor.eeap.cwru.edu (Virgilio (Dean) B. Velasco Jr.) Subject: Re: The arrogance of Christians Organization: Case Western Reserve Univ. Cleveland, Ohio (USA) Lines: 28  In article <Apr.22.00.56.15.1993.2073@geneva.rutgers.edu> hayesstw@risc1.unisa.ac.za (Steve Hayes) writes:  >A similar analogy might be a medical doctor who believes that a blood  >transfusion is necessary to save the life of a child whose parents are  >Jehovah's Witnesses and so have conscientious objections to blood  >transfusion. The doctor's efforts to persuade them to agree to a blood  >transfusion could be perceived to be arrogant in precisely the same way as  >Christians could be perceived to be arrogant.  >The truth or otherwise of the belief that a blood transfusion is necessary  >to save the life of the child is irrelevant here. What matters is that the  >doctor BELIEVES it to be true, and could be seen to be trying to foce his  >beliefs on the parents, and this could well be perceived as arrogance.  Let me carry that a step further.  Most doctors would not claim to be  infallible.  Indeed, they would generally admit that they could conceivably be wrong, e.g. that in this case, a blood tranfusion might not turn out to  be necessary after all.  However, the doctors would have enough confidence and conviction to claim, out of genuine concern, that is IS necessary.  As fallible human beings, they must acknowledge the possibility that they are wrong.  However, they would also say that such doubts are not reasonable, and stand by their convictions.  --  Virgilio \\\"Dean\\\" Velasco Jr, Department of Electrical Eng'g and Applied Physics  \\t CWRU graduate student, roboticist-in-training and Q wannabee     \\\"Bullwinkle, that man's intimidating a referee!\\\"   |    My boss is a     \\\"Not very well.  He doesn't look like one at all!\\\"  |  Jewish carpenter. \"\n        ],\n        \"semantic_type\": \"\",\n        \"description\": \"\"\n      }\n    },\n    {\n      \"column\": \"category\",\n      \"properties\": {\n        \"dtype\": \"number\",\n        \"std\": 0,\n        \"min\": 1,\n        \"max\": 3,\n        \"num_unique_values\": 3,\n        \"samples\": [\n          1,\n          3,\n          2\n        ],\n        \"semantic_type\": \"\",\n        \"description\": \"\"\n      }\n    },\n    {\n      \"column\": \"category_name\",\n      \"properties\": {\n        \"dtype\": \"category\",\n        \"num_unique_values\": 3,\n        \"samples\": [\n          \"comp.graphics\",\n          \"soc.religion.christian\",\n          \"sci.med\"\n        ],\n        \"semantic_type\": \"\",\n        \"description\": \"\"\n      }\n    }\n  ]\n}"
            }
          },
          "metadata": {},
          "execution_count": 39
        }
      ],
      "source": [
        "X[0:10]"
      ]
    },
    {
      "cell_type": "markdown",
      "metadata": {
        "id": "OTlxkw0EXHdT"
      },
      "source": [
        "Отлично! Не правда ли? С этим форматом мы можем легко и эффективно выполнять многие операции, поскольку фреймы данных Pandas предоставляют нам широкий спектр встроенных функций/возможностей. Эти функции - операции, которые можно напрямую и быстро применять к набору данных. Эти операции могут включать стандартные операции, такие как **удаление записей с отсутствующими значениями** и **агрегирование новых полей** в текущую таблицу (далее именуемую фреймом данных), что желательно практически в каждом проекте интеллектуального анализа данных. Вперед, Pandas!"
      ]
    },
    {
      "cell_type": "markdown",
      "metadata": {
        "id": "kPP9k9irXHdU"
      },
      "source": [
        "---"
      ]
    },
    {
      "cell_type": "markdown",
      "metadata": {
        "id": "OtTkN68eXHdU"
      },
      "source": [
        "### 3.2 Знакомство с данными"
      ]
    },
    {
      "cell_type": "markdown",
      "metadata": {
        "id": "e9hsHHIiXHdV"
      },
      "source": [
        "Чтобы начать показывать вам великолепие фреймов данных Pandas, давайте посмотрим, как выполнить простой запрос к нашему набору данных. Мы хотим запросить первые 10 строк (документов), и мы хотим сохранить только атрибуты или поля `text` и `category_name`."
      ]
    },
    {
      "cell_type": "code",
      "execution_count": 40,
      "metadata": {
        "id": "94REzxO6XHdV",
        "colab": {
          "base_uri": "https://localhost:8080/",
          "height": 363
        },
        "outputId": "16e7382f-cd5f-42ff-ae31-109075d534c5"
      },
      "outputs": [
        {
          "output_type": "execute_result",
          "data": {
            "text/plain": [
              "                                                text           category_name\n",
              "0  From: sd345@city.ac.uk (Michael Collier) Subje...           comp.graphics\n",
              "1  From: ani@ms.uky.edu (Aniruddha B. Deglurkar) ...           comp.graphics\n",
              "2  From: djohnson@cs.ucsd.edu (Darin Johnson) Sub...  soc.religion.christian\n",
              "3  From: s0612596@let.rug.nl (M.M. Zwart) Subject...  soc.religion.christian\n",
              "4  From: stanly@grok11.columbiasc.ncr.com (stanly...  soc.religion.christian\n",
              "5  From: vbv@lor.eeap.cwru.edu (Virgilio (Dean) B...  soc.religion.christian\n",
              "6  From: jodfishe@silver.ucs.indiana.edu (joseph ...  soc.religion.christian\n",
              "7  From: aldridge@netcom.com (Jacquelin Aldridge)...                 sci.med\n",
              "8  From: geb@cs.pitt.edu (Gordon Banks) Subject: ...                 sci.med\n",
              "9  From: libman@hsc.usc.edu (Marlena Libman) Subj...                 sci.med"
            ],
            "text/html": [
              "\n",
              "  <div id=\"df-69c70a40-6131-4963-a7e2-51ef6115c84f\" class=\"colab-df-container\">\n",
              "    <div>\n",
              "<style scoped>\n",
              "    .dataframe tbody tr th:only-of-type {\n",
              "        vertical-align: middle;\n",
              "    }\n",
              "\n",
              "    .dataframe tbody tr th {\n",
              "        vertical-align: top;\n",
              "    }\n",
              "\n",
              "    .dataframe thead th {\n",
              "        text-align: right;\n",
              "    }\n",
              "</style>\n",
              "<table border=\"1\" class=\"dataframe\">\n",
              "  <thead>\n",
              "    <tr style=\"text-align: right;\">\n",
              "      <th></th>\n",
              "      <th>text</th>\n",
              "      <th>category_name</th>\n",
              "    </tr>\n",
              "  </thead>\n",
              "  <tbody>\n",
              "    <tr>\n",
              "      <th>0</th>\n",
              "      <td>From: sd345@city.ac.uk (Michael Collier) Subje...</td>\n",
              "      <td>comp.graphics</td>\n",
              "    </tr>\n",
              "    <tr>\n",
              "      <th>1</th>\n",
              "      <td>From: ani@ms.uky.edu (Aniruddha B. Deglurkar) ...</td>\n",
              "      <td>comp.graphics</td>\n",
              "    </tr>\n",
              "    <tr>\n",
              "      <th>2</th>\n",
              "      <td>From: djohnson@cs.ucsd.edu (Darin Johnson) Sub...</td>\n",
              "      <td>soc.religion.christian</td>\n",
              "    </tr>\n",
              "    <tr>\n",
              "      <th>3</th>\n",
              "      <td>From: s0612596@let.rug.nl (M.M. Zwart) Subject...</td>\n",
              "      <td>soc.religion.christian</td>\n",
              "    </tr>\n",
              "    <tr>\n",
              "      <th>4</th>\n",
              "      <td>From: stanly@grok11.columbiasc.ncr.com (stanly...</td>\n",
              "      <td>soc.religion.christian</td>\n",
              "    </tr>\n",
              "    <tr>\n",
              "      <th>5</th>\n",
              "      <td>From: vbv@lor.eeap.cwru.edu (Virgilio (Dean) B...</td>\n",
              "      <td>soc.religion.christian</td>\n",
              "    </tr>\n",
              "    <tr>\n",
              "      <th>6</th>\n",
              "      <td>From: jodfishe@silver.ucs.indiana.edu (joseph ...</td>\n",
              "      <td>soc.religion.christian</td>\n",
              "    </tr>\n",
              "    <tr>\n",
              "      <th>7</th>\n",
              "      <td>From: aldridge@netcom.com (Jacquelin Aldridge)...</td>\n",
              "      <td>sci.med</td>\n",
              "    </tr>\n",
              "    <tr>\n",
              "      <th>8</th>\n",
              "      <td>From: geb@cs.pitt.edu (Gordon Banks) Subject: ...</td>\n",
              "      <td>sci.med</td>\n",
              "    </tr>\n",
              "    <tr>\n",
              "      <th>9</th>\n",
              "      <td>From: libman@hsc.usc.edu (Marlena Libman) Subj...</td>\n",
              "      <td>sci.med</td>\n",
              "    </tr>\n",
              "  </tbody>\n",
              "</table>\n",
              "</div>\n",
              "    <div class=\"colab-df-buttons\">\n",
              "\n",
              "  <div class=\"colab-df-container\">\n",
              "    <button class=\"colab-df-convert\" onclick=\"convertToInteractive('df-69c70a40-6131-4963-a7e2-51ef6115c84f')\"\n",
              "            title=\"Convert this dataframe to an interactive table.\"\n",
              "            style=\"display:none;\">\n",
              "\n",
              "  <svg xmlns=\"http://www.w3.org/2000/svg\" height=\"24px\" viewBox=\"0 -960 960 960\">\n",
              "    <path d=\"M120-120v-720h720v720H120Zm60-500h600v-160H180v160Zm220 220h160v-160H400v160Zm0 220h160v-160H400v160ZM180-400h160v-160H180v160Zm440 0h160v-160H620v160ZM180-180h160v-160H180v160Zm440 0h160v-160H620v160Z\"/>\n",
              "  </svg>\n",
              "    </button>\n",
              "\n",
              "  <style>\n",
              "    .colab-df-container {\n",
              "      display:flex;\n",
              "      gap: 12px;\n",
              "    }\n",
              "\n",
              "    .colab-df-convert {\n",
              "      background-color: #E8F0FE;\n",
              "      border: none;\n",
              "      border-radius: 50%;\n",
              "      cursor: pointer;\n",
              "      display: none;\n",
              "      fill: #1967D2;\n",
              "      height: 32px;\n",
              "      padding: 0 0 0 0;\n",
              "      width: 32px;\n",
              "    }\n",
              "\n",
              "    .colab-df-convert:hover {\n",
              "      background-color: #E2EBFA;\n",
              "      box-shadow: 0px 1px 2px rgba(60, 64, 67, 0.3), 0px 1px 3px 1px rgba(60, 64, 67, 0.15);\n",
              "      fill: #174EA6;\n",
              "    }\n",
              "\n",
              "    .colab-df-buttons div {\n",
              "      margin-bottom: 4px;\n",
              "    }\n",
              "\n",
              "    [theme=dark] .colab-df-convert {\n",
              "      background-color: #3B4455;\n",
              "      fill: #D2E3FC;\n",
              "    }\n",
              "\n",
              "    [theme=dark] .colab-df-convert:hover {\n",
              "      background-color: #434B5C;\n",
              "      box-shadow: 0px 1px 3px 1px rgba(0, 0, 0, 0.15);\n",
              "      filter: drop-shadow(0px 1px 2px rgba(0, 0, 0, 0.3));\n",
              "      fill: #FFFFFF;\n",
              "    }\n",
              "  </style>\n",
              "\n",
              "    <script>\n",
              "      const buttonEl =\n",
              "        document.querySelector('#df-69c70a40-6131-4963-a7e2-51ef6115c84f button.colab-df-convert');\n",
              "      buttonEl.style.display =\n",
              "        google.colab.kernel.accessAllowed ? 'block' : 'none';\n",
              "\n",
              "      async function convertToInteractive(key) {\n",
              "        const element = document.querySelector('#df-69c70a40-6131-4963-a7e2-51ef6115c84f');\n",
              "        const dataTable =\n",
              "          await google.colab.kernel.invokeFunction('convertToInteractive',\n",
              "                                                    [key], {});\n",
              "        if (!dataTable) return;\n",
              "\n",
              "        const docLinkHtml = 'Like what you see? Visit the ' +\n",
              "          '<a target=\"_blank\" href=https://colab.research.google.com/notebooks/data_table.ipynb>data table notebook</a>'\n",
              "          + ' to learn more about interactive tables.';\n",
              "        element.innerHTML = '';\n",
              "        dataTable['output_type'] = 'display_data';\n",
              "        await google.colab.output.renderOutput(dataTable, element);\n",
              "        const docLink = document.createElement('div');\n",
              "        docLink.innerHTML = docLinkHtml;\n",
              "        element.appendChild(docLink);\n",
              "      }\n",
              "    </script>\n",
              "  </div>\n",
              "\n",
              "\n",
              "<div id=\"df-a5dd7e66-ab31-4116-bc31-1d5d10095ed7\">\n",
              "  <button class=\"colab-df-quickchart\" onclick=\"quickchart('df-a5dd7e66-ab31-4116-bc31-1d5d10095ed7')\"\n",
              "            title=\"Suggest charts\"\n",
              "            style=\"display:none;\">\n",
              "\n",
              "<svg xmlns=\"http://www.w3.org/2000/svg\" height=\"24px\"viewBox=\"0 0 24 24\"\n",
              "     width=\"24px\">\n",
              "    <g>\n",
              "        <path d=\"M19 3H5c-1.1 0-2 .9-2 2v14c0 1.1.9 2 2 2h14c1.1 0 2-.9 2-2V5c0-1.1-.9-2-2-2zM9 17H7v-7h2v7zm4 0h-2V7h2v10zm4 0h-2v-4h2v4z\"/>\n",
              "    </g>\n",
              "</svg>\n",
              "  </button>\n",
              "\n",
              "<style>\n",
              "  .colab-df-quickchart {\n",
              "      --bg-color: #E8F0FE;\n",
              "      --fill-color: #1967D2;\n",
              "      --hover-bg-color: #E2EBFA;\n",
              "      --hover-fill-color: #174EA6;\n",
              "      --disabled-fill-color: #AAA;\n",
              "      --disabled-bg-color: #DDD;\n",
              "  }\n",
              "\n",
              "  [theme=dark] .colab-df-quickchart {\n",
              "      --bg-color: #3B4455;\n",
              "      --fill-color: #D2E3FC;\n",
              "      --hover-bg-color: #434B5C;\n",
              "      --hover-fill-color: #FFFFFF;\n",
              "      --disabled-bg-color: #3B4455;\n",
              "      --disabled-fill-color: #666;\n",
              "  }\n",
              "\n",
              "  .colab-df-quickchart {\n",
              "    background-color: var(--bg-color);\n",
              "    border: none;\n",
              "    border-radius: 50%;\n",
              "    cursor: pointer;\n",
              "    display: none;\n",
              "    fill: var(--fill-color);\n",
              "    height: 32px;\n",
              "    padding: 0;\n",
              "    width: 32px;\n",
              "  }\n",
              "\n",
              "  .colab-df-quickchart:hover {\n",
              "    background-color: var(--hover-bg-color);\n",
              "    box-shadow: 0 1px 2px rgba(60, 64, 67, 0.3), 0 1px 3px 1px rgba(60, 64, 67, 0.15);\n",
              "    fill: var(--button-hover-fill-color);\n",
              "  }\n",
              "\n",
              "  .colab-df-quickchart-complete:disabled,\n",
              "  .colab-df-quickchart-complete:disabled:hover {\n",
              "    background-color: var(--disabled-bg-color);\n",
              "    fill: var(--disabled-fill-color);\n",
              "    box-shadow: none;\n",
              "  }\n",
              "\n",
              "  .colab-df-spinner {\n",
              "    border: 2px solid var(--fill-color);\n",
              "    border-color: transparent;\n",
              "    border-bottom-color: var(--fill-color);\n",
              "    animation:\n",
              "      spin 1s steps(1) infinite;\n",
              "  }\n",
              "\n",
              "  @keyframes spin {\n",
              "    0% {\n",
              "      border-color: transparent;\n",
              "      border-bottom-color: var(--fill-color);\n",
              "      border-left-color: var(--fill-color);\n",
              "    }\n",
              "    20% {\n",
              "      border-color: transparent;\n",
              "      border-left-color: var(--fill-color);\n",
              "      border-top-color: var(--fill-color);\n",
              "    }\n",
              "    30% {\n",
              "      border-color: transparent;\n",
              "      border-left-color: var(--fill-color);\n",
              "      border-top-color: var(--fill-color);\n",
              "      border-right-color: var(--fill-color);\n",
              "    }\n",
              "    40% {\n",
              "      border-color: transparent;\n",
              "      border-right-color: var(--fill-color);\n",
              "      border-top-color: var(--fill-color);\n",
              "    }\n",
              "    60% {\n",
              "      border-color: transparent;\n",
              "      border-right-color: var(--fill-color);\n",
              "    }\n",
              "    80% {\n",
              "      border-color: transparent;\n",
              "      border-right-color: var(--fill-color);\n",
              "      border-bottom-color: var(--fill-color);\n",
              "    }\n",
              "    90% {\n",
              "      border-color: transparent;\n",
              "      border-bottom-color: var(--fill-color);\n",
              "    }\n",
              "  }\n",
              "</style>\n",
              "\n",
              "  <script>\n",
              "    async function quickchart(key) {\n",
              "      const quickchartButtonEl =\n",
              "        document.querySelector('#' + key + ' button');\n",
              "      quickchartButtonEl.disabled = true;  // To prevent multiple clicks.\n",
              "      quickchartButtonEl.classList.add('colab-df-spinner');\n",
              "      try {\n",
              "        const charts = await google.colab.kernel.invokeFunction(\n",
              "            'suggestCharts', [key], {});\n",
              "      } catch (error) {\n",
              "        console.error('Error during call to suggestCharts:', error);\n",
              "      }\n",
              "      quickchartButtonEl.classList.remove('colab-df-spinner');\n",
              "      quickchartButtonEl.classList.add('colab-df-quickchart-complete');\n",
              "    }\n",
              "    (() => {\n",
              "      let quickchartButtonEl =\n",
              "        document.querySelector('#df-a5dd7e66-ab31-4116-bc31-1d5d10095ed7 button');\n",
              "      quickchartButtonEl.style.display =\n",
              "        google.colab.kernel.accessAllowed ? 'block' : 'none';\n",
              "    })();\n",
              "  </script>\n",
              "</div>\n",
              "\n",
              "    </div>\n",
              "  </div>\n"
            ],
            "application/vnd.google.colaboratory.intrinsic+json": {
              "type": "dataframe",
              "summary": "{\n  \"name\": \"X[0:10][[\\\"text\\\", \\\"category_name\\\"]]\",\n  \"rows\": 10,\n  \"fields\": [\n    {\n      \"column\": \"text\",\n      \"properties\": {\n        \"dtype\": \"string\",\n        \"num_unique_values\": 10,\n        \"samples\": [\n          \"From: geb@cs.pitt.edu (Gordon Banks) Subject: Re: Blindsight Reply-To: geb@cs.pitt.edu (Gordon Banks) Organization: Univ. of Pittsburgh Computer Science Lines: 18  In article <werner-240393161954@tol7mac15.soe.berkeley.edu> werner@soe.berkeley.edu (John Werner) writes: >In article <19213@pitt.UUCP>, geb@cs.pitt.edu (Gordon Banks) wrote: >>  >> Explain.  I thought there were 3 types of cones, equivalent to RGB. > >You're basically right, but I think there are just 2 types.  One is >sensitive to red and green, and the other is sensitive to blue and yellow.  >This is why the two most common kinds of color-blindness are red-green and >blue-yellow. >  Yes, I remember that now.  Well, in that case, the cones are indeed color sensitive, contrary to what the original respondent had claimed. --  ---------------------------------------------------------------------------- Gordon Banks  N3JXP      | \\\"Skepticism is the chastity of the intellect, and geb@cadre.dsl.pitt.edu   |  it is shameful to surrender it too soon.\\\"  ---------------------------------------------------------------------------- \",\n          \"From: ani@ms.uky.edu (Aniruddha B. Deglurkar) Subject: help: Splitting a trimming region along a mesh  Organization: University Of Kentucky, Dept. of Math Sciences Lines: 28    \\tHi,  \\tI have a problem, I hope some of the 'gurus' can help me solve.  \\tBackground of the problem: \\tI have a rectangular mesh in the uv domain, i.e  the mesh is a  \\tmapping of a 3d Bezier patch into 2d. The area in this domain \\twhich is inside a trimming loop had to be rendered. The trimming \\tloop is a set of 2d Bezier curve segments. \\tFor the sake of notation: the mesh is made up of cells.  \\tMy problem is this : \\tThe trimming area has to be split up into individual smaller \\tcells bounded by the trimming curve segments. If a cell \\tis wholly inside the area...then it is output as a whole , \\telse it is trivially rejected.   \\tDoes any body know how thiss can be done, or is there any algo.  \\tsomewhere for doing this.  \\tAny help would be appreciated.  \\tThanks,  \\tAni. --  To get irritated is human, to stay cool, divine. \",\n          \"From: vbv@lor.eeap.cwru.edu (Virgilio (Dean) B. Velasco Jr.) Subject: Re: The arrogance of Christians Organization: Case Western Reserve Univ. Cleveland, Ohio (USA) Lines: 28  In article <Apr.22.00.56.15.1993.2073@geneva.rutgers.edu> hayesstw@risc1.unisa.ac.za (Steve Hayes) writes:  >A similar analogy might be a medical doctor who believes that a blood  >transfusion is necessary to save the life of a child whose parents are  >Jehovah's Witnesses and so have conscientious objections to blood  >transfusion. The doctor's efforts to persuade them to agree to a blood  >transfusion could be perceived to be arrogant in precisely the same way as  >Christians could be perceived to be arrogant.  >The truth or otherwise of the belief that a blood transfusion is necessary  >to save the life of the child is irrelevant here. What matters is that the  >doctor BELIEVES it to be true, and could be seen to be trying to foce his  >beliefs on the parents, and this could well be perceived as arrogance.  Let me carry that a step further.  Most doctors would not claim to be  infallible.  Indeed, they would generally admit that they could conceivably be wrong, e.g. that in this case, a blood tranfusion might not turn out to  be necessary after all.  However, the doctors would have enough confidence and conviction to claim, out of genuine concern, that is IS necessary.  As fallible human beings, they must acknowledge the possibility that they are wrong.  However, they would also say that such doubts are not reasonable, and stand by their convictions.  --  Virgilio \\\"Dean\\\" Velasco Jr, Department of Electrical Eng'g and Applied Physics  \\t CWRU graduate student, roboticist-in-training and Q wannabee     \\\"Bullwinkle, that man's intimidating a referee!\\\"   |    My boss is a     \\\"Not very well.  He doesn't look like one at all!\\\"  |  Jewish carpenter. \"\n        ],\n        \"semantic_type\": \"\",\n        \"description\": \"\"\n      }\n    },\n    {\n      \"column\": \"category_name\",\n      \"properties\": {\n        \"dtype\": \"category\",\n        \"num_unique_values\": 3,\n        \"samples\": [\n          \"comp.graphics\",\n          \"soc.religion.christian\",\n          \"sci.med\"\n        ],\n        \"semantic_type\": \"\",\n        \"description\": \"\"\n      }\n    }\n  ]\n}"
            }
          },
          "metadata": {},
          "execution_count": 40
        }
      ],
      "source": [
        "# простой запрос\n",
        "X[0:10][[\"text\", \"category_name\"]]"
      ]
    },
    {
      "cell_type": "markdown",
      "metadata": {
        "id": "aONKjgCBXHdV"
      },
      "source": [
        "Давайте рассмотрим еще несколько интересных запросов, чтобы ознакомиться с эффективностью и удобством фреймов данных Pandas."
      ]
    },
    {
      "cell_type": "markdown",
      "metadata": {
        "id": "q9upYmd9XHdW"
      },
      "source": [
        "#### Давайте запросим последние 10 записей"
      ]
    },
    {
      "cell_type": "code",
      "execution_count": 28,
      "metadata": {
        "id": "QpjI-CGxXHdW",
        "colab": {
          "base_uri": "https://localhost:8080/",
          "height": 363
        },
        "outputId": "f48ca687-ccf3-4387-d06c-214b1681c1eb"
      },
      "outputs": [
        {
          "output_type": "execute_result",
          "data": {
            "text/plain": [
              "                                                   text  category  \\\n",
              "2247  From: daniels@math.ufl.edu (TV's Big Dealer) S...         3   \n",
              "2248  From: \"danny hawrysio\" <danny.hawrysio@canrem....         1   \n",
              "2249  From: shellgate!llo@uu4.psi.com (Larry L. Over...         3   \n",
              "2250  From: ingles@engin.umich.edu (Ray Ingles) Subj...         0   \n",
              "2251  From: Mark-Tarbell@suite.com Subject: Amniocen...         2   \n",
              "2252  From: roos@Operoni.Helsinki.FI (Christophe Roo...         2   \n",
              "2253  From: mhollowa@ic.sunysb.edu (Michael Holloway...         2   \n",
              "2254  From: sasghm@theseus.unx.sas.com (Gary Merrill...         2   \n",
              "2255  From: Dan Wallach <dwallach@cs.berkeley.edu> S...         2   \n",
              "2256  From: dyer@spdcc.com (Steve Dyer) Subject: Re:...         2   \n",
              "\n",
              "               category_name  \n",
              "2247  soc.religion.christian  \n",
              "2248           comp.graphics  \n",
              "2249  soc.religion.christian  \n",
              "2250             alt.atheism  \n",
              "2251                 sci.med  \n",
              "2252                 sci.med  \n",
              "2253                 sci.med  \n",
              "2254                 sci.med  \n",
              "2255                 sci.med  \n",
              "2256                 sci.med  "
            ],
            "text/html": [
              "\n",
              "  <div id=\"df-cbcbc0ed-59e4-4df9-9800-b786f9396894\" class=\"colab-df-container\">\n",
              "    <div>\n",
              "<style scoped>\n",
              "    .dataframe tbody tr th:only-of-type {\n",
              "        vertical-align: middle;\n",
              "    }\n",
              "\n",
              "    .dataframe tbody tr th {\n",
              "        vertical-align: top;\n",
              "    }\n",
              "\n",
              "    .dataframe thead th {\n",
              "        text-align: right;\n",
              "    }\n",
              "</style>\n",
              "<table border=\"1\" class=\"dataframe\">\n",
              "  <thead>\n",
              "    <tr style=\"text-align: right;\">\n",
              "      <th></th>\n",
              "      <th>text</th>\n",
              "      <th>category</th>\n",
              "      <th>category_name</th>\n",
              "    </tr>\n",
              "  </thead>\n",
              "  <tbody>\n",
              "    <tr>\n",
              "      <th>2247</th>\n",
              "      <td>From: daniels@math.ufl.edu (TV's Big Dealer) S...</td>\n",
              "      <td>3</td>\n",
              "      <td>soc.religion.christian</td>\n",
              "    </tr>\n",
              "    <tr>\n",
              "      <th>2248</th>\n",
              "      <td>From: \"danny hawrysio\" &lt;danny.hawrysio@canrem....</td>\n",
              "      <td>1</td>\n",
              "      <td>comp.graphics</td>\n",
              "    </tr>\n",
              "    <tr>\n",
              "      <th>2249</th>\n",
              "      <td>From: shellgate!llo@uu4.psi.com (Larry L. Over...</td>\n",
              "      <td>3</td>\n",
              "      <td>soc.religion.christian</td>\n",
              "    </tr>\n",
              "    <tr>\n",
              "      <th>2250</th>\n",
              "      <td>From: ingles@engin.umich.edu (Ray Ingles) Subj...</td>\n",
              "      <td>0</td>\n",
              "      <td>alt.atheism</td>\n",
              "    </tr>\n",
              "    <tr>\n",
              "      <th>2251</th>\n",
              "      <td>From: Mark-Tarbell@suite.com Subject: Amniocen...</td>\n",
              "      <td>2</td>\n",
              "      <td>sci.med</td>\n",
              "    </tr>\n",
              "    <tr>\n",
              "      <th>2252</th>\n",
              "      <td>From: roos@Operoni.Helsinki.FI (Christophe Roo...</td>\n",
              "      <td>2</td>\n",
              "      <td>sci.med</td>\n",
              "    </tr>\n",
              "    <tr>\n",
              "      <th>2253</th>\n",
              "      <td>From: mhollowa@ic.sunysb.edu (Michael Holloway...</td>\n",
              "      <td>2</td>\n",
              "      <td>sci.med</td>\n",
              "    </tr>\n",
              "    <tr>\n",
              "      <th>2254</th>\n",
              "      <td>From: sasghm@theseus.unx.sas.com (Gary Merrill...</td>\n",
              "      <td>2</td>\n",
              "      <td>sci.med</td>\n",
              "    </tr>\n",
              "    <tr>\n",
              "      <th>2255</th>\n",
              "      <td>From: Dan Wallach &lt;dwallach@cs.berkeley.edu&gt; S...</td>\n",
              "      <td>2</td>\n",
              "      <td>sci.med</td>\n",
              "    </tr>\n",
              "    <tr>\n",
              "      <th>2256</th>\n",
              "      <td>From: dyer@spdcc.com (Steve Dyer) Subject: Re:...</td>\n",
              "      <td>2</td>\n",
              "      <td>sci.med</td>\n",
              "    </tr>\n",
              "  </tbody>\n",
              "</table>\n",
              "</div>\n",
              "    <div class=\"colab-df-buttons\">\n",
              "\n",
              "  <div class=\"colab-df-container\">\n",
              "    <button class=\"colab-df-convert\" onclick=\"convertToInteractive('df-cbcbc0ed-59e4-4df9-9800-b786f9396894')\"\n",
              "            title=\"Convert this dataframe to an interactive table.\"\n",
              "            style=\"display:none;\">\n",
              "\n",
              "  <svg xmlns=\"http://www.w3.org/2000/svg\" height=\"24px\" viewBox=\"0 -960 960 960\">\n",
              "    <path d=\"M120-120v-720h720v720H120Zm60-500h600v-160H180v160Zm220 220h160v-160H400v160Zm0 220h160v-160H400v160ZM180-400h160v-160H180v160Zm440 0h160v-160H620v160ZM180-180h160v-160H180v160Zm440 0h160v-160H620v160Z\"/>\n",
              "  </svg>\n",
              "    </button>\n",
              "\n",
              "  <style>\n",
              "    .colab-df-container {\n",
              "      display:flex;\n",
              "      gap: 12px;\n",
              "    }\n",
              "\n",
              "    .colab-df-convert {\n",
              "      background-color: #E8F0FE;\n",
              "      border: none;\n",
              "      border-radius: 50%;\n",
              "      cursor: pointer;\n",
              "      display: none;\n",
              "      fill: #1967D2;\n",
              "      height: 32px;\n",
              "      padding: 0 0 0 0;\n",
              "      width: 32px;\n",
              "    }\n",
              "\n",
              "    .colab-df-convert:hover {\n",
              "      background-color: #E2EBFA;\n",
              "      box-shadow: 0px 1px 2px rgba(60, 64, 67, 0.3), 0px 1px 3px 1px rgba(60, 64, 67, 0.15);\n",
              "      fill: #174EA6;\n",
              "    }\n",
              "\n",
              "    .colab-df-buttons div {\n",
              "      margin-bottom: 4px;\n",
              "    }\n",
              "\n",
              "    [theme=dark] .colab-df-convert {\n",
              "      background-color: #3B4455;\n",
              "      fill: #D2E3FC;\n",
              "    }\n",
              "\n",
              "    [theme=dark] .colab-df-convert:hover {\n",
              "      background-color: #434B5C;\n",
              "      box-shadow: 0px 1px 3px 1px rgba(0, 0, 0, 0.15);\n",
              "      filter: drop-shadow(0px 1px 2px rgba(0, 0, 0, 0.3));\n",
              "      fill: #FFFFFF;\n",
              "    }\n",
              "  </style>\n",
              "\n",
              "    <script>\n",
              "      const buttonEl =\n",
              "        document.querySelector('#df-cbcbc0ed-59e4-4df9-9800-b786f9396894 button.colab-df-convert');\n",
              "      buttonEl.style.display =\n",
              "        google.colab.kernel.accessAllowed ? 'block' : 'none';\n",
              "\n",
              "      async function convertToInteractive(key) {\n",
              "        const element = document.querySelector('#df-cbcbc0ed-59e4-4df9-9800-b786f9396894');\n",
              "        const dataTable =\n",
              "          await google.colab.kernel.invokeFunction('convertToInteractive',\n",
              "                                                    [key], {});\n",
              "        if (!dataTable) return;\n",
              "\n",
              "        const docLinkHtml = 'Like what you see? Visit the ' +\n",
              "          '<a target=\"_blank\" href=https://colab.research.google.com/notebooks/data_table.ipynb>data table notebook</a>'\n",
              "          + ' to learn more about interactive tables.';\n",
              "        element.innerHTML = '';\n",
              "        dataTable['output_type'] = 'display_data';\n",
              "        await google.colab.output.renderOutput(dataTable, element);\n",
              "        const docLink = document.createElement('div');\n",
              "        docLink.innerHTML = docLinkHtml;\n",
              "        element.appendChild(docLink);\n",
              "      }\n",
              "    </script>\n",
              "  </div>\n",
              "\n",
              "\n",
              "<div id=\"df-dbb22cc9-7b87-47a5-87b6-c37aaad60998\">\n",
              "  <button class=\"colab-df-quickchart\" onclick=\"quickchart('df-dbb22cc9-7b87-47a5-87b6-c37aaad60998')\"\n",
              "            title=\"Suggest charts\"\n",
              "            style=\"display:none;\">\n",
              "\n",
              "<svg xmlns=\"http://www.w3.org/2000/svg\" height=\"24px\"viewBox=\"0 0 24 24\"\n",
              "     width=\"24px\">\n",
              "    <g>\n",
              "        <path d=\"M19 3H5c-1.1 0-2 .9-2 2v14c0 1.1.9 2 2 2h14c1.1 0 2-.9 2-2V5c0-1.1-.9-2-2-2zM9 17H7v-7h2v7zm4 0h-2V7h2v10zm4 0h-2v-4h2v4z\"/>\n",
              "    </g>\n",
              "</svg>\n",
              "  </button>\n",
              "\n",
              "<style>\n",
              "  .colab-df-quickchart {\n",
              "      --bg-color: #E8F0FE;\n",
              "      --fill-color: #1967D2;\n",
              "      --hover-bg-color: #E2EBFA;\n",
              "      --hover-fill-color: #174EA6;\n",
              "      --disabled-fill-color: #AAA;\n",
              "      --disabled-bg-color: #DDD;\n",
              "  }\n",
              "\n",
              "  [theme=dark] .colab-df-quickchart {\n",
              "      --bg-color: #3B4455;\n",
              "      --fill-color: #D2E3FC;\n",
              "      --hover-bg-color: #434B5C;\n",
              "      --hover-fill-color: #FFFFFF;\n",
              "      --disabled-bg-color: #3B4455;\n",
              "      --disabled-fill-color: #666;\n",
              "  }\n",
              "\n",
              "  .colab-df-quickchart {\n",
              "    background-color: var(--bg-color);\n",
              "    border: none;\n",
              "    border-radius: 50%;\n",
              "    cursor: pointer;\n",
              "    display: none;\n",
              "    fill: var(--fill-color);\n",
              "    height: 32px;\n",
              "    padding: 0;\n",
              "    width: 32px;\n",
              "  }\n",
              "\n",
              "  .colab-df-quickchart:hover {\n",
              "    background-color: var(--hover-bg-color);\n",
              "    box-shadow: 0 1px 2px rgba(60, 64, 67, 0.3), 0 1px 3px 1px rgba(60, 64, 67, 0.15);\n",
              "    fill: var(--button-hover-fill-color);\n",
              "  }\n",
              "\n",
              "  .colab-df-quickchart-complete:disabled,\n",
              "  .colab-df-quickchart-complete:disabled:hover {\n",
              "    background-color: var(--disabled-bg-color);\n",
              "    fill: var(--disabled-fill-color);\n",
              "    box-shadow: none;\n",
              "  }\n",
              "\n",
              "  .colab-df-spinner {\n",
              "    border: 2px solid var(--fill-color);\n",
              "    border-color: transparent;\n",
              "    border-bottom-color: var(--fill-color);\n",
              "    animation:\n",
              "      spin 1s steps(1) infinite;\n",
              "  }\n",
              "\n",
              "  @keyframes spin {\n",
              "    0% {\n",
              "      border-color: transparent;\n",
              "      border-bottom-color: var(--fill-color);\n",
              "      border-left-color: var(--fill-color);\n",
              "    }\n",
              "    20% {\n",
              "      border-color: transparent;\n",
              "      border-left-color: var(--fill-color);\n",
              "      border-top-color: var(--fill-color);\n",
              "    }\n",
              "    30% {\n",
              "      border-color: transparent;\n",
              "      border-left-color: var(--fill-color);\n",
              "      border-top-color: var(--fill-color);\n",
              "      border-right-color: var(--fill-color);\n",
              "    }\n",
              "    40% {\n",
              "      border-color: transparent;\n",
              "      border-right-color: var(--fill-color);\n",
              "      border-top-color: var(--fill-color);\n",
              "    }\n",
              "    60% {\n",
              "      border-color: transparent;\n",
              "      border-right-color: var(--fill-color);\n",
              "    }\n",
              "    80% {\n",
              "      border-color: transparent;\n",
              "      border-right-color: var(--fill-color);\n",
              "      border-bottom-color: var(--fill-color);\n",
              "    }\n",
              "    90% {\n",
              "      border-color: transparent;\n",
              "      border-bottom-color: var(--fill-color);\n",
              "    }\n",
              "  }\n",
              "</style>\n",
              "\n",
              "  <script>\n",
              "    async function quickchart(key) {\n",
              "      const quickchartButtonEl =\n",
              "        document.querySelector('#' + key + ' button');\n",
              "      quickchartButtonEl.disabled = true;  // To prevent multiple clicks.\n",
              "      quickchartButtonEl.classList.add('colab-df-spinner');\n",
              "      try {\n",
              "        const charts = await google.colab.kernel.invokeFunction(\n",
              "            'suggestCharts', [key], {});\n",
              "      } catch (error) {\n",
              "        console.error('Error during call to suggestCharts:', error);\n",
              "      }\n",
              "      quickchartButtonEl.classList.remove('colab-df-spinner');\n",
              "      quickchartButtonEl.classList.add('colab-df-quickchart-complete');\n",
              "    }\n",
              "    (() => {\n",
              "      let quickchartButtonEl =\n",
              "        document.querySelector('#df-dbb22cc9-7b87-47a5-87b6-c37aaad60998 button');\n",
              "      quickchartButtonEl.style.display =\n",
              "        google.colab.kernel.accessAllowed ? 'block' : 'none';\n",
              "    })();\n",
              "  </script>\n",
              "</div>\n",
              "\n",
              "    </div>\n",
              "  </div>\n"
            ],
            "application/vnd.google.colaboratory.intrinsic+json": {
              "type": "dataframe",
              "summary": "{\n  \"name\": \"X[-10:]\",\n  \"rows\": 10,\n  \"fields\": [\n    {\n      \"column\": \"text\",\n      \"properties\": {\n        \"dtype\": \"string\",\n        \"num_unique_values\": 10,\n        \"samples\": [\n          \"From: Dan Wallach <dwallach@cs.berkeley.edu> Subject: FAQ: Typing Injuries (2/4): General Info [monthly posting] Supersedes: <typing-injury-faq/general_734664243@cs.berkeley.edu> Organization: University of California, Berkeley Lines: 409 Expires: 22 May 1993 04:18:16 GMT Reply-To: Dan Wallach <dwallach@cs.berkeley.edu> NNTP-Posting-Host: elmer-fudd.cs.berkeley.edu Summary: information about where to get more information Originator: dwallach@elmer-fudd.cs.berkeley.edu  Archive-name: typing-injury-faq/general Version: $Revision: 4.28 $ $Date: 1993/04/13 04:17:58 $  -------------------------------------------------------------------------------          Answers To Frequently Asked Questions about Typing Injuries -------------------------------------------------------------------------------  The Typing Injury FAQ -- sources of information for people with typing injuries, repetitive stress injuries, carpal tunnel syndrome, etc.  Copyright 1992,1993 by Dan Wallach <dwallach@cs.berkeley.edu>  Many FAQs, including this one, are available on the archive site pit-manager.mit.edu (alias rtfm.mit.edu) [18.172.1.27] in the directory pub/usenet/news.answers.  The name under which a FAQ is archived appears in the Archive-name line at the top of the article.  This FAQ is archived as typing-injury-faq/general.Z  There's a mail server also.  Just e-mail mail-server@pit-manager.mit.edu with the word 'help' on a line by itself in the body.  The opinions in here are my own, unless otherwise mentioned, and do not represent the opinions of any organization or vendor.  I'm not a medical doctor, so my advice should be taken with many grains of salt.  [Current distribution: sci.med.occupational, sci.med, comp.human-factors,  {news,sci,comp}.answers, and e-mail to c+health@iubvm.ucs.indiana.edu,  sorehand@vm.ucsf.edu, and cstg-L@vtvm1.cc.vt.edu]  Changes since previously distributed versions are marked with change        || bars to the right of the text, as is this paragraph.                        ||  Table of Contents:     ==1== Mailing lists, newsgroups, etc.     ==2== The soda.berkeley.edu archive     ==3== General info on injuries     ==4== Typing posture, ergonomics, prevention, treatment     ==5== Requests for more info     ==6== References  ==1== Mailing lists, newsgroups, etc.  USENET News: ----------- comp.human-factors occasionally has discussion about alternative input devices. comp.risks has an occasional posting relevant to injuries via computers. sci.med and misc.handicap also tend to have relevant traffic.  There's a Brand New newsgroup, sci.med.occupational, chartered specifically to discuss these things.  This would be the recommended place to post.  Mailing lists: ------------- The RSI Network: Available both on paper and via e-mail, this publication     covers issues relevant to those with repetitive stress injuries.  For     a sample issue and subscription information, send a stamped, self-     addressed business envelope to Caroline Rose, 970 Paradise Way, Palo     Alto CA 94306.      E-mail to <crose@applelink.apple.com>      $2 donation, requested.      All RSI Network newsletters are available via anonymous ftp from     soda.berkeley.edu (see below for details).  c+health and sorehand are both IBM Listserv things.  For those familiar     with Listserv, here's the quick info:      c+health -- subscribe to listserv@iubvm.ucs.indiana.edu \\t\\tpost to c+health@iubvm.ucs.indiana.edu      sorehand -- subscribe to listserv@vm.ucsf.edu \\t\\tpost to sorehand@vm.ucsf.edu  Quick tutorial on subscribing to a Listserv:     % mail listserv@vm.ucsf.edu     Subject: Total Listserv Mania!      SUBSCRIBE SOREHAND J. Random Hacker     INFO ?     . That's all there is to it.  You'll get bunches of mail back from the Listserv, including a list of other possible commands you can mail.  Cool, huh?  What'll those BITNET people think of, next?  ==2== The soda.berkeley.edu archive  I've started an archive site for info related to typing injuries.  Just anonymous ftp to soda.berkeley.edu:pub/typing-injury.  (128.32.149.19) Currently, you'll find:  Informative files:     typing-injury-faq/         general           -- information about typing injuries         keyboards         -- products to replace your keyboard         software          -- software to watch your keyboard usage \\tchanges\\t\\t  -- changes since last month's edition (new!)\\t    ||      keyboard-commentary   -- Dan's opinions on the keyboard replacements     amt.advice\\t\\t  -- about Adverse Mechanical Tension     caringforwrists.sit.hqx -- PageMaker4 document about your wrists     caringforwrists.ps\\t  -- PostScript converted version of above...     carpal.info           -- info on Carpal Tunnel Syndrome     carpal.explained\\t  -- very detailed information about CTS     carpal.surgery\\t  -- JAMA article on CTS surgery     carpal.tidbits\\t  -- TidBITS article on CTS     tendonitis.info       -- info on Tendonitis     rsi.biblio\\t\\t  -- bibliography of RSI-related publications      rsi-network/*         -- archive of the RSI Network newsletter \\t\\t\\t     (currently, containing issues 1 through 11)    ||          rsi.details\\t\\t  -- long detailed information about RSI     rsi.physical\\t  -- study showing RSI isn't just psychological      Various product literature:      apple-press\\t\\t  -- press release on the Apple Adjustable Keyboard     apple-tidbits\\t  -- extensive info about Apple's Adjustable Keybd     bat-info\\t\\t  -- MacWeek review on the Bat\\t\\t\\t    ||     comfort-*\\t\\t  -- marketing info on the Comfort Keyboard     datahand-review\\t  -- detailed opinions of the DataHand     datahand-review2\\t  -- follow-up to above     datahand-desc\\t  -- description of the DataHand's appearance     kinesis-review\\t  -- one user's personal opinions     maltron-*\\t\\t  -- marketing info on various Maltron products     maltron-review\\t  -- one user's personal opinions     vertical-info\\t  -- marketing info on the Vertical (new!)\\t    ||  Programs:     (With the exception of accpak.exe, everything here is distributed as      source to be compiled with a Unix system.  Some programs take advantage      of the X window system, also.)      hsh.shar\\t\\t  -- a program for one-handed usage of normal keyboards     typewatch.shar\\t  -- tells you when to take a break     xdvorak.c\\t\\t  -- turns your QWERTY keyboard into Dvorak     xidle.shar\\t\\t  -- keeps track of how long you've been typing     rest-reminder.sh      -- yet another idle watcher     kt15.tar  \\t\\t  -- generates fake X keyboard events from the \\t\\t\\t     serial port -- use a PC keyboard on anything! \\t\\t\\t     (new improved version!)     accpak.exe\\t\\t  -- a serial port keyboard spoofer for MS Windows      (Note: a2x.tar and rk.tar are both from export.lcs.mit.edu:contrib/      so they may have a more current version than soda.)      a2x.tar  \\t\\t  -- a more sophisticated X keyboard/mouse spoofing \\t\\t\\t     program.  Supports DragonDictate. \\t\\t\\t     (note: a new version is now available)\\t    ||     rk.tar  \\t\\t  -- the reactive keyboard -- predicts what you'll \\t\\t\\t     type next -- saves typing  Pictures (in the gifs subdirectory):     howtosit.gif\\t  -- picture of good sitting posture \\t\\t\\t     (the caringforwrists document is better for this)      accukey1.gif\\t  -- fuzzy picture     accukey2.gif\\t  -- fuzzy picture with somebody using it     apple.gif\\t\\t  -- the Apple Adjustable Keyboard\\t\\t    ||     bat.gif               -- the InfoGrip Bat     comfort.gif           -- the Health Care Comfort Keyboard     datahand1.gif\\t  -- fuzzy picture     datahand2.gif\\t  -- key layout schematic     datahand3.gif\\t  -- a much better picture of the datahand     flexpro.gif\\t\\t  -- the Key Tronic FlexPro keyboard\\t\\t    ||     kinesis1.gif          -- the Kinesis Ergonomic Keyboard     kinesis2.gif\\t  -- multiple views of the Kinesis\\t\\t    ||     maltron[1-4].gif      -- several pictures of Maltron products     mikey1.gif            -- the MIKey     mikey2.gif            -- Schematic Picture of the MIKey     tony.gif\\t\\t  -- The Tony! Ergonomic Keysystem\\t\\t    ||     twiddler1.gif\\t  -- \\\"front\\\" view     twiddler2.gif\\t  -- \\\"side\\\" view     vertical.gif\\t  -- the Vertical keyboard\\t\\t\\t    ||     wave.gif\\t\\t  -- the Iocomm `Wave' keyboard  Many files are compressed (have a .Z ending).  If you can't uncompress a file locally, soda will do it.  Just ask for the file, without the .Z extension.  If you're unable to ftp to soda, send me e-mail and we'll see what we can arrange.  ==3== General info on injuries  First, and foremost of importance: if you experience pain at all, then you absolutely need to go see a doctor.  As soon as you possibly can.  The difference of a day or two can mean the difference between a short recovery and a long, drawn-out ordeal.  GO SEE A DOCTOR.  Now, your garden-variety doctor may not necessarily be familiar with this sort of injury.  Generally, any hospital with an occupational therapy clinic will offer specialists in these kinds of problems.  DON'T WAIT, THOUGH.  GO SEE A DOCTOR.  The remainder of this information is paraphrased, without permission, from a wonderful report by New Zealand's Department of Labour (Occupational Safety and Health Service): \\\"Occupational Overuse Syndrome. Treatment and Rehabilitation: A Practitioner's Guide\\\".  First, a glossary (or, fancy names for how you shouldn't have your hands): (note: you're likely to hear these terms from doctors and keyboard vendors :)    RSI: Repetitive Strain Injury - a general term for many kinds of injuries   OOS: Occupational Overuse Syndrome -- synonym for RSI   CTD: Cumulative Trauma Disorder -- another synonym for RSI   WRULD: Work-Related Upper Limb Disorders -- yet another synonym for RSI   CTS: Carpal Tunnel Syndrome (see below)   Hyperextension:  Marked bending at a joint.   Pronation: Turning the palm down.   Wrist extension: Bending the wrist up.   Supination: Turning the palm up.   Wrist flexion: Bending the wrist down.   Pinch grip: The grip used for a pencil.   Ulnar deviation: Bending the wrist towards the little finger.   Power grip: The grip used for a hammer.   Radial Deviation: Bending the wrist toward the thumb.   Abduction: Moving away from the body.   Overspanning: Opening the fingers out wide.  Now then, problems come in two main types: Local conditions and diffuse conditions.  Local problems are what you'd expect: specific muscles, tendons, tendon sheaths, nerves, etc. being inflamed or otherwise hurt. Diffuse conditions, often mistaken for local problems, can involve muscle discomfort, pain, burning and/or tingling; with identifiable areas of tenderness in muscles, although they're not necessarily \\\"the problem.\\\"  --- Why does Occupational Overuse Syndrome occur?  Here's the theory.  Normally, your muscles and tendons get blood through capillaries which pass among the muscle fibers.  When you tense a muscle, you restrict the blood flow.  By the time you're exerting 50% of your full power, you're completely restricting your blood flow.  Without fresh blood, your muscles use stored energy until they run out, then they switch to anaerobic (without oxygen) metabolism, which generates nasty by-products like lactic acid, which cause pain.  Once one muscle hurts, all its neighbors tense up, perhaps to relieve the load.  This makes sense for your normal sort of injury, but it only makes things worse with repetitive motion.  More tension means less blood flow, and the cycle continues.  Another by-product of the lack of blood flow is tingling and numbness from your nerves.  They need blood too.  Anyway, when you're typing too much, you're never really giving a change for the blood to get back where it belongs, because your muscles never relax enough to let the blood through.  Stress, poor posture, and poor ergonomics, only make things worse.  --- Specific injuries you may have heard of:  (note: most injuries come in two flavors: acute and chronic.  Acute injuries are severely painful and noticable.  Chronic conditions have less pronounced symptoms but are every bit as real.)  Tenosynovitis -- an inflamation of the tendon sheath.  Chronic tenosynovitis occurs when the repetitive activity is mild or intermittent: not enough to cause acute inflamation, but enough to exceed the tendon sheath's ability to lubricate the tendon.  As a result, the tendon sheath thickens, gets inflamed, and you've got your problem.  Tendonitis -- an inflammation of a tendon.  Repeated tensing of a tendon can cause inflamation.  Eventually, the fibers of the tendon start separating, and can even break, leaving behind debris which induces more friction, more swelling, and more pain.  \\\"Sub-acute\\\" tendonitis is more common, which entails a dull ache over the wrist and forearm, some tenderness, and it gets worse with repetitive activity.  Carpal Tunnel Syndrome -- the nerves that run through your wrist into your fingers get trapped by the inflamed muscles around them.  Symptoms include feeling \\\"pins and needles\\\", tingling, numbness, and even loss of sensation. CTS is often confused for a diffuse condition.  Adverse Mechanical Tension -- also known as 'neural tension', this is where the nerves running down to your arm have become contracted and possibly compressed as a result of muscle spasms in the shoulders and elsewhere. AMT can often misdiagnosed as or associated with one of the other OOS  disorders.  It is largely reversible and can be treated with physiotherapy  (brachial plexus stretches and trigger point therapy).  Others: for just about every part of your body, there's a fancy name for a way to injure it.  By now, you should be getting an idea of how OOS conditions occur and why.  Just be careful: many inexperienced doctors misdiagnose problems as Carpal Tunnel Syndrome, when in reality, you may have a completely different problem.  Always get a second opinion before somebody does something drastic to you (like surgery).  ==4== Typing posture, ergonomics, prevention, treatment  The most important element of both prevention and recovery is to reduce tension in the muscles and tendons.  This requires learning how to relax. If you're under a load of stress, this is doubly important.  Tune out the world and breath deep and regular.  Relaxing should become a guiding principle in your work: every three minutes take a three second break. EVERY THREE MINUTES, TAKE A THREE SECOND BREAK.  Really, do it every three minutes.  It's also helpful to work in comfortable surroundings, calm down, and relax.  If you can't sleep, you really need to focus on this.  Rest, sleep, and relaxation are really a big deal.  There are all kinds of other treatments, of course.  Drugs can reduce inflamation and pain.  Custom-molded splints can forcefully prevent bad posture.  Surgery can fix some problems.  Exercise can help strengthen your muscles.  Regular stretching can help prevent injury.  Good posture and a good ergonomic workspace promote reduced tension.  Ice or hot-cold contrast baths also reduce swelling.  Only your doctor can say what's best for you.  --- Posture -- here are some basic guidelines.  [I so liked the way this was written in the New Zealand book that I'm lifting it almost verbatim from Appendix 10. -- dwallach]  . Let your shoulders relax. . Let your elbows swing free. . Keep your wrists straight. . Pull your chin in to look down - don't flop your head forward. . Keep the hollow in the base of your spine. . Try leaning back in the chair. . Don't slouch or slump forward. . Alter your posture from time to time. . Every 20 minutes, get up and bend your spine backward.  Set the seat height, first.  Your feet should be flat on the floor.  There  should be no undue pressure on the underside of your thighs near the knees, and your thighs should not slope too much.  Now, draw yourself up to your desk and see that its height is comfortable to work at.  If you are short, this may be impossible.  The beest remedy is to raise the seat height and prevent your legs from dangling by using a footrest.  Now, adjust the backrest height so that your buttocks fit into the space between the backrest and the seat pan.  The backrest should support you in the hollow of your back, so adjust its tilt to give firm support in this area.  If you operate a keyboard, you will be able to spend more time leaning back, so experiment with a chair with a taller backrest, if available.  [Now, I diverge a little from the text]  A good chair makes a big difference.  If you don't like your chair, go find a better one.  You really want adjustments for height, back angle, back height, and maybe even seat tilt.  Most arm rests seem to get in the way, although some more expensive chairs have height adjustable arm rests which you can also rotate out of the way.  You should find a good store and play with all these chairs -- pick one that's right for you. In the San Francisco Bay Area, I highly recommend \\\"Just Chairs.\\\"  The name says it all.  --- Keyboard drawers, wrist pads, and keyboard replacements:  There is a fair amount of controvery on how to get this right.  For some people, wrist pads seem to work wonders.  However, with good posture, you shouldn't be resting your wrists on anything -- you would prefer your keyboard to be \\\"right there\\\".  If you drop your arms at your side and then lift your hands up at the elbow, you want your keyboard under your hands when your elbows are at about 90 degrees.  Of course, you want to avoid pronation, wrist extension, and ulnar deviation at all costs.  Wrist pads may or may not help at this.  You should get somebody else to come and look at how you work: how you sit, how you type, and how you relax.  It's often easier for somebody else to notice your hunched shoulders or deviated hands.  Some argue that the normal, flat keyboard is antiquated and poorly designed.  A number of replacements are available, on the market, today. Check out the accompanying typing-injury-faq/keyboards for much detail.  ==5== Requests for more info  Clearly, the above information is incomplete.  The typing-injury archive is incomplete.  There's always more information out there.  If you'd like to submit something, please send me mail, and I'll gladly throw it in.  If you'd like to maintain a list of products or vendors, that would be wonderful!  I'd love somebody to make a list of chair/desk vendors.  I'd love somebody to make a list of doctors.  I'd love somebody to edit the above sections, looking for places where I've obviously goofed.  ==6== References  I completely rewrote the information section here, using a wonderful guide produced in New Zealand by their Occupational Safety & Health Service, a service of their Department of Labour.  Special thanks to the authors: Wigley, Turner, Blake, Darby, McInnes, and Harding.  Semi-bibliographic reference:     . Occupational Overuse Syndrome     . Treatment and Rehabilitation:       A Practitioner's Guide          Published by the Occupational Safety and Health Service     Department of Labour     Wellington,     New Zealand.      First Edition: June 1992     ISBN 0-477-3499-3      Price: $9.95 (New Zealand $'s, of course)  Thanks to Richard Donkin <richardd@hoskyns.co.uk> for reviewing this posting.  --  Dan Wallach               \\\"One of the most attractive features of a Connection dwallach@cs.berkeley.edu  Machine is the array of blinking lights on the faces Office#: 510-642-9585     of its cabinet.\\\" -- CM Paris Ref. Manual, v6.0, p48. \",\n          \"From: \\\"danny hawrysio\\\" <danny.hawrysio@canrem.com> Subject: radiosity Reply-To: \\\"danny hawrysio\\\" <danny.hawrysio@canrem.com> Organization: Canada Remote Systems Distribution: comp Lines: 9   -> I am looking for source-code for the radiosity-method.   I don't know what kind of machine you want it for, but the program Radiance comes with 'C' source code - I don't have ftp access so I couldn't tell you where to get it via that way. -- Canada Remote Systems - Toronto, Ontario 416-629-7000/629-7044 \",\n          \"From: roos@Operoni.Helsinki.FI (Christophe Roos) Subject: Wanted: Rat cell line (adrenal gland/cortical c.) Summary: Where can I find a rat cell line Keywords: adrenal_gland cortical_cell cell_line rat Organization: Institute of Biotechnology (Univ. Helsinki) Lines: 14  I am looking for a rat cell line of adrenal gland / cortical cell  -type. I  have been looking at ATCC without success and would very much appreciate any  help.  Thank you for reading this.  Christophe Roos  ------------------------------------------------------------------------- Institute of Biotechnology          Fax:                   +358 0 4346028 POBox 45, Valimotie 7               E-mail:   Christophe.Roos@Helsinki.Fi University of Helsinki              X-400:           /G=Christophe/S=Roos SF-00014 Finland                                /O=Helsinki/A=fumail/C=Fi ------------------------------------------------------------------------- \"\n        ],\n        \"semantic_type\": \"\",\n        \"description\": \"\"\n      }\n    },\n    {\n      \"column\": \"category\",\n      \"properties\": {\n        \"dtype\": \"number\",\n        \"std\": 0,\n        \"min\": 0,\n        \"max\": 3,\n        \"num_unique_values\": 4,\n        \"samples\": [\n          1,\n          2,\n          3\n        ],\n        \"semantic_type\": \"\",\n        \"description\": \"\"\n      }\n    },\n    {\n      \"column\": \"category_name\",\n      \"properties\": {\n        \"dtype\": \"category\",\n        \"num_unique_values\": 4,\n        \"samples\": [\n          \"comp.graphics\",\n          \"sci.med\",\n          \"soc.religion.christian\"\n        ],\n        \"semantic_type\": \"\",\n        \"description\": \"\"\n      }\n    }\n  ]\n}"
            }
          },
          "metadata": {},
          "execution_count": 28
        }
      ],
      "source": [
        "X[-10:]"
      ]
    },
    {
      "cell_type": "markdown",
      "metadata": {
        "id": "eI_b4GP9XHdX"
      },
      "source": [
        "Готовы к некоторым волшебным трюкам? Приготовьтесь! Давайте посмотрим, сможем ли мы запросить каждую 10-ю запись в нашем фрейме данных. Кроме того, наш запрос должен содержать только первые 10 записей. Для этого мы будем использовать встроенную функцию под названием `iloc`. Это позволяет нам запрашивать выборку из нашего набора данных по позиции."
      ]
    },
    {
      "cell_type": "code",
      "execution_count": 29,
      "metadata": {
        "id": "YMX2glzrXHdX",
        "colab": {
          "base_uri": "https://localhost:8080/",
          "height": 363
        },
        "outputId": "544866a3-1a4e-4a6a-ae4f-99c95bf7ae41"
      },
      "outputs": [
        {
          "output_type": "execute_result",
          "data": {
            "text/plain": [
              "                                                 text  category\n",
              "0   From: sd345@city.ac.uk (Michael Collier) Subje...         1\n",
              "10  From: anasaz!karl@anasazi.com (Karl Dussik) Su...         3\n",
              "20  From: dotsonm@dmapub.dma.org (Mark Dotson) Sub...         3\n",
              "30  From: vgwlu@dunsell.calgary.chevron.com (greg ...         2\n",
              "40  From: david-s@hsr.no (David A. Sjoen) Subject:...         3\n",
              "50  From: ab@nova.cc.purdue.edu (Allen B) Subject:...         1\n",
              "60  From: Nanci Ann Miller <nm0w+@andrew.cmu.edu> ...         0\n",
              "70  From: weaver@chdasic.sps.mot.com (Dave Weaver)...         3\n",
              "80  From: annick@cortex.physiol.su.oz.au (Annick A...         2\n",
              "90  Subject: Vonnegut/atheism From: dmn@kepler.unh...         0"
            ],
            "text/html": [
              "\n",
              "  <div id=\"df-97d716f7-76e0-4957-8017-70dd67d78cc0\" class=\"colab-df-container\">\n",
              "    <div>\n",
              "<style scoped>\n",
              "    .dataframe tbody tr th:only-of-type {\n",
              "        vertical-align: middle;\n",
              "    }\n",
              "\n",
              "    .dataframe tbody tr th {\n",
              "        vertical-align: top;\n",
              "    }\n",
              "\n",
              "    .dataframe thead th {\n",
              "        text-align: right;\n",
              "    }\n",
              "</style>\n",
              "<table border=\"1\" class=\"dataframe\">\n",
              "  <thead>\n",
              "    <tr style=\"text-align: right;\">\n",
              "      <th></th>\n",
              "      <th>text</th>\n",
              "      <th>category</th>\n",
              "    </tr>\n",
              "  </thead>\n",
              "  <tbody>\n",
              "    <tr>\n",
              "      <th>0</th>\n",
              "      <td>From: sd345@city.ac.uk (Michael Collier) Subje...</td>\n",
              "      <td>1</td>\n",
              "    </tr>\n",
              "    <tr>\n",
              "      <th>10</th>\n",
              "      <td>From: anasaz!karl@anasazi.com (Karl Dussik) Su...</td>\n",
              "      <td>3</td>\n",
              "    </tr>\n",
              "    <tr>\n",
              "      <th>20</th>\n",
              "      <td>From: dotsonm@dmapub.dma.org (Mark Dotson) Sub...</td>\n",
              "      <td>3</td>\n",
              "    </tr>\n",
              "    <tr>\n",
              "      <th>30</th>\n",
              "      <td>From: vgwlu@dunsell.calgary.chevron.com (greg ...</td>\n",
              "      <td>2</td>\n",
              "    </tr>\n",
              "    <tr>\n",
              "      <th>40</th>\n",
              "      <td>From: david-s@hsr.no (David A. Sjoen) Subject:...</td>\n",
              "      <td>3</td>\n",
              "    </tr>\n",
              "    <tr>\n",
              "      <th>50</th>\n",
              "      <td>From: ab@nova.cc.purdue.edu (Allen B) Subject:...</td>\n",
              "      <td>1</td>\n",
              "    </tr>\n",
              "    <tr>\n",
              "      <th>60</th>\n",
              "      <td>From: Nanci Ann Miller &lt;nm0w+@andrew.cmu.edu&gt; ...</td>\n",
              "      <td>0</td>\n",
              "    </tr>\n",
              "    <tr>\n",
              "      <th>70</th>\n",
              "      <td>From: weaver@chdasic.sps.mot.com (Dave Weaver)...</td>\n",
              "      <td>3</td>\n",
              "    </tr>\n",
              "    <tr>\n",
              "      <th>80</th>\n",
              "      <td>From: annick@cortex.physiol.su.oz.au (Annick A...</td>\n",
              "      <td>2</td>\n",
              "    </tr>\n",
              "    <tr>\n",
              "      <th>90</th>\n",
              "      <td>Subject: Vonnegut/atheism From: dmn@kepler.unh...</td>\n",
              "      <td>0</td>\n",
              "    </tr>\n",
              "  </tbody>\n",
              "</table>\n",
              "</div>\n",
              "    <div class=\"colab-df-buttons\">\n",
              "\n",
              "  <div class=\"colab-df-container\">\n",
              "    <button class=\"colab-df-convert\" onclick=\"convertToInteractive('df-97d716f7-76e0-4957-8017-70dd67d78cc0')\"\n",
              "            title=\"Convert this dataframe to an interactive table.\"\n",
              "            style=\"display:none;\">\n",
              "\n",
              "  <svg xmlns=\"http://www.w3.org/2000/svg\" height=\"24px\" viewBox=\"0 -960 960 960\">\n",
              "    <path d=\"M120-120v-720h720v720H120Zm60-500h600v-160H180v160Zm220 220h160v-160H400v160Zm0 220h160v-160H400v160ZM180-400h160v-160H180v160Zm440 0h160v-160H620v160ZM180-180h160v-160H180v160Zm440 0h160v-160H620v160Z\"/>\n",
              "  </svg>\n",
              "    </button>\n",
              "\n",
              "  <style>\n",
              "    .colab-df-container {\n",
              "      display:flex;\n",
              "      gap: 12px;\n",
              "    }\n",
              "\n",
              "    .colab-df-convert {\n",
              "      background-color: #E8F0FE;\n",
              "      border: none;\n",
              "      border-radius: 50%;\n",
              "      cursor: pointer;\n",
              "      display: none;\n",
              "      fill: #1967D2;\n",
              "      height: 32px;\n",
              "      padding: 0 0 0 0;\n",
              "      width: 32px;\n",
              "    }\n",
              "\n",
              "    .colab-df-convert:hover {\n",
              "      background-color: #E2EBFA;\n",
              "      box-shadow: 0px 1px 2px rgba(60, 64, 67, 0.3), 0px 1px 3px 1px rgba(60, 64, 67, 0.15);\n",
              "      fill: #174EA6;\n",
              "    }\n",
              "\n",
              "    .colab-df-buttons div {\n",
              "      margin-bottom: 4px;\n",
              "    }\n",
              "\n",
              "    [theme=dark] .colab-df-convert {\n",
              "      background-color: #3B4455;\n",
              "      fill: #D2E3FC;\n",
              "    }\n",
              "\n",
              "    [theme=dark] .colab-df-convert:hover {\n",
              "      background-color: #434B5C;\n",
              "      box-shadow: 0px 1px 3px 1px rgba(0, 0, 0, 0.15);\n",
              "      filter: drop-shadow(0px 1px 2px rgba(0, 0, 0, 0.3));\n",
              "      fill: #FFFFFF;\n",
              "    }\n",
              "  </style>\n",
              "\n",
              "    <script>\n",
              "      const buttonEl =\n",
              "        document.querySelector('#df-97d716f7-76e0-4957-8017-70dd67d78cc0 button.colab-df-convert');\n",
              "      buttonEl.style.display =\n",
              "        google.colab.kernel.accessAllowed ? 'block' : 'none';\n",
              "\n",
              "      async function convertToInteractive(key) {\n",
              "        const element = document.querySelector('#df-97d716f7-76e0-4957-8017-70dd67d78cc0');\n",
              "        const dataTable =\n",
              "          await google.colab.kernel.invokeFunction('convertToInteractive',\n",
              "                                                    [key], {});\n",
              "        if (!dataTable) return;\n",
              "\n",
              "        const docLinkHtml = 'Like what you see? Visit the ' +\n",
              "          '<a target=\"_blank\" href=https://colab.research.google.com/notebooks/data_table.ipynb>data table notebook</a>'\n",
              "          + ' to learn more about interactive tables.';\n",
              "        element.innerHTML = '';\n",
              "        dataTable['output_type'] = 'display_data';\n",
              "        await google.colab.output.renderOutput(dataTable, element);\n",
              "        const docLink = document.createElement('div');\n",
              "        docLink.innerHTML = docLinkHtml;\n",
              "        element.appendChild(docLink);\n",
              "      }\n",
              "    </script>\n",
              "  </div>\n",
              "\n",
              "\n",
              "<div id=\"df-c9c33954-f0a1-49f7-a1c8-b1ea663444a2\">\n",
              "  <button class=\"colab-df-quickchart\" onclick=\"quickchart('df-c9c33954-f0a1-49f7-a1c8-b1ea663444a2')\"\n",
              "            title=\"Suggest charts\"\n",
              "            style=\"display:none;\">\n",
              "\n",
              "<svg xmlns=\"http://www.w3.org/2000/svg\" height=\"24px\"viewBox=\"0 0 24 24\"\n",
              "     width=\"24px\">\n",
              "    <g>\n",
              "        <path d=\"M19 3H5c-1.1 0-2 .9-2 2v14c0 1.1.9 2 2 2h14c1.1 0 2-.9 2-2V5c0-1.1-.9-2-2-2zM9 17H7v-7h2v7zm4 0h-2V7h2v10zm4 0h-2v-4h2v4z\"/>\n",
              "    </g>\n",
              "</svg>\n",
              "  </button>\n",
              "\n",
              "<style>\n",
              "  .colab-df-quickchart {\n",
              "      --bg-color: #E8F0FE;\n",
              "      --fill-color: #1967D2;\n",
              "      --hover-bg-color: #E2EBFA;\n",
              "      --hover-fill-color: #174EA6;\n",
              "      --disabled-fill-color: #AAA;\n",
              "      --disabled-bg-color: #DDD;\n",
              "  }\n",
              "\n",
              "  [theme=dark] .colab-df-quickchart {\n",
              "      --bg-color: #3B4455;\n",
              "      --fill-color: #D2E3FC;\n",
              "      --hover-bg-color: #434B5C;\n",
              "      --hover-fill-color: #FFFFFF;\n",
              "      --disabled-bg-color: #3B4455;\n",
              "      --disabled-fill-color: #666;\n",
              "  }\n",
              "\n",
              "  .colab-df-quickchart {\n",
              "    background-color: var(--bg-color);\n",
              "    border: none;\n",
              "    border-radius: 50%;\n",
              "    cursor: pointer;\n",
              "    display: none;\n",
              "    fill: var(--fill-color);\n",
              "    height: 32px;\n",
              "    padding: 0;\n",
              "    width: 32px;\n",
              "  }\n",
              "\n",
              "  .colab-df-quickchart:hover {\n",
              "    background-color: var(--hover-bg-color);\n",
              "    box-shadow: 0 1px 2px rgba(60, 64, 67, 0.3), 0 1px 3px 1px rgba(60, 64, 67, 0.15);\n",
              "    fill: var(--button-hover-fill-color);\n",
              "  }\n",
              "\n",
              "  .colab-df-quickchart-complete:disabled,\n",
              "  .colab-df-quickchart-complete:disabled:hover {\n",
              "    background-color: var(--disabled-bg-color);\n",
              "    fill: var(--disabled-fill-color);\n",
              "    box-shadow: none;\n",
              "  }\n",
              "\n",
              "  .colab-df-spinner {\n",
              "    border: 2px solid var(--fill-color);\n",
              "    border-color: transparent;\n",
              "    border-bottom-color: var(--fill-color);\n",
              "    animation:\n",
              "      spin 1s steps(1) infinite;\n",
              "  }\n",
              "\n",
              "  @keyframes spin {\n",
              "    0% {\n",
              "      border-color: transparent;\n",
              "      border-bottom-color: var(--fill-color);\n",
              "      border-left-color: var(--fill-color);\n",
              "    }\n",
              "    20% {\n",
              "      border-color: transparent;\n",
              "      border-left-color: var(--fill-color);\n",
              "      border-top-color: var(--fill-color);\n",
              "    }\n",
              "    30% {\n",
              "      border-color: transparent;\n",
              "      border-left-color: var(--fill-color);\n",
              "      border-top-color: var(--fill-color);\n",
              "      border-right-color: var(--fill-color);\n",
              "    }\n",
              "    40% {\n",
              "      border-color: transparent;\n",
              "      border-right-color: var(--fill-color);\n",
              "      border-top-color: var(--fill-color);\n",
              "    }\n",
              "    60% {\n",
              "      border-color: transparent;\n",
              "      border-right-color: var(--fill-color);\n",
              "    }\n",
              "    80% {\n",
              "      border-color: transparent;\n",
              "      border-right-color: var(--fill-color);\n",
              "      border-bottom-color: var(--fill-color);\n",
              "    }\n",
              "    90% {\n",
              "      border-color: transparent;\n",
              "      border-bottom-color: var(--fill-color);\n",
              "    }\n",
              "  }\n",
              "</style>\n",
              "\n",
              "  <script>\n",
              "    async function quickchart(key) {\n",
              "      const quickchartButtonEl =\n",
              "        document.querySelector('#' + key + ' button');\n",
              "      quickchartButtonEl.disabled = true;  // To prevent multiple clicks.\n",
              "      quickchartButtonEl.classList.add('colab-df-spinner');\n",
              "      try {\n",
              "        const charts = await google.colab.kernel.invokeFunction(\n",
              "            'suggestCharts', [key], {});\n",
              "      } catch (error) {\n",
              "        console.error('Error during call to suggestCharts:', error);\n",
              "      }\n",
              "      quickchartButtonEl.classList.remove('colab-df-spinner');\n",
              "      quickchartButtonEl.classList.add('colab-df-quickchart-complete');\n",
              "    }\n",
              "    (() => {\n",
              "      let quickchartButtonEl =\n",
              "        document.querySelector('#df-c9c33954-f0a1-49f7-a1c8-b1ea663444a2 button');\n",
              "      quickchartButtonEl.style.display =\n",
              "        google.colab.kernel.accessAllowed ? 'block' : 'none';\n",
              "    })();\n",
              "  </script>\n",
              "</div>\n",
              "\n",
              "    </div>\n",
              "  </div>\n"
            ],
            "application/vnd.google.colaboratory.intrinsic+json": {
              "type": "dataframe",
              "summary": "{\n  \"name\": \"X\",\n  \"rows\": 10,\n  \"fields\": [\n    {\n      \"column\": \"text\",\n      \"properties\": {\n        \"dtype\": \"string\",\n        \"num_unique_values\": 10,\n        \"samples\": [\n          \"From: annick@cortex.physiol.su.oz.au (Annick Ansselin) Subject: Re: Is MSG sensitivity superstition? Nntp-Posting-Host: cortex.physiol.su.oz.au Organization: Department of Physiology, University of Sydney, NSW, Australia Lines: 29  In <C5nFDG.8En@sdf.lonestar.org> marco@sdf.lonestar.org (Steve Giammarco) writes:  >> >>And to add further fuel to the flame war, I read about 20 years ago that >>the \\\"natural\\\" MSG - extracted from the sources you mention above - does not >>cause the reported aftereffects; it's only that nasty \\\"artificial\\\" MSG - >>extracted from coal tar or whatever - that causes Chinese Restaurant >>Syndrome.  I find this pretty hard to believe; has anyone else heard it?  MSG is mono sodium glutamate, a fairly straight forward compound. If it is pure, the source should not be a problem. Your comment suggests that  impurities may be the cause. My experience of MSG effects (as part of a double blind study) was that the pure stuff caused me some rather severe effects.  >I was under the (possibly incorrect) assumption that most of the MSG on >our foods was made from processing sugar beets. Is this not true? Are  >there other sources of MSG?  Soya bean, fermented cheeses, mushrooms all contain MSG.   >I am one of those folx who react, sometimes strongly, to MSG. However, >I also react strongly to sodium chloride (table salt) in excess. Each >causes different symptoms except for the common one of rapid heartbeat >and an uncomfortable feeling of pressure in my chest, upper left quadrant.  The symptoms I had were numbness of jaw muscles in the first instance followed by the arms then the legs, headache, lethargy and unable to keep awake. I think it may well affect people differently. \",\n          \"From: anasaz!karl@anasazi.com (Karl Dussik) Subject: Re: Is \\\"Christian\\\" a dirty word? Organization: Anasazi Inc Phx Az USA Lines: 73  In article <Mar.25.03.53.08.1993.24855@athos.rutgers.edu> @usceast.cs.scarolina.edu:moss@cs.scarolina.edu (James Moss) writes: >I was brought up christian, but I am not christian any longer. >I also have a bad taste in my mouth over christianity.  I (in >my own faith) accept and live my life by many if not most of the >teachings of christ, but I cannot let myself be called a christian, >beacuse to me too many things are done on the name of christianity, >that I can not be associated with.    A question for you - can you give me the name of an organization or a philosophy or a political movement, etc., which has never had anything evil done in its name?  You're missing a central teaching of Christianity - man is inherently sinful.  We are saved through faith by grace.  Knowing that, believing that, does not make us without sin.  Furthermore, not all who consider themselves \\\"christians\\\" are (even those who manage to head their own \\\"churches\\\").  \\\"Not everyone who says to me, 'Lord, Lord,' will enter the kingdom of heaven, but only he who does the will of my Father who is in heaven.\\\" - Matt. 7:21.  >I also have a problem with the inconsistancies in the Bible, and >how it seems to me that too many people have edited the original >documents to fit their own world views, thereby leaving the Bible >an unbelievable source.  Again, what historical documents do you trust?  Do you think Hannibal crossed the Alps?  How do you know?  How do you know for sure?  What historical documents have stood the scrutiny and the attempts to dis- credit it as well as the Bible has?  >I don't have dislike of christians (except for a few who won't >quit witnessing to me, no matter how many times I tell them to stop),  >but the christian faith/organized religion will never (as far as i can  >see at the moment) get my support.  Well, it's really a shame you feel this way.  No one can browbeat you into believing, and those who try will probably only succeed in driving you further away.  You need to ask yourself some difficult questions: 1) is there an afterlife, and if so, does man require salvation to attain it.  If the answer is yes, the next question is 2) how does man attain this salvation - can he do it on his own as the eastern religions and certain modern offshoots like the \\\"new age movement\\\" teach or does he require God's help?  3) If the latter, in what form does - indeed, in what form can such help come?  Needless to say, this discussion could take a lifetime, and for some people it did comprise their life's writings, so I am hardly in a position to offer the answers here - merely pointers to what to ask.  Few, of us manage to have an unshaken faith our entire lives (certainly not me). The spritual life is a difficult journey (if you've never read \\\"A Pilgrim's Progress,\\\" I highly recommend this greatest allegory of the english language).  >Peace and Love >In God(ess)'s name >James Moss  Now I see by your close that one possible source of trouble for you may be a conflict between your politcal beliefs and your religious upbringing.  You wrote that \\\"I (in my own faith) accept and live my life by many if not most of the teachings of christ\\\".  Well, Christ referred to God as \\\"My Father\\\", not \\\"My Mother\\\", and while the \\\"maleness\\\" of God is not the same as the maleness of those of us humans who possess a Y chromosome, it does not honor God to refer to Him as female purely to be trendy, non-discriminatory, or politically correct.  This in no way disparages women (nor is it my intent to do so by my use of the male pronoun to refer to both men and women -  english just does not have a decent neuter set of pronouns).  After all, God chose a woman as his only human partner in bringing Christ into the human population.  Well, I'm not about to launch into a detailed discussion of the role of women in Christianity at 1am with only 6 hours of sleep in the last 63, and for that reason I also apologize for any shortcomings in this article.  I just happened across yours and felt moved to reply.  I hope I may have given you, and anyone else who finds himself in a similar frame of mind, something to contemplate.  Karl Dussik \",\n          \"From: ab@nova.cc.purdue.edu (Allen B) Subject: Re: TIFF: philosophical significance of 42 Organization: Purdue University Lines: 39  In article <prestonm.735400848@cs.man.ac.uk> prestonm@cs.man.ac.uk (Martin   Preston) writes: > Why not use the PD C library for reading/writing TIFF files? It took me a > good 20 minutes to start using them in your own app.  I certainly do use it whenever I have to do TIFF, and it usually works very well.  That's not my point.  I'm >philosophically< opposed to it because of its complexity.  This complexity has led to some programs' poor TIFF writers making some very bizarre files, other programs' inability to load TIFF images (though they'll save them, of course), and a general inability to interchange images between different environments despite the fact they all think they understand TIFF.  As the saying goes, \\\"It's not me I'm worried about- it's all the >other<  assholes out there!\\\"  I've had big trouble with misuse and abuse of TIFF over the years, and I chalk it all up to the immense (and unnecessary) complexity of the format.  In the words of the TIFF 5.0 spec, Appendix G, page G-1 (capitalized emphasis mine):  \\\"The only problem with this sort of success is that TIFF was designed to be powerful and flexible, at the expense of simplicity.  It takes a fair amount of effort to handle all the options currently defined in this specification (PROBABLY NO APPLICATION DOES A COMPLETE JOB), and that is currently the only way you can be >sure< that you will be able to import any TIFF image, since there are so many image-generating applications out there now.\\\"   If a program (or worse all applications) can't read >every< TIFF image, that means there are some it won't- some that I might have to deal with.  Why would I want my images to be trapped in that format?  I don't and neither should anyone who agrees with my reasoning- not that anyone does, of course! :-)  ab \"\n        ],\n        \"semantic_type\": \"\",\n        \"description\": \"\"\n      }\n    },\n    {\n      \"column\": \"category\",\n      \"properties\": {\n        \"dtype\": \"number\",\n        \"std\": 1,\n        \"min\": 0,\n        \"max\": 3,\n        \"num_unique_values\": 4,\n        \"samples\": [\n          3,\n          0,\n          1\n        ],\n        \"semantic_type\": \"\",\n        \"description\": \"\"\n      }\n    }\n  ]\n}"
            }
          },
          "metadata": {},
          "execution_count": 29
        }
      ],
      "source": [
        "# использование loc (по позиции)\n",
        "X.iloc[::10, 0:2][0:10]"
      ]
    },
    {
      "cell_type": "markdown",
      "metadata": {
        "id": "pPmFp8oSXHdX"
      },
      "source": [
        "Вы также можете использовать функцию `loc`, чтобы явно определить столбцы, которые вы хотите запросить. Посмотрите эту [отличную дискуссию](https://stackoverflow.com/questions/28757389/pandas-loc-vs-iloc-vs-ix-vs-at-vs-iat/43968774) о различиях между функциями `iloc` и `loc`."
      ]
    },
    {
      "cell_type": "code",
      "execution_count": 30,
      "metadata": {
        "id": "4luJBZVdXHdY",
        "colab": {
          "base_uri": "https://localhost:8080/",
          "height": 398
        },
        "outputId": "59327af1-a428-4ea1-d076-e06e9484da44"
      },
      "outputs": [
        {
          "output_type": "execute_result",
          "data": {
            "text/plain": [
              "0     From: sd345@city.ac.uk (Michael Collier) Subje...\n",
              "10    From: anasaz!karl@anasazi.com (Karl Dussik) Su...\n",
              "20    From: dotsonm@dmapub.dma.org (Mark Dotson) Sub...\n",
              "30    From: vgwlu@dunsell.calgary.chevron.com (greg ...\n",
              "40    From: david-s@hsr.no (David A. Sjoen) Subject:...\n",
              "50    From: ab@nova.cc.purdue.edu (Allen B) Subject:...\n",
              "60    From: Nanci Ann Miller <nm0w+@andrew.cmu.edu> ...\n",
              "70    From: weaver@chdasic.sps.mot.com (Dave Weaver)...\n",
              "80    From: annick@cortex.physiol.su.oz.au (Annick A...\n",
              "90    Subject: Vonnegut/atheism From: dmn@kepler.unh...\n",
              "Name: text, dtype: object"
            ],
            "text/html": [
              "<div>\n",
              "<style scoped>\n",
              "    .dataframe tbody tr th:only-of-type {\n",
              "        vertical-align: middle;\n",
              "    }\n",
              "\n",
              "    .dataframe tbody tr th {\n",
              "        vertical-align: top;\n",
              "    }\n",
              "\n",
              "    .dataframe thead th {\n",
              "        text-align: right;\n",
              "    }\n",
              "</style>\n",
              "<table border=\"1\" class=\"dataframe\">\n",
              "  <thead>\n",
              "    <tr style=\"text-align: right;\">\n",
              "      <th></th>\n",
              "      <th>text</th>\n",
              "    </tr>\n",
              "  </thead>\n",
              "  <tbody>\n",
              "    <tr>\n",
              "      <th>0</th>\n",
              "      <td>From: sd345@city.ac.uk (Michael Collier) Subje...</td>\n",
              "    </tr>\n",
              "    <tr>\n",
              "      <th>10</th>\n",
              "      <td>From: anasaz!karl@anasazi.com (Karl Dussik) Su...</td>\n",
              "    </tr>\n",
              "    <tr>\n",
              "      <th>20</th>\n",
              "      <td>From: dotsonm@dmapub.dma.org (Mark Dotson) Sub...</td>\n",
              "    </tr>\n",
              "    <tr>\n",
              "      <th>30</th>\n",
              "      <td>From: vgwlu@dunsell.calgary.chevron.com (greg ...</td>\n",
              "    </tr>\n",
              "    <tr>\n",
              "      <th>40</th>\n",
              "      <td>From: david-s@hsr.no (David A. Sjoen) Subject:...</td>\n",
              "    </tr>\n",
              "    <tr>\n",
              "      <th>50</th>\n",
              "      <td>From: ab@nova.cc.purdue.edu (Allen B) Subject:...</td>\n",
              "    </tr>\n",
              "    <tr>\n",
              "      <th>60</th>\n",
              "      <td>From: Nanci Ann Miller &lt;nm0w+@andrew.cmu.edu&gt; ...</td>\n",
              "    </tr>\n",
              "    <tr>\n",
              "      <th>70</th>\n",
              "      <td>From: weaver@chdasic.sps.mot.com (Dave Weaver)...</td>\n",
              "    </tr>\n",
              "    <tr>\n",
              "      <th>80</th>\n",
              "      <td>From: annick@cortex.physiol.su.oz.au (Annick A...</td>\n",
              "    </tr>\n",
              "    <tr>\n",
              "      <th>90</th>\n",
              "      <td>Subject: Vonnegut/atheism From: dmn@kepler.unh...</td>\n",
              "    </tr>\n",
              "  </tbody>\n",
              "</table>\n",
              "</div><br><label><b>dtype:</b> object</label>"
            ]
          },
          "metadata": {},
          "execution_count": 30
        }
      ],
      "source": [
        "# использование loc (по метке)\n",
        "X.loc[::10, 'text'][0:10]"
      ]
    },
    {
      "cell_type": "code",
      "execution_count": 31,
      "metadata": {
        "id": "KYYglmjQXHdY",
        "colab": {
          "base_uri": "https://localhost:8080/",
          "height": 363
        },
        "outputId": "4ab36102-c8ee-41a8-de91-2dd34c6c0289"
      },
      "outputs": [
        {
          "output_type": "execute_result",
          "data": {
            "text/plain": [
              "                                                 text  category  \\\n",
              "0   From: sd345@city.ac.uk (Michael Collier) Subje...         1   \n",
              "10  From: anasaz!karl@anasazi.com (Karl Dussik) Su...         3   \n",
              "20  From: dotsonm@dmapub.dma.org (Mark Dotson) Sub...         3   \n",
              "30  From: vgwlu@dunsell.calgary.chevron.com (greg ...         2   \n",
              "40  From: david-s@hsr.no (David A. Sjoen) Subject:...         3   \n",
              "50  From: ab@nova.cc.purdue.edu (Allen B) Subject:...         1   \n",
              "60  From: Nanci Ann Miller <nm0w+@andrew.cmu.edu> ...         0   \n",
              "70  From: weaver@chdasic.sps.mot.com (Dave Weaver)...         3   \n",
              "80  From: annick@cortex.physiol.su.oz.au (Annick A...         2   \n",
              "90  Subject: Vonnegut/atheism From: dmn@kepler.unh...         0   \n",
              "\n",
              "             category_name  \n",
              "0            comp.graphics  \n",
              "10  soc.religion.christian  \n",
              "20  soc.religion.christian  \n",
              "30                 sci.med  \n",
              "40  soc.religion.christian  \n",
              "50           comp.graphics  \n",
              "60             alt.atheism  \n",
              "70  soc.religion.christian  \n",
              "80                 sci.med  \n",
              "90             alt.atheism  "
            ],
            "text/html": [
              "\n",
              "  <div id=\"df-03b76832-982f-49d5-bc22-52dcf81894f8\" class=\"colab-df-container\">\n",
              "    <div>\n",
              "<style scoped>\n",
              "    .dataframe tbody tr th:only-of-type {\n",
              "        vertical-align: middle;\n",
              "    }\n",
              "\n",
              "    .dataframe tbody tr th {\n",
              "        vertical-align: top;\n",
              "    }\n",
              "\n",
              "    .dataframe thead th {\n",
              "        text-align: right;\n",
              "    }\n",
              "</style>\n",
              "<table border=\"1\" class=\"dataframe\">\n",
              "  <thead>\n",
              "    <tr style=\"text-align: right;\">\n",
              "      <th></th>\n",
              "      <th>text</th>\n",
              "      <th>category</th>\n",
              "      <th>category_name</th>\n",
              "    </tr>\n",
              "  </thead>\n",
              "  <tbody>\n",
              "    <tr>\n",
              "      <th>0</th>\n",
              "      <td>From: sd345@city.ac.uk (Michael Collier) Subje...</td>\n",
              "      <td>1</td>\n",
              "      <td>comp.graphics</td>\n",
              "    </tr>\n",
              "    <tr>\n",
              "      <th>10</th>\n",
              "      <td>From: anasaz!karl@anasazi.com (Karl Dussik) Su...</td>\n",
              "      <td>3</td>\n",
              "      <td>soc.religion.christian</td>\n",
              "    </tr>\n",
              "    <tr>\n",
              "      <th>20</th>\n",
              "      <td>From: dotsonm@dmapub.dma.org (Mark Dotson) Sub...</td>\n",
              "      <td>3</td>\n",
              "      <td>soc.religion.christian</td>\n",
              "    </tr>\n",
              "    <tr>\n",
              "      <th>30</th>\n",
              "      <td>From: vgwlu@dunsell.calgary.chevron.com (greg ...</td>\n",
              "      <td>2</td>\n",
              "      <td>sci.med</td>\n",
              "    </tr>\n",
              "    <tr>\n",
              "      <th>40</th>\n",
              "      <td>From: david-s@hsr.no (David A. Sjoen) Subject:...</td>\n",
              "      <td>3</td>\n",
              "      <td>soc.religion.christian</td>\n",
              "    </tr>\n",
              "    <tr>\n",
              "      <th>50</th>\n",
              "      <td>From: ab@nova.cc.purdue.edu (Allen B) Subject:...</td>\n",
              "      <td>1</td>\n",
              "      <td>comp.graphics</td>\n",
              "    </tr>\n",
              "    <tr>\n",
              "      <th>60</th>\n",
              "      <td>From: Nanci Ann Miller &lt;nm0w+@andrew.cmu.edu&gt; ...</td>\n",
              "      <td>0</td>\n",
              "      <td>alt.atheism</td>\n",
              "    </tr>\n",
              "    <tr>\n",
              "      <th>70</th>\n",
              "      <td>From: weaver@chdasic.sps.mot.com (Dave Weaver)...</td>\n",
              "      <td>3</td>\n",
              "      <td>soc.religion.christian</td>\n",
              "    </tr>\n",
              "    <tr>\n",
              "      <th>80</th>\n",
              "      <td>From: annick@cortex.physiol.su.oz.au (Annick A...</td>\n",
              "      <td>2</td>\n",
              "      <td>sci.med</td>\n",
              "    </tr>\n",
              "    <tr>\n",
              "      <th>90</th>\n",
              "      <td>Subject: Vonnegut/atheism From: dmn@kepler.unh...</td>\n",
              "      <td>0</td>\n",
              "      <td>alt.atheism</td>\n",
              "    </tr>\n",
              "  </tbody>\n",
              "</table>\n",
              "</div>\n",
              "    <div class=\"colab-df-buttons\">\n",
              "\n",
              "  <div class=\"colab-df-container\">\n",
              "    <button class=\"colab-df-convert\" onclick=\"convertToInteractive('df-03b76832-982f-49d5-bc22-52dcf81894f8')\"\n",
              "            title=\"Convert this dataframe to an interactive table.\"\n",
              "            style=\"display:none;\">\n",
              "\n",
              "  <svg xmlns=\"http://www.w3.org/2000/svg\" height=\"24px\" viewBox=\"0 -960 960 960\">\n",
              "    <path d=\"M120-120v-720h720v720H120Zm60-500h600v-160H180v160Zm220 220h160v-160H400v160Zm0 220h160v-160H400v160ZM180-400h160v-160H180v160Zm440 0h160v-160H620v160ZM180-180h160v-160H180v160Zm440 0h160v-160H620v160Z\"/>\n",
              "  </svg>\n",
              "    </button>\n",
              "\n",
              "  <style>\n",
              "    .colab-df-container {\n",
              "      display:flex;\n",
              "      gap: 12px;\n",
              "    }\n",
              "\n",
              "    .colab-df-convert {\n",
              "      background-color: #E8F0FE;\n",
              "      border: none;\n",
              "      border-radius: 50%;\n",
              "      cursor: pointer;\n",
              "      display: none;\n",
              "      fill: #1967D2;\n",
              "      height: 32px;\n",
              "      padding: 0 0 0 0;\n",
              "      width: 32px;\n",
              "    }\n",
              "\n",
              "    .colab-df-convert:hover {\n",
              "      background-color: #E2EBFA;\n",
              "      box-shadow: 0px 1px 2px rgba(60, 64, 67, 0.3), 0px 1px 3px 1px rgba(60, 64, 67, 0.15);\n",
              "      fill: #174EA6;\n",
              "    }\n",
              "\n",
              "    .colab-df-buttons div {\n",
              "      margin-bottom: 4px;\n",
              "    }\n",
              "\n",
              "    [theme=dark] .colab-df-convert {\n",
              "      background-color: #3B4455;\n",
              "      fill: #D2E3FC;\n",
              "    }\n",
              "\n",
              "    [theme=dark] .colab-df-convert:hover {\n",
              "      background-color: #434B5C;\n",
              "      box-shadow: 0px 1px 3px 1px rgba(0, 0, 0, 0.15);\n",
              "      filter: drop-shadow(0px 1px 2px rgba(0, 0, 0, 0.3));\n",
              "      fill: #FFFFFF;\n",
              "    }\n",
              "  </style>\n",
              "\n",
              "    <script>\n",
              "      const buttonEl =\n",
              "        document.querySelector('#df-03b76832-982f-49d5-bc22-52dcf81894f8 button.colab-df-convert');\n",
              "      buttonEl.style.display =\n",
              "        google.colab.kernel.accessAllowed ? 'block' : 'none';\n",
              "\n",
              "      async function convertToInteractive(key) {\n",
              "        const element = document.querySelector('#df-03b76832-982f-49d5-bc22-52dcf81894f8');\n",
              "        const dataTable =\n",
              "          await google.colab.kernel.invokeFunction('convertToInteractive',\n",
              "                                                    [key], {});\n",
              "        if (!dataTable) return;\n",
              "\n",
              "        const docLinkHtml = 'Like what you see? Visit the ' +\n",
              "          '<a target=\"_blank\" href=https://colab.research.google.com/notebooks/data_table.ipynb>data table notebook</a>'\n",
              "          + ' to learn more about interactive tables.';\n",
              "        element.innerHTML = '';\n",
              "        dataTable['output_type'] = 'display_data';\n",
              "        await google.colab.output.renderOutput(dataTable, element);\n",
              "        const docLink = document.createElement('div');\n",
              "        docLink.innerHTML = docLinkHtml;\n",
              "        element.appendChild(docLink);\n",
              "      }\n",
              "    </script>\n",
              "  </div>\n",
              "\n",
              "\n",
              "<div id=\"df-28e28541-25c1-499f-9924-657e0826b3fd\">\n",
              "  <button class=\"colab-df-quickchart\" onclick=\"quickchart('df-28e28541-25c1-499f-9924-657e0826b3fd')\"\n",
              "            title=\"Suggest charts\"\n",
              "            style=\"display:none;\">\n",
              "\n",
              "<svg xmlns=\"http://www.w3.org/2000/svg\" height=\"24px\"viewBox=\"0 0 24 24\"\n",
              "     width=\"24px\">\n",
              "    <g>\n",
              "        <path d=\"M19 3H5c-1.1 0-2 .9-2 2v14c0 1.1.9 2 2 2h14c1.1 0 2-.9 2-2V5c0-1.1-.9-2-2-2zM9 17H7v-7h2v7zm4 0h-2V7h2v10zm4 0h-2v-4h2v4z\"/>\n",
              "    </g>\n",
              "</svg>\n",
              "  </button>\n",
              "\n",
              "<style>\n",
              "  .colab-df-quickchart {\n",
              "      --bg-color: #E8F0FE;\n",
              "      --fill-color: #1967D2;\n",
              "      --hover-bg-color: #E2EBFA;\n",
              "      --hover-fill-color: #174EA6;\n",
              "      --disabled-fill-color: #AAA;\n",
              "      --disabled-bg-color: #DDD;\n",
              "  }\n",
              "\n",
              "  [theme=dark] .colab-df-quickchart {\n",
              "      --bg-color: #3B4455;\n",
              "      --fill-color: #D2E3FC;\n",
              "      --hover-bg-color: #434B5C;\n",
              "      --hover-fill-color: #FFFFFF;\n",
              "      --disabled-bg-color: #3B4455;\n",
              "      --disabled-fill-color: #666;\n",
              "  }\n",
              "\n",
              "  .colab-df-quickchart {\n",
              "    background-color: var(--bg-color);\n",
              "    border: none;\n",
              "    border-radius: 50%;\n",
              "    cursor: pointer;\n",
              "    display: none;\n",
              "    fill: var(--fill-color);\n",
              "    height: 32px;\n",
              "    padding: 0;\n",
              "    width: 32px;\n",
              "  }\n",
              "\n",
              "  .colab-df-quickchart:hover {\n",
              "    background-color: var(--hover-bg-color);\n",
              "    box-shadow: 0 1px 2px rgba(60, 64, 67, 0.3), 0 1px 3px 1px rgba(60, 64, 67, 0.15);\n",
              "    fill: var(--button-hover-fill-color);\n",
              "  }\n",
              "\n",
              "  .colab-df-quickchart-complete:disabled,\n",
              "  .colab-df-quickchart-complete:disabled:hover {\n",
              "    background-color: var(--disabled-bg-color);\n",
              "    fill: var(--disabled-fill-color);\n",
              "    box-shadow: none;\n",
              "  }\n",
              "\n",
              "  .colab-df-spinner {\n",
              "    border: 2px solid var(--fill-color);\n",
              "    border-color: transparent;\n",
              "    border-bottom-color: var(--fill-color);\n",
              "    animation:\n",
              "      spin 1s steps(1) infinite;\n",
              "  }\n",
              "\n",
              "  @keyframes spin {\n",
              "    0% {\n",
              "      border-color: transparent;\n",
              "      border-bottom-color: var(--fill-color);\n",
              "      border-left-color: var(--fill-color);\n",
              "    }\n",
              "    20% {\n",
              "      border-color: transparent;\n",
              "      border-left-color: var(--fill-color);\n",
              "      border-top-color: var(--fill-color);\n",
              "    }\n",
              "    30% {\n",
              "      border-color: transparent;\n",
              "      border-left-color: var(--fill-color);\n",
              "      border-top-color: var(--fill-color);\n",
              "      border-right-color: var(--fill-color);\n",
              "    }\n",
              "    40% {\n",
              "      border-color: transparent;\n",
              "      border-right-color: var(--fill-color);\n",
              "      border-top-color: var(--fill-color);\n",
              "    }\n",
              "    60% {\n",
              "      border-color: transparent;\n",
              "      border-right-color: var(--fill-color);\n",
              "    }\n",
              "    80% {\n",
              "      border-color: transparent;\n",
              "      border-right-color: var(--fill-color);\n",
              "      border-bottom-color: var(--fill-color);\n",
              "    }\n",
              "    90% {\n",
              "      border-color: transparent;\n",
              "      border-bottom-color: var(--fill-color);\n",
              "    }\n",
              "  }\n",
              "</style>\n",
              "\n",
              "  <script>\n",
              "    async function quickchart(key) {\n",
              "      const quickchartButtonEl =\n",
              "        document.querySelector('#' + key + ' button');\n",
              "      quickchartButtonEl.disabled = true;  // To prevent multiple clicks.\n",
              "      quickchartButtonEl.classList.add('colab-df-spinner');\n",
              "      try {\n",
              "        const charts = await google.colab.kernel.invokeFunction(\n",
              "            'suggestCharts', [key], {});\n",
              "      } catch (error) {\n",
              "        console.error('Error during call to suggestCharts:', error);\n",
              "      }\n",
              "      quickchartButtonEl.classList.remove('colab-df-spinner');\n",
              "      quickchartButtonEl.classList.add('colab-df-quickchart-complete');\n",
              "    }\n",
              "    (() => {\n",
              "      let quickchartButtonEl =\n",
              "        document.querySelector('#df-28e28541-25c1-499f-9924-657e0826b3fd button');\n",
              "      quickchartButtonEl.style.display =\n",
              "        google.colab.kernel.accessAllowed ? 'block' : 'none';\n",
              "    })();\n",
              "  </script>\n",
              "</div>\n",
              "\n",
              "    </div>\n",
              "  </div>\n"
            ],
            "application/vnd.google.colaboratory.intrinsic+json": {
              "type": "dataframe",
              "summary": "{\n  \"name\": \"X[::10][0:10]\",\n  \"rows\": 10,\n  \"fields\": [\n    {\n      \"column\": \"text\",\n      \"properties\": {\n        \"dtype\": \"string\",\n        \"num_unique_values\": 10,\n        \"samples\": [\n          \"From: annick@cortex.physiol.su.oz.au (Annick Ansselin) Subject: Re: Is MSG sensitivity superstition? Nntp-Posting-Host: cortex.physiol.su.oz.au Organization: Department of Physiology, University of Sydney, NSW, Australia Lines: 29  In <C5nFDG.8En@sdf.lonestar.org> marco@sdf.lonestar.org (Steve Giammarco) writes:  >> >>And to add further fuel to the flame war, I read about 20 years ago that >>the \\\"natural\\\" MSG - extracted from the sources you mention above - does not >>cause the reported aftereffects; it's only that nasty \\\"artificial\\\" MSG - >>extracted from coal tar or whatever - that causes Chinese Restaurant >>Syndrome.  I find this pretty hard to believe; has anyone else heard it?  MSG is mono sodium glutamate, a fairly straight forward compound. If it is pure, the source should not be a problem. Your comment suggests that  impurities may be the cause. My experience of MSG effects (as part of a double blind study) was that the pure stuff caused me some rather severe effects.  >I was under the (possibly incorrect) assumption that most of the MSG on >our foods was made from processing sugar beets. Is this not true? Are  >there other sources of MSG?  Soya bean, fermented cheeses, mushrooms all contain MSG.   >I am one of those folx who react, sometimes strongly, to MSG. However, >I also react strongly to sodium chloride (table salt) in excess. Each >causes different symptoms except for the common one of rapid heartbeat >and an uncomfortable feeling of pressure in my chest, upper left quadrant.  The symptoms I had were numbness of jaw muscles in the first instance followed by the arms then the legs, headache, lethargy and unable to keep awake. I think it may well affect people differently. \",\n          \"From: anasaz!karl@anasazi.com (Karl Dussik) Subject: Re: Is \\\"Christian\\\" a dirty word? Organization: Anasazi Inc Phx Az USA Lines: 73  In article <Mar.25.03.53.08.1993.24855@athos.rutgers.edu> @usceast.cs.scarolina.edu:moss@cs.scarolina.edu (James Moss) writes: >I was brought up christian, but I am not christian any longer. >I also have a bad taste in my mouth over christianity.  I (in >my own faith) accept and live my life by many if not most of the >teachings of christ, but I cannot let myself be called a christian, >beacuse to me too many things are done on the name of christianity, >that I can not be associated with.    A question for you - can you give me the name of an organization or a philosophy or a political movement, etc., which has never had anything evil done in its name?  You're missing a central teaching of Christianity - man is inherently sinful.  We are saved through faith by grace.  Knowing that, believing that, does not make us without sin.  Furthermore, not all who consider themselves \\\"christians\\\" are (even those who manage to head their own \\\"churches\\\").  \\\"Not everyone who says to me, 'Lord, Lord,' will enter the kingdom of heaven, but only he who does the will of my Father who is in heaven.\\\" - Matt. 7:21.  >I also have a problem with the inconsistancies in the Bible, and >how it seems to me that too many people have edited the original >documents to fit their own world views, thereby leaving the Bible >an unbelievable source.  Again, what historical documents do you trust?  Do you think Hannibal crossed the Alps?  How do you know?  How do you know for sure?  What historical documents have stood the scrutiny and the attempts to dis- credit it as well as the Bible has?  >I don't have dislike of christians (except for a few who won't >quit witnessing to me, no matter how many times I tell them to stop),  >but the christian faith/organized religion will never (as far as i can  >see at the moment) get my support.  Well, it's really a shame you feel this way.  No one can browbeat you into believing, and those who try will probably only succeed in driving you further away.  You need to ask yourself some difficult questions: 1) is there an afterlife, and if so, does man require salvation to attain it.  If the answer is yes, the next question is 2) how does man attain this salvation - can he do it on his own as the eastern religions and certain modern offshoots like the \\\"new age movement\\\" teach or does he require God's help?  3) If the latter, in what form does - indeed, in what form can such help come?  Needless to say, this discussion could take a lifetime, and for some people it did comprise their life's writings, so I am hardly in a position to offer the answers here - merely pointers to what to ask.  Few, of us manage to have an unshaken faith our entire lives (certainly not me). The spritual life is a difficult journey (if you've never read \\\"A Pilgrim's Progress,\\\" I highly recommend this greatest allegory of the english language).  >Peace and Love >In God(ess)'s name >James Moss  Now I see by your close that one possible source of trouble for you may be a conflict between your politcal beliefs and your religious upbringing.  You wrote that \\\"I (in my own faith) accept and live my life by many if not most of the teachings of christ\\\".  Well, Christ referred to God as \\\"My Father\\\", not \\\"My Mother\\\", and while the \\\"maleness\\\" of God is not the same as the maleness of those of us humans who possess a Y chromosome, it does not honor God to refer to Him as female purely to be trendy, non-discriminatory, or politically correct.  This in no way disparages women (nor is it my intent to do so by my use of the male pronoun to refer to both men and women -  english just does not have a decent neuter set of pronouns).  After all, God chose a woman as his only human partner in bringing Christ into the human population.  Well, I'm not about to launch into a detailed discussion of the role of women in Christianity at 1am with only 6 hours of sleep in the last 63, and for that reason I also apologize for any shortcomings in this article.  I just happened across yours and felt moved to reply.  I hope I may have given you, and anyone else who finds himself in a similar frame of mind, something to contemplate.  Karl Dussik \",\n          \"From: ab@nova.cc.purdue.edu (Allen B) Subject: Re: TIFF: philosophical significance of 42 Organization: Purdue University Lines: 39  In article <prestonm.735400848@cs.man.ac.uk> prestonm@cs.man.ac.uk (Martin   Preston) writes: > Why not use the PD C library for reading/writing TIFF files? It took me a > good 20 minutes to start using them in your own app.  I certainly do use it whenever I have to do TIFF, and it usually works very well.  That's not my point.  I'm >philosophically< opposed to it because of its complexity.  This complexity has led to some programs' poor TIFF writers making some very bizarre files, other programs' inability to load TIFF images (though they'll save them, of course), and a general inability to interchange images between different environments despite the fact they all think they understand TIFF.  As the saying goes, \\\"It's not me I'm worried about- it's all the >other<  assholes out there!\\\"  I've had big trouble with misuse and abuse of TIFF over the years, and I chalk it all up to the immense (and unnecessary) complexity of the format.  In the words of the TIFF 5.0 spec, Appendix G, page G-1 (capitalized emphasis mine):  \\\"The only problem with this sort of success is that TIFF was designed to be powerful and flexible, at the expense of simplicity.  It takes a fair amount of effort to handle all the options currently defined in this specification (PROBABLY NO APPLICATION DOES A COMPLETE JOB), and that is currently the only way you can be >sure< that you will be able to import any TIFF image, since there are so many image-generating applications out there now.\\\"   If a program (or worse all applications) can't read >every< TIFF image, that means there are some it won't- some that I might have to deal with.  Why would I want my images to be trapped in that format?  I don't and neither should anyone who agrees with my reasoning- not that anyone does, of course! :-)  ab \"\n        ],\n        \"semantic_type\": \"\",\n        \"description\": \"\"\n      }\n    },\n    {\n      \"column\": \"category\",\n      \"properties\": {\n        \"dtype\": \"number\",\n        \"std\": 1,\n        \"min\": 0,\n        \"max\": 3,\n        \"num_unique_values\": 4,\n        \"samples\": [\n          3,\n          0,\n          1\n        ],\n        \"semantic_type\": \"\",\n        \"description\": \"\"\n      }\n    },\n    {\n      \"column\": \"category_name\",\n      \"properties\": {\n        \"dtype\": \"category\",\n        \"num_unique_values\": 4,\n        \"samples\": [\n          \"soc.religion.christian\",\n          \"alt.atheism\",\n          \"comp.graphics\"\n        ],\n        \"semantic_type\": \"\",\n        \"description\": \"\"\n      }\n    }\n  ]\n}"
            }
          },
          "metadata": {},
          "execution_count": 31
        }
      ],
      "source": [
        "# стандартный запрос (можно одновременно выбирать строки и столбцы)\n",
        "X[::10][0:10]"
      ]
    },
    {
      "cell_type": "markdown",
      "metadata": {
        "id": "j47F20rTXHdY"
      },
      "source": [
        "###**>>> Задание 2:**\n",
        "Поэкспериментируйте с другими методами запросов, используя фреймы данных pandas. Обратитесь к  [документации](http://pandas.geekwriter.ru/getting_started/index.html) для получения дополнительной информации."
      ]
    },
    {
      "cell_type": "code",
      "execution_count": 42,
      "metadata": {
        "id": "xVZWphfcXHdZ",
        "colab": {
          "base_uri": "https://localhost:8080/"
        },
        "outputId": "3b09eff1-5fae-4083-bf9a-31c77e3d9a2e"
      },
      "outputs": [
        {
          "output_type": "stream",
          "name": "stdout",
          "text": [
            "                                                 text  category  category_name\n",
            "0   From: sd345@city.ac.uk (Michael Collier) Subje...         1  comp.graphics\n",
            "1   From: ani@ms.uky.edu (Aniruddha B. Deglurkar) ...         1  comp.graphics\n",
            "11  From: amjad@eng.umd.edu (Amjad A Soomro) Subje...         1  comp.graphics\n",
            "14  From: sloan@cis.uab.edu (Kenneth Sloan) Subjec...         1  comp.graphics\n",
            "15  From: Mike_Peredo@mindlink.bc.ca (Mike Peredo)...         1  comp.graphics\n"
          ]
        }
      ],
      "source": [
        "# Ответ здесь\n",
        "# Фильтрация по категории\n",
        "comp_graphics_docs = X[X['category_name'] == 'comp.graphics']\n",
        "print(comp_graphics_docs.head())\n"
      ]
    },
    {
      "cell_type": "code",
      "source": [
        "# Подсчет количества документов по категориям\n",
        "category_counts = X['category_name'].value_counts()\n",
        "print(category_counts)\n"
      ],
      "metadata": {
        "colab": {
          "base_uri": "https://localhost:8080/"
        },
        "id": "zfxTqcSiHD0S",
        "outputId": "958e719f-bfa4-476c-b797-b1a78f15c3fa"
      },
      "execution_count": 43,
      "outputs": [
        {
          "output_type": "stream",
          "name": "stdout",
          "text": [
            "category_name\n",
            "soc.religion.christian    599\n",
            "sci.med                   594\n",
            "comp.graphics             584\n",
            "alt.atheism               480\n",
            "Name: count, dtype: int64\n"
          ]
        }
      ]
    },
    {
      "cell_type": "code",
      "source": [
        "# Поиск строк, содержащих слово \"graphics\"\n",
        "contains_graphics = X[X['text'].str.contains('graphics', case=False, na=False)]\n",
        "print(contains_graphics.head())\n"
      ],
      "metadata": {
        "colab": {
          "base_uri": "https://localhost:8080/"
        },
        "id": "HBzFiPbAHFwN",
        "outputId": "12951e94-6d2b-40f4-dde9-119ce9816191"
      },
      "execution_count": 44,
      "outputs": [
        {
          "output_type": "stream",
          "name": "stdout",
          "text": [
            "                                                 text  category  \\\n",
            "18  From: tom_milligan@rainbow.mentorg.com Subject...         3   \n",
            "48  From: nfotis@ntua.gr (Nick C. Fotis) Subject: ...         1   \n",
            "75  From: brr1@ns1.cc.lehigh.edu (BRANT RICHARD RI...         1   \n",
            "88  From: wbdst+@pitt.edu (William B Dwinnell) Sub...         1   \n",
            "92  From: bolson@carson.u.washington.edu (Edward B...         1   \n",
            "\n",
            "             category_name  \n",
            "18  soc.religion.christian  \n",
            "48           comp.graphics  \n",
            "75           comp.graphics  \n",
            "88           comp.graphics  \n",
            "92           comp.graphics  \n"
          ]
        }
      ]
    },
    {
      "cell_type": "code",
      "source": [
        "# Добавление столбца с длиной текста\n",
        "X['text_length'] = X['text'].apply(len)\n",
        "print(X[['text', 'text_length']].head())\n"
      ],
      "metadata": {
        "colab": {
          "base_uri": "https://localhost:8080/"
        },
        "id": "jr6IS1W-HI8Y",
        "outputId": "2869a299-7e01-41a1-8ebc-e1620b864236"
      },
      "execution_count": 45,
      "outputs": [
        {
          "output_type": "stream",
          "name": "stdout",
          "text": [
            "                                                text  text_length\n",
            "0  From: sd345@city.ac.uk (Michael Collier) Subje...          686\n",
            "1  From: ani@ms.uky.edu (Aniruddha B. Deglurkar) ...         1004\n",
            "2  From: djohnson@cs.ucsd.edu (Darin Johnson) Sub...         3200\n",
            "3  From: s0612596@let.rug.nl (M.M. Zwart) Subject...          609\n",
            "4  From: stanly@grok11.columbiasc.ncr.com (stanly...          966\n"
          ]
        }
      ]
    },
    {
      "cell_type": "code",
      "source": [
        "# Сортировка по длине текста\n",
        "sorted_X = X.sort_values(by='text_length', ascending=False)\n",
        "print(sorted_X[['text', 'text_length']].head())\n"
      ],
      "metadata": {
        "colab": {
          "base_uri": "https://localhost:8080/"
        },
        "id": "8JUUrW8VHLui",
        "outputId": "6d25f193-f5b5-4677-baa5-15cc8dadaf87"
      },
      "execution_count": 46,
      "outputs": [
        {
          "output_type": "stream",
          "name": "stdout",
          "text": [
            "                                                   text  text_length\n",
            "1890  From: nfotis@ntua.gr (Nick C. Fotis) Subject: ...        60713\n",
            "400   From: nfotis@ntua.gr (Nick C. Fotis) Subject: ...        58574\n",
            "433   From: tgl+@cs.cmu.edu (Tom Lane) Subject: JPEG...        57076\n",
            "1403  From: bobbe@vice.ICO.TEK.COM (Robert Beauchain...        51239\n",
            "768   From: nfotis@ntua.gr (Nick C. Fotis) Subject: ...        47088\n"
          ]
        }
      ]
    },
    {
      "cell_type": "code",
      "source": [
        "# Группировка по категориям и вычисление средней длины текста\n",
        "average_length_by_category = X.groupby('category_name')['text_length'].mean()\n",
        "print(average_length_by_category)\n"
      ],
      "metadata": {
        "colab": {
          "base_uri": "https://localhost:8080/"
        },
        "id": "yavTwZXrHOi_",
        "outputId": "fd67596a-f3de-4fc7-be35-53fae6354e79"
      },
      "execution_count": 47,
      "outputs": [
        {
          "output_type": "stream",
          "name": "stdout",
          "text": [
            "category_name\n",
            "alt.atheism               2167.302083\n",
            "comp.graphics             1557.083904\n",
            "sci.med                   2008.121212\n",
            "soc.religion.christian    2263.183639\n",
            "Name: text_length, dtype: float64\n"
          ]
        }
      ]
    },
    {
      "cell_type": "code",
      "source": [
        "# Уникальные категории\n",
        "unique_categories = X['category_name'].unique()\n",
        "print(unique_categories)\n"
      ],
      "metadata": {
        "colab": {
          "base_uri": "https://localhost:8080/"
        },
        "id": "P-dGuRj2HPjL",
        "outputId": "e468c224-0086-4e66-df58-dc9b48070dd8"
      },
      "execution_count": 48,
      "outputs": [
        {
          "output_type": "stream",
          "name": "stdout",
          "text": [
            "['comp.graphics' 'soc.religion.christian' 'sci.med' 'alt.atheism']\n"
          ]
        }
      ]
    },
    {
      "cell_type": "markdown",
      "metadata": {
        "id": "2YFlWl0HXHdZ"
      },
      "source": [
        "---"
      ]
    },
    {
      "cell_type": "markdown",
      "metadata": {
        "id": "jOChhK8yXHdZ"
      },
      "source": [
        "### **>>> Задание 3:**\n",
        "Попробуйте получить записи, принадлежащие категории ```sci.med```, и запросить каждую 10-ю запись. Покажите только первые 5 записей."
      ]
    },
    {
      "cell_type": "code",
      "execution_count": 50,
      "metadata": {
        "id": "3css_QR6XHdZ",
        "colab": {
          "base_uri": "https://localhost:8080/"
        },
        "outputId": "743ba330-3533-42cd-a992-1e02e41937aa"
      },
      "outputs": [
        {
          "output_type": "stream",
          "name": "stdout",
          "text": [
            "                                                  text  category  \\\n",
            "7    From: aldridge@netcom.com (Jacquelin Aldridge)...         2   \n",
            "49   From: jimj@contractor.EBay.Sun.COM (Jim Jones)...         2   \n",
            "82   From: jason@ab20.larc.nasa.gov (Jason Austin) ...         2   \n",
            "118  From: rogers@calamari.hi.com (Andrew Rogers) S...         2   \n",
            "142  From: lady@uhunix.uhcc.Hawaii.Edu (Lee Lady) S...         2   \n",
            "\n",
            "    category_name  text_length  \n",
            "7         sci.med         2929  \n",
            "49        sci.med         1087  \n",
            "82        sci.med         1664  \n",
            "118       sci.med          888  \n",
            "142       sci.med         4177  \n"
          ]
        }
      ],
      "source": [
        "# Ответ здесь\n",
        "sci_med_category = X[X['category_name'] == 'sci.med']\n",
        "filtered_records = sci_med_category.iloc[::10]\n",
        "result = filtered_records.head(5)\n",
        "print(result)\n"
      ]
    },
    {
      "cell_type": "markdown",
      "metadata": {
        "id": "i8WFf3HGXHda"
      },
      "source": [
        "---"
      ]
    }
  ]
}